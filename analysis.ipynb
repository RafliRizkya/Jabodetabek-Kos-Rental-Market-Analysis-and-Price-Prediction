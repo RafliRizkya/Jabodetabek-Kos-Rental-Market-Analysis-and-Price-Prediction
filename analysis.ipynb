{
 "cells": [
  {
   "cell_type": "code",
   "execution_count": 1,
   "metadata": {},
   "outputs": [],
   "source": [
    "import pandas as pd\n",
    "import numpy as np\n",
    "import matplotlib.pyplot as plt\n",
    "import seaborn as sns\n",
    "import plotly.express as px\n",
    "from collections import Counter\n",
    "\n",
    "from sklearn.model_selection import train_test_split\n",
    "from sklearn.preprocessing import OneHotEncoder, StandardScaler\n",
    "from statsmodels.formula.api import ols\n",
    "from sklearn.compose import ColumnTransformer\n",
    "from sklearn.metrics import mean_absolute_error, r2_score\n",
    "from statsmodels.stats.outliers_influence import variance_inflation_factor"
   ]
  },
  {
   "cell_type": "code",
   "execution_count": 2,
   "metadata": {},
   "outputs": [
    {
     "name": "stdout",
     "output_type": "stream",
     "text": [
      "Warning: Looks like you're using an outdated `kagglehub` version (installed: 0.3.10), please consider upgrading to the latest version (0.3.13).\n",
      "Path to dataset files: C:\\Users\\rafli\\.cache\\kagglehub\\datasets\\dendykurniariagman\\mamikos-jabodetabek-boarding-room-listings\\versions\\1\n"
     ]
    }
   ],
   "source": [
    "import kagglehub\n",
    "\n",
    "# Download latest version\n",
    "path = kagglehub.dataset_download(\"dendykurniariagman/mamikos-jabodetabek-boarding-room-listings\")\n",
    "\n",
    "print(\"Path to dataset files:\", path)"
   ]
  },
  {
   "cell_type": "code",
   "execution_count": 3,
   "metadata": {},
   "outputs": [],
   "source": [
    "df = pd.read_excel(r\"C:\\Users\\rafli\\.cache\\kagglehub\\datasets\\dendykurniariagman\\mamikos-jabodetabek-boarding-room-listings\\versions\\1\\Mamikos Jabodetabek Data.xlsx\")"
   ]
  },
  {
   "cell_type": "code",
   "execution_count": 4,
   "metadata": {},
   "outputs": [
    {
     "name": "stdout",
     "output_type": "stream",
     "text": [
      "<class 'pandas.core.frame.DataFrame'>\n",
      "RangeIndex: 2485 entries, 0 to 2484\n",
      "Data columns (total 17 columns):\n",
      " #   Column                    Non-Null Count  Dtype \n",
      "---  ------                    --------------  ----- \n",
      " 0   room_name                 2485 non-null   object\n",
      " 1   owner_name                2485 non-null   object\n",
      " 2   region                    2485 non-null   object\n",
      " 3   location                  2485 non-null   object\n",
      " 4   room_size                 2459 non-null   object\n",
      " 5   is_electricity_included   2462 non-null   object\n",
      " 6   price_before_discount_bs  641 non-null    object\n",
      " 7   all_facilities_bs         2464 non-null   object\n",
      " 8   room_availability_bs      2049 non-null   object\n",
      " 9   deposit_amount_bs         1690 non-null   object\n",
      " 10  price                     2485 non-null   object\n",
      " 11  rating                    2485 non-null   object\n",
      " 12  rating_count              2485 non-null   object\n",
      " 13  transaction_count         2485 non-null   object\n",
      " 14  tipe_kos                  2485 non-null   object\n",
      " 15  discount_amount           2485 non-null   object\n",
      " 16  url                       2485 non-null   object\n",
      "dtypes: object(17)\n",
      "memory usage: 330.2+ KB\n"
     ]
    }
   ],
   "source": [
    "df.info()"
   ]
  },
  {
   "cell_type": "code",
   "execution_count": 5,
   "metadata": {},
   "outputs": [
    {
     "data": {
      "text/plain": [
       "(2485, 17)"
      ]
     },
     "execution_count": 5,
     "metadata": {},
     "output_type": "execute_result"
    }
   ],
   "source": [
    "df.shape"
   ]
  },
  {
   "cell_type": "code",
   "execution_count": 6,
   "metadata": {},
   "outputs": [
    {
     "data": {
      "text/html": [
       "<div>\n",
       "<style scoped>\n",
       "    .dataframe tbody tr th:only-of-type {\n",
       "        vertical-align: middle;\n",
       "    }\n",
       "\n",
       "    .dataframe tbody tr th {\n",
       "        vertical-align: top;\n",
       "    }\n",
       "\n",
       "    .dataframe thead th {\n",
       "        text-align: right;\n",
       "    }\n",
       "</style>\n",
       "<table border=\"1\" class=\"dataframe\">\n",
       "  <thead>\n",
       "    <tr style=\"text-align: right;\">\n",
       "      <th></th>\n",
       "      <th>room_name</th>\n",
       "      <th>owner_name</th>\n",
       "      <th>region</th>\n",
       "      <th>location</th>\n",
       "      <th>room_size</th>\n",
       "      <th>is_electricity_included</th>\n",
       "      <th>price_before_discount_bs</th>\n",
       "      <th>all_facilities_bs</th>\n",
       "      <th>room_availability_bs</th>\n",
       "      <th>deposit_amount_bs</th>\n",
       "      <th>price</th>\n",
       "      <th>rating</th>\n",
       "      <th>rating_count</th>\n",
       "      <th>transaction_count</th>\n",
       "      <th>tipe_kos</th>\n",
       "      <th>discount_amount</th>\n",
       "      <th>url</th>\n",
       "    </tr>\n",
       "  </thead>\n",
       "  <tbody>\n",
       "    <tr>\n",
       "      <th>count</th>\n",
       "      <td>2485</td>\n",
       "      <td>2485</td>\n",
       "      <td>2485</td>\n",
       "      <td>2485</td>\n",
       "      <td>2459</td>\n",
       "      <td>2462</td>\n",
       "      <td>641</td>\n",
       "      <td>2464</td>\n",
       "      <td>2049</td>\n",
       "      <td>1690</td>\n",
       "      <td>2485</td>\n",
       "      <td>2485</td>\n",
       "      <td>2485</td>\n",
       "      <td>2485</td>\n",
       "      <td>2485</td>\n",
       "      <td>2485</td>\n",
       "      <td>2485</td>\n",
       "    </tr>\n",
       "    <tr>\n",
       "      <th>unique</th>\n",
       "      <td>2311</td>\n",
       "      <td>948</td>\n",
       "      <td>10</td>\n",
       "      <td>207</td>\n",
       "      <td>355</td>\n",
       "      <td>2</td>\n",
       "      <td>163</td>\n",
       "      <td>2258</td>\n",
       "      <td>6</td>\n",
       "      <td>77</td>\n",
       "      <td>489</td>\n",
       "      <td>27</td>\n",
       "      <td>79</td>\n",
       "      <td>124</td>\n",
       "      <td>3</td>\n",
       "      <td>157</td>\n",
       "      <td>2311</td>\n",
       "    </tr>\n",
       "    <tr>\n",
       "      <th>top</th>\n",
       "      <td>Kost Ruma Cemara VVIP Cikarang Selatan Bekasi</td>\n",
       "      <td>Kos dikelola oleh Dida</td>\n",
       "      <td>Bekasi</td>\n",
       "      <td>Cikarang Selatan</td>\n",
       "      <td>3 x 3 meter</td>\n",
       "      <td>Tidak termasuk listrik</td>\n",
       "      <td>Rp1.825.000</td>\n",
       "      <td>3.5 x 5 meter; Tidak termasuk listrik; AC; Kas...</td>\n",
       "      <td>Tersisa1 kamar</td>\n",
       "      <td>Rp300.000</td>\n",
       "      <td>Rp1.500.000</td>\n",
       "      <td>Not found</td>\n",
       "      <td>Not found</td>\n",
       "      <td>Not found</td>\n",
       "      <td>Kos Campur</td>\n",
       "      <td>Not found</td>\n",
       "      <td>https://mamikos.com/room/kost-kabupaten-bekasi...</td>\n",
       "    </tr>\n",
       "    <tr>\n",
       "      <th>freq</th>\n",
       "      <td>10</td>\n",
       "      <td>414</td>\n",
       "      <td>315</td>\n",
       "      <td>131</td>\n",
       "      <td>571</td>\n",
       "      <td>1928</td>\n",
       "      <td>36</td>\n",
       "      <td>8</td>\n",
       "      <td>616</td>\n",
       "      <td>460</td>\n",
       "      <td>113</td>\n",
       "      <td>733</td>\n",
       "      <td>1362</td>\n",
       "      <td>923</td>\n",
       "      <td>1409</td>\n",
       "      <td>1347</td>\n",
       "      <td>10</td>\n",
       "    </tr>\n",
       "  </tbody>\n",
       "</table>\n",
       "</div>"
      ],
      "text/plain": [
       "                                            room_name              owner_name  \\\n",
       "count                                            2485                    2485   \n",
       "unique                                           2311                     948   \n",
       "top     Kost Ruma Cemara VVIP Cikarang Selatan Bekasi  Kos dikelola oleh Dida   \n",
       "freq                                               10                     414   \n",
       "\n",
       "        region          location    room_size is_electricity_included  \\\n",
       "count     2485              2485         2459                    2462   \n",
       "unique      10               207          355                       2   \n",
       "top     Bekasi  Cikarang Selatan  3 x 3 meter  Tidak termasuk listrik   \n",
       "freq       315               131          571                    1928   \n",
       "\n",
       "       price_before_discount_bs  \\\n",
       "count                       641   \n",
       "unique                      163   \n",
       "top                 Rp1.825.000   \n",
       "freq                         36   \n",
       "\n",
       "                                        all_facilities_bs  \\\n",
       "count                                                2464   \n",
       "unique                                               2258   \n",
       "top     3.5 x 5 meter; Tidak termasuk listrik; AC; Kas...   \n",
       "freq                                                    8   \n",
       "\n",
       "       room_availability_bs deposit_amount_bs        price     rating  \\\n",
       "count                  2049              1690         2485       2485   \n",
       "unique                    6                77          489         27   \n",
       "top          Tersisa1 kamar         Rp300.000  Rp1.500.000  Not found   \n",
       "freq                    616               460          113        733   \n",
       "\n",
       "       rating_count transaction_count    tipe_kos discount_amount  \\\n",
       "count          2485              2485        2485            2485   \n",
       "unique           79               124           3             157   \n",
       "top       Not found         Not found  Kos Campur       Not found   \n",
       "freq           1362               923        1409            1347   \n",
       "\n",
       "                                                      url  \n",
       "count                                                2485  \n",
       "unique                                               2311  \n",
       "top     https://mamikos.com/room/kost-kabupaten-bekasi...  \n",
       "freq                                                   10  "
      ]
     },
     "execution_count": 6,
     "metadata": {},
     "output_type": "execute_result"
    }
   ],
   "source": [
    "df.describe()"
   ]
  },
  {
   "cell_type": "markdown",
   "metadata": {},
   "source": [
    "## Data Cleaning"
   ]
  },
  {
   "cell_type": "code",
   "execution_count": 7,
   "metadata": {},
   "outputs": [
    {
     "name": "stdout",
     "output_type": "stream",
     "text": [
      "\n",
      "data unik di rating yang banyak not found\n",
      "['Not found' '1.0' '4.8' '5.0' '4.1' '4.0' '4.6' '3.6' '4.9' '3.4' '4.5'\n",
      " '3.8' '4.4' '4.3' '3.5' '3.1' '2.5' '3.9' '1.9' '2.9' '2.1' '2.0' '1.5'\n",
      " '1.3' '3.0' '3.3' '1.4']\n",
      "\n",
      "data unik di rating_count yang banyak not found\n",
      "['Not found' '(5)' '(1)' '(31)' '(4)' '(11)' '(7)' '(21)' '(9)' '(6)'\n",
      " '(13)' '(8)' '(32)' '(0)' '(3)' '(40)' '(2)' '(65)' '(30)' '(22)' '(51)'\n",
      " '(35)' '(12)' '(16)' '(15)' '(19)' '(14)' '(45)' '(25)' '(10)' '(27)'\n",
      " '(18)' '(17)' '(23)' '(28)' '(46)' '(42)' '(20)' '(24)' '(50)' '(48)'\n",
      " '(39)' '(59)' '(33)' '(47)' '(29)' '(72)' '(26)' '(60)' '(103)' '(71)'\n",
      " '(68)' '(36)' '(66)' '(142)' '(58)' '(74)' '(43)' '(49)' '(93)' '(104)'\n",
      " '(86)' '(62)' '(34)' '(106)' '(57)' '(73)' '(126)' '(37)' '(61)' '(54)'\n",
      " '(63)' '(38)' '(70)' '(102)' '(117)' '(83)' '(109)' '(44)']\n",
      "\n",
      "data unik di transaction_count yang banyak not found\n",
      "['Not found' '22 transaksi berhasil di kos ini'\n",
      " '13 transaksi berhasil di kos ini' '12 transaksi berhasil di kos ini'\n",
      " '1 transaksi berhasil di kos ini' '2 transaksi berhasil di kos ini'\n",
      " '81 transaksi berhasil di kos ini' '9 transaksi berhasil di kos ini'\n",
      " '3 transaksi berhasil di kos ini' '5 transaksi berhasil di kos ini'\n",
      " '4 transaksi berhasil di kos ini' '23 transaksi berhasil di kos ini'\n",
      " '8 transaksi berhasil di kos ini' '35 transaksi berhasil di kos ini'\n",
      " '17 transaksi berhasil di kos ini' '19 transaksi berhasil di kos ini'\n",
      " '10 transaksi berhasil di kos ini' '27 transaksi berhasil di kos ini'\n",
      " '80 transaksi berhasil di kos ini' '85 transaksi berhasil di kos ini'\n",
      " '15 transaksi berhasil di kos ini' '18 transaksi berhasil di kos ini'\n",
      " '128 transaksi berhasil di kos ini' '24 transaksi berhasil di kos ini'\n",
      " '34 transaksi berhasil di kos ini' '45 transaksi berhasil di kos ini'\n",
      " '49 transaksi berhasil di kos ini' '14 transaksi berhasil di kos ini'\n",
      " '6 transaksi berhasil di kos ini' '36 transaksi berhasil di kos ini'\n",
      " '63 transaksi berhasil di kos ini' '7 transaksi berhasil di kos ini'\n",
      " '16 transaksi berhasil di kos ini' '25 transaksi berhasil di kos ini'\n",
      " '42 transaksi berhasil di kos ini' '29 transaksi berhasil di kos ini'\n",
      " '39 transaksi berhasil di kos ini' '76 transaksi berhasil di kos ini'\n",
      " '40 transaksi berhasil di kos ini' '50 transaksi berhasil di kos ini'\n",
      " '44 transaksi berhasil di kos ini' '101 transaksi berhasil di kos ini'\n",
      " '55 transaksi berhasil di kos ini' '57 transaksi berhasil di kos ini'\n",
      " '37 transaksi berhasil di kos ini' '84 transaksi berhasil di kos ini'\n",
      " '65 transaksi berhasil di kos ini' '21 transaksi berhasil di kos ini'\n",
      " '59 transaksi berhasil di kos ini' '95 transaksi berhasil di kos ini'\n",
      " '110 transaksi berhasil di kos ini' '53 transaksi berhasil di kos ini'\n",
      " '158 transaksi berhasil di kos ini' '28 transaksi berhasil di kos ini'\n",
      " '31 transaksi berhasil di kos ini' '11 transaksi berhasil di kos ini'\n",
      " '30 transaksi berhasil di kos ini' '71 transaksi berhasil di kos ini'\n",
      " '26 transaksi berhasil di kos ini' '33 transaksi berhasil di kos ini'\n",
      " '97 transaksi berhasil di kos ini' '51 transaksi berhasil di kos ini'\n",
      " '159 transaksi berhasil di kos ini' '74 transaksi berhasil di kos ini'\n",
      " '93 transaksi berhasil di kos ini' '20 transaksi berhasil di kos ini'\n",
      " '64 transaksi berhasil di kos ini' '102 transaksi berhasil di kos ini'\n",
      " '54 transaksi berhasil di kos ini' '32 transaksi berhasil di kos ini'\n",
      " '38 transaksi berhasil di kos ini' '41 transaksi berhasil di kos ini'\n",
      " '180 transaksi berhasil di kos ini' '133 transaksi berhasil di kos ini'\n",
      " '112 transaksi berhasil di kos ini' '66 transaksi berhasil di kos ini'\n",
      " '62 transaksi berhasil di kos ini' '46 transaksi berhasil di kos ini'\n",
      " '117 transaksi berhasil di kos ini' '86 transaksi berhasil di kos ini'\n",
      " '89 transaksi berhasil di kos ini' '77 transaksi berhasil di kos ini'\n",
      " '216 transaksi berhasil di kos ini' '48 transaksi berhasil di kos ini'\n",
      " '122 transaksi berhasil di kos ini' '155 transaksi berhasil di kos ini'\n",
      " '68 transaksi berhasil di kos ini' '47 transaksi berhasil di kos ini'\n",
      " '43 transaksi berhasil di kos ini' '72 transaksi berhasil di kos ini'\n",
      " '90 transaksi berhasil di kos ini' '56 transaksi berhasil di kos ini'\n",
      " '109 transaksi berhasil di kos ini' '210 transaksi berhasil di kos ini'\n",
      " '208 transaksi berhasil di kos ini' '94 transaksi berhasil di kos ini'\n",
      " '60 transaksi berhasil di kos ini' '205 transaksi berhasil di kos ini'\n",
      " '87 transaksi berhasil di kos ini' '111 transaksi berhasil di kos ini'\n",
      " '79 transaksi berhasil di kos ini' '96 transaksi berhasil di kos ini'\n",
      " '69 transaksi berhasil di kos ini' '115 transaksi berhasil di kos ini'\n",
      " '130 transaksi berhasil di kos ini' '186 transaksi berhasil di kos ini'\n",
      " '70 transaksi berhasil di kos ini' '108 transaksi berhasil di kos ini'\n",
      " '52 transaksi berhasil di kos ini' '88 transaksi berhasil di kos ini'\n",
      " '83 transaksi berhasil di kos ini' '78 transaksi berhasil di kos ini'\n",
      " '143 transaksi berhasil di kos ini' '73 transaksi berhasil di kos ini'\n",
      " '245 transaksi berhasil di kos ini' '222 transaksi berhasil di kos ini'\n",
      " '75 transaksi berhasil di kos ini' '58 transaksi berhasil di kos ini'\n",
      " '92 transaksi berhasil di kos ini' '67 transaksi berhasil di kos ini'\n",
      " '99 transaksi berhasil di kos ini' '198 transaksi berhasil di kos ini'\n",
      " '224 transaksi berhasil di kos ini' '140 transaksi berhasil di kos ini']\n",
      "\n",
      "data unik di discount_amount yang banyak not found\n",
      "['Not found' 'Diskon 256rb' 'Diskon 304rb' 'Diskon 193rb' 'Diskon 113rb'\n",
      " 'Diskon 90rb' 'Diskon 78rb' 'Diskon 179rb' 'Diskon 114rb' 'Diskon 95rb'\n",
      " 'Diskon 65rb' 'Diskon 60rb' 'Diskon 40rb' 'Diskon 48rb' 'Diskon 92rb'\n",
      " 'Diskon 88rb' 'Diskon 50rb' 'Diskon 120rb' 'Diskon 70rb' 'Diskon 54rb'\n",
      " 'Diskon 104rb' 'Diskon 66rb' 'Diskon 144rb' 'Diskon 71rb' 'Diskon 77rb'\n",
      " 'Diskon 105rb' 'Diskon 100rb' 'Diskon 72rb' 'Diskon 80rb' 'Diskon 85rb'\n",
      " 'Diskon 52rb' 'Diskon 55rb' 'Diskon 68rb' 'Diskon 32rb' 'Diskon 112rb'\n",
      " 'Diskon 84rb' 'Diskon 41rb' 'Diskon 75rb' 'Diskon 63rb' 'Diskon 36rb'\n",
      " 'Diskon 96rb' 'Diskon 38rb' 'Diskon 103rb' 'Diskon 76rb' 'Diskon 45rb'\n",
      " 'Diskon 172rb' 'Diskon 53rb' 'Diskon 56rb' 'Diskon 160rb' 'Diskon 106rb'\n",
      " 'Diskon 124rb' 'Diskon 152rb' 'Diskon 89rb' 'Diskon 163rb' 'Diskon 130rb'\n",
      " 'Diskon 93rb' 'Diskon 59rb' 'Diskon 87rb' 'Diskon 110rb' 'Diskon 200rb'\n",
      " 'Diskon 115rb' 'Diskon 125rb' 'Diskon 62rb' 'Diskon 67rb' 'Diskon 82rb'\n",
      " 'Diskon 140rb' 'Diskon 58rb' 'Diskon 43rb' 'Diskon 108rb' 'Diskon 64rb'\n",
      " 'Diskon 168rb' 'Diskon 83rb' 'Diskon 98rb' 'Diskon 170rb' 'Diskon 136rb'\n",
      " 'Diskon 128rb' 'Diskon 150rb' 'Diskon 288rb' 'Diskon 118rb'\n",
      " 'Diskon 138rb' 'Diskon 151rb' 'Diskon 184rb' 'Diskon 81rb' 'Diskon 272rb'\n",
      " 'Diskon 236rb' 'Diskon 270rb' 'Diskon 74rb' 'Diskon 116rb' 'Diskon 101rb'\n",
      " 'Diskon 73rb' 'Diskon 180rb' 'Diskon 230rb' 'Diskon 192rb' 'Diskon 250rb'\n",
      " 'Diskon 220rb' 'Diskon 145rb' 'Diskon 148rb' 'Diskon 164rb'\n",
      " 'Diskon 185rb' 'Diskon 142rb' 'Diskon 210rb' 'Diskon 107rb'\n",
      " 'Diskon 175rb' 'Diskon 79rb' 'Diskon 178rb' 'Diskon 165rb' 'Diskon 102rb'\n",
      " 'Diskon 135rb' 'Diskon 146rb' 'Diskon 117rb' 'Diskon 212rb'\n",
      " 'Diskon 216rb' 'Diskon 280rb' 'Diskon 176rb' 'Diskon 360rb'\n",
      " 'Diskon 158rb' 'Diskon 99rb' 'Diskon 234rb' 'Diskon 224rb' 'Diskon 188rb'\n",
      " 'Diskon 252rb' 'Diskon 111rb' 'Diskon 154rb' 'Diskon 206rb'\n",
      " 'Diskon 284rb' 'Diskon 228rb' 'Diskon 320rb' 'Diskon 240rb'\n",
      " 'Diskon 153rb' 'Diskon 255rb' 'Diskon 122rb' 'Diskon 194rb'\n",
      " 'Diskon 305rb' 'Diskon 380rb' 'Diskon 248rb' 'Diskon 143rb'\n",
      " 'Diskon 276rb' 'Diskon 208rb' 'Diskon 155rb' 'Diskon 159rb'\n",
      " 'Diskon 132rb' 'Diskon 260rb' 'Diskon 190rb' 'Diskon 361rb'\n",
      " 'Diskon 186rb' 'Diskon 480rb' 'Diskon 123rb' 'Diskon 133rb' 'Diskon 91rb'\n",
      " 'Diskon 290rb' 'Diskon 119rb' 'Diskon 198rb' 'Diskon 350rb'\n",
      " 'Diskon 298rb' 'Diskon 285rb' 'Diskon 232rb' 'Diskon 222rb']\n"
     ]
    }
   ],
   "source": [
    "not_found_col = ['rating', 'rating_count', 'transaction_count', 'discount_amount']\n",
    "\n",
    "for col in not_found_col:\n",
    "    print(f'\\ndata unik di {col} yang banyak not found')\n",
    "    print(df[col].unique())\n"
   ]
  },
  {
   "cell_type": "code",
   "execution_count": 8,
   "metadata": {},
   "outputs": [
    {
     "data": {
      "text/plain": [
       "array([nan, 'Kamar penuh', 'Tersisa1 kamar', 'Tersisa2 kamar',\n",
       "       'Kamar penuh,lihat kos lainnya',\n",
       "       'Kamar penuh,lihat tipe kamar lainnya', 'Tersisa3 kamar'],\n",
       "      dtype=object)"
      ]
     },
     "execution_count": 8,
     "metadata": {},
     "output_type": "execute_result"
    }
   ],
   "source": [
    "df['room_availability_bs'].unique()"
   ]
  },
  {
   "cell_type": "code",
   "execution_count": 9,
   "metadata": {},
   "outputs": [
    {
     "data": {
      "text/html": [
       "<div>\n",
       "<style scoped>\n",
       "    .dataframe tbody tr th:only-of-type {\n",
       "        vertical-align: middle;\n",
       "    }\n",
       "\n",
       "    .dataframe tbody tr th {\n",
       "        vertical-align: top;\n",
       "    }\n",
       "\n",
       "    .dataframe thead th {\n",
       "        text-align: right;\n",
       "    }\n",
       "</style>\n",
       "<table border=\"1\" class=\"dataframe\">\n",
       "  <thead>\n",
       "    <tr style=\"text-align: right;\">\n",
       "      <th></th>\n",
       "      <th>region</th>\n",
       "      <th>location</th>\n",
       "      <th>all_facilities_bs</th>\n",
       "      <th>room_availability_bs</th>\n",
       "      <th>price</th>\n",
       "      <th>rating</th>\n",
       "      <th>rating_count</th>\n",
       "      <th>transaction_count</th>\n",
       "      <th>tipe_kos</th>\n",
       "      <th>room_area</th>\n",
       "      <th>is_discount</th>\n",
       "    </tr>\n",
       "  </thead>\n",
       "  <tbody>\n",
       "    <tr>\n",
       "      <th>0</th>\n",
       "      <td>Bogor</td>\n",
       "      <td>Babakan Madang</td>\n",
       "      <td>3 x 4 meter; Termasuk listrik; Kasur; Bantal; ...</td>\n",
       "      <td>0.0</td>\n",
       "      <td>950000</td>\n",
       "      <td>0.0</td>\n",
       "      <td>0.0</td>\n",
       "      <td>0.0</td>\n",
       "      <td>Kos Campur</td>\n",
       "      <td>12.0</td>\n",
       "      <td>0</td>\n",
       "    </tr>\n",
       "    <tr>\n",
       "      <th>1</th>\n",
       "      <td>Depok</td>\n",
       "      <td>Cinere</td>\n",
       "      <td>4 x 3 meter; Tidak termasuk listrik; AC; Kasur...</td>\n",
       "      <td>0.0</td>\n",
       "      <td>1100000</td>\n",
       "      <td>0.0</td>\n",
       "      <td>0.0</td>\n",
       "      <td>0.0</td>\n",
       "      <td>Kos Putra</td>\n",
       "      <td>12.0</td>\n",
       "      <td>0</td>\n",
       "    </tr>\n",
       "    <tr>\n",
       "      <th>2</th>\n",
       "      <td>Tangerang Selatan</td>\n",
       "      <td>Kecamatan Pondok Aren</td>\n",
       "      <td>3 x 3 meter; Tidak termasuk listrik; AC; Kasur...</td>\n",
       "      <td>1.0</td>\n",
       "      <td>1100000</td>\n",
       "      <td>0.0</td>\n",
       "      <td>0.0</td>\n",
       "      <td>0.0</td>\n",
       "      <td>Kos Putra</td>\n",
       "      <td>9.0</td>\n",
       "      <td>0</td>\n",
       "    </tr>\n",
       "    <tr>\n",
       "      <th>3</th>\n",
       "      <td>Bogor</td>\n",
       "      <td>Babakan Madang</td>\n",
       "      <td>3 x 4 meter; Termasuk listrik; Kasur; Lemari B...</td>\n",
       "      <td>2.0</td>\n",
       "      <td>700000</td>\n",
       "      <td>0.0</td>\n",
       "      <td>0.0</td>\n",
       "      <td>0.0</td>\n",
       "      <td>Kos Campur</td>\n",
       "      <td>12.0</td>\n",
       "      <td>0</td>\n",
       "    </tr>\n",
       "    <tr>\n",
       "      <th>4</th>\n",
       "      <td>Tangerang Selatan</td>\n",
       "      <td>Kecamatan Serpong Utara</td>\n",
       "      <td>2 x 3 meter; Termasuk listrik; AC; Kasur; Lema...</td>\n",
       "      <td>2.0</td>\n",
       "      <td>1500000</td>\n",
       "      <td>0.0</td>\n",
       "      <td>0.0</td>\n",
       "      <td>0.0</td>\n",
       "      <td>Kos Putra</td>\n",
       "      <td>6.0</td>\n",
       "      <td>0</td>\n",
       "    </tr>\n",
       "  </tbody>\n",
       "</table>\n",
       "</div>"
      ],
      "text/plain": [
       "              region                 location  \\\n",
       "0              Bogor           Babakan Madang   \n",
       "1              Depok                   Cinere   \n",
       "2  Tangerang Selatan    Kecamatan Pondok Aren   \n",
       "3              Bogor           Babakan Madang   \n",
       "4  Tangerang Selatan  Kecamatan Serpong Utara   \n",
       "\n",
       "                                   all_facilities_bs  room_availability_bs  \\\n",
       "0  3 x 4 meter; Termasuk listrik; Kasur; Bantal; ...                   0.0   \n",
       "1  4 x 3 meter; Tidak termasuk listrik; AC; Kasur...                   0.0   \n",
       "2  3 x 3 meter; Tidak termasuk listrik; AC; Kasur...                   1.0   \n",
       "3  3 x 4 meter; Termasuk listrik; Kasur; Lemari B...                   2.0   \n",
       "4  2 x 3 meter; Termasuk listrik; AC; Kasur; Lema...                   2.0   \n",
       "\n",
       "     price  rating  rating_count  transaction_count    tipe_kos  room_area  \\\n",
       "0   950000     0.0           0.0                0.0  Kos Campur       12.0   \n",
       "1  1100000     0.0           0.0                0.0   Kos Putra       12.0   \n",
       "2  1100000     0.0           0.0                0.0   Kos Putra        9.0   \n",
       "3   700000     0.0           0.0                0.0  Kos Campur       12.0   \n",
       "4  1500000     0.0           0.0                0.0   Kos Putra        6.0   \n",
       "\n",
       "   is_discount  \n",
       "0            0  \n",
       "1            0  \n",
       "2            0  \n",
       "3            0  \n",
       "4            0  "
      ]
     },
     "execution_count": 9,
     "metadata": {},
     "output_type": "execute_result"
    }
   ],
   "source": [
    "#fill kolom price\n",
    "df['price'] = pd.to_numeric(df['price'].str.replace('Rp','',regex=False)\\\n",
    "                    .str.replace('.','',regex=False))\n",
    "#fill kolom discount\n",
    "df['discount_amount'] = df['discount_amount'].replace('Not found', 0)\\\n",
    "                        .str.extract(r'(\\d+)')\\\n",
    "                        .astype(float).fillna(0) * 1000\n",
    "#price before discount\n",
    "df['price_before_discount_bs'] = df['price'] + df['discount_amount']\n",
    "#fill kolom rating\n",
    "df['rating'] = df['rating'].replace('Not found', 0).astype(float).fillna(0)\n",
    "#fill kolom rating_count\n",
    "df['rating_count'] = df['rating_count'].replace('Not found', 0)\\\n",
    "                     .str.replace(r'[()]', '', regex=True)\\\n",
    "                     .astype(float).fillna(0)\n",
    "#konsistensi rating (kalau rating_count = 0 maka rating = 0)\n",
    "df.loc[df['rating_count'] == 0, 'rating'] = 0\n",
    "#fill kolom transaction_count\n",
    "df['transaction_count'] = df['transaction_count'].replace('Not found', 0)\\\n",
    "                          .str.extract(r'(\\d+)')\\\n",
    "                          .astype(float).fillna(0)\n",
    "#hitung room_area\n",
    "df[['length', 'width']] = df['room_size'].str.extract(r'([\\d\\.]+)\\s*x\\s*([\\d\\.]+)').astype(float)\n",
    "df['room_area'] = df['length'] * df['width']\n",
    "#buat kolom is_discount\n",
    "df['is_discount'] = (df['discount_amount'] > 0).astype(int)\n",
    "df['room_availability_bs'] = df['room_availability_bs'].map({\n",
    "    'Kamar penuh': 0,\n",
    "    'Tersisa1 kamar': 1,\n",
    "    'Tersisa2 kamar': 2,\n",
    "    'Kamar penuh,lihat kos lainnya': 0,\n",
    "    'Kamar penuh,lihat tipe kamar lainnya': 0,\n",
    "    'Tersisa3 kamar': 3\n",
    "}).fillna(0)  # kalau NaN jadi 0 juga\n",
    "#drop kolom yang udah ga kepake\n",
    "df = df.drop(columns= ['room_name', 'owner_name','is_electricity_included', 'room_size', 'length', 'width', 'price_before_discount_bs', 'discount_amount', 'deposit_amount_bs', 'url'])\n",
    "\n",
    "df.head()\n"
   ]
  },
  {
   "cell_type": "code",
   "execution_count": 10,
   "metadata": {},
   "outputs": [
    {
     "data": {
      "text/plain": [
       "all_facilities_bs    0.85\n",
       "room_area            1.05\n",
       "dtype: float64"
      ]
     },
     "execution_count": 10,
     "metadata": {},
     "output_type": "execute_result"
    }
   ],
   "source": [
    "missing_values = df.isnull().sum()\n",
    "\n",
    "missing_values = (missing_values[missing_values > 1] / len(df) * 100).round(2)\n",
    "\n",
    "col_missing_values = missing_values.index.tolist()\n",
    "\n",
    "missing_values\n"
   ]
  },
  {
   "cell_type": "code",
   "execution_count": 11,
   "metadata": {},
   "outputs": [],
   "source": [
    "#fill missing values\n",
    "df['all_facilities_bs'] = df['all_facilities_bs'].fillna('unknown')\n",
    "df['room_area'] = df['room_area'].fillna(df['room_area'].mode().iloc[0])"
   ]
  },
  {
   "cell_type": "code",
   "execution_count": 12,
   "metadata": {},
   "outputs": [
    {
     "data": {
      "image/png": "[encoded data removed]",
      "text/plain": [
       "<Figure size 1600x800 with 5 Axes>"
      ]
     },
     "metadata": {},
     "output_type": "display_data"
    },
    {
     "data": {
      "image/png": "[encoded data removed]",
      "text/plain": [
       "<Figure size 1600x800 with 5 Axes>"
      ]
     },
     "metadata": {},
     "output_type": "display_data"
    }
   ],
   "source": [
    "numeric_col = ['price',\t'rating', 'rating_count', 'transaction_count', 'room_area']\n",
    "\n",
    "def create_histogram_boxplot(df, numeric_col):\n",
    "\n",
    "    plt.figure(figsize=(16,8))\n",
    "\n",
    "    for i, col in enumerate(numeric_col, 1):\n",
    "        plt.subplot(2,3,i)\n",
    "\n",
    "        sns.histplot(data = df,\n",
    "                     x = col,\n",
    "                     bins= 20,\n",
    "                     kde= True)\n",
    "        \n",
    "        plt.title(f'Histogram: {col.replace('_', ' ')}', fontsize = 14)\n",
    "        plt.xlabel(col.replace('_', ' '), fontsize = 12)\n",
    "        plt.ylabel('Count', fontsize = 12)\n",
    "        \n",
    "    plt.suptitle(f'Histogram', fontsize = 16, fontweight = 'bold')\n",
    "    plt.tight_layout()\n",
    "    plt.show()\n",
    "\n",
    "    plt.figure(figsize=(16,8))\n",
    "\n",
    "    for i, col in enumerate(numeric_col, 1):\n",
    "        plt.subplot(2,3,i)\n",
    "\n",
    "        sns.boxplot(data = df,\n",
    "                     x = col\n",
    "                     )\n",
    "        \n",
    "        plt.title(f'Box Plot: {col.replace('_', ' ')}', fontsize = 14)\n",
    "        plt.xlabel(col.replace('_', ' '), fontsize = 12)\n",
    "        plt.ylabel('Count', fontsize = 12)\n",
    "        \n",
    "    plt.suptitle(f'Box Plot', fontsize = 16, fontweight = 'bold')\n",
    "    plt.tight_layout()\n",
    "    plt.show()\n",
    "\n",
    "create_histogram_boxplot(df, numeric_col)"
   ]
  },
  {
   "cell_type": "markdown",
   "metadata": {},
   "source": [
    "terdata data yang aneh (outliers) pada kolom price & room area"
   ]
  },
  {
   "cell_type": "code",
   "execution_count": 13,
   "metadata": {},
   "outputs": [
    {
     "data": {
      "text/html": [
       "<div>\n",
       "<style scoped>\n",
       "    .dataframe tbody tr th:only-of-type {\n",
       "        vertical-align: middle;\n",
       "    }\n",
       "\n",
       "    .dataframe tbody tr th {\n",
       "        vertical-align: top;\n",
       "    }\n",
       "\n",
       "    .dataframe thead th {\n",
       "        text-align: right;\n",
       "    }\n",
       "</style>\n",
       "<table border=\"1\" class=\"dataframe\">\n",
       "  <thead>\n",
       "    <tr style=\"text-align: right;\">\n",
       "      <th></th>\n",
       "      <th>region</th>\n",
       "      <th>location</th>\n",
       "      <th>all_facilities_bs</th>\n",
       "      <th>room_availability_bs</th>\n",
       "      <th>price</th>\n",
       "      <th>rating</th>\n",
       "      <th>rating_count</th>\n",
       "      <th>transaction_count</th>\n",
       "      <th>tipe_kos</th>\n",
       "      <th>room_area</th>\n",
       "      <th>is_discount</th>\n",
       "    </tr>\n",
       "  </thead>\n",
       "  <tbody>\n",
       "    <tr>\n",
       "      <th>2469</th>\n",
       "      <td>Tangerang Selatan</td>\n",
       "      <td>Ciputat Timur</td>\n",
       "      <td>4 x 4 meter; Termasuk listrik; Kasur; Meja; Di...</td>\n",
       "      <td>2.0</td>\n",
       "      <td>12300000</td>\n",
       "      <td>0.0</td>\n",
       "      <td>0.0</td>\n",
       "      <td>0.0</td>\n",
       "      <td>Kos Putri</td>\n",
       "      <td>16.0</td>\n",
       "      <td>0</td>\n",
       "    </tr>\n",
       "  </tbody>\n",
       "</table>\n",
       "</div>"
      ],
      "text/plain": [
       "                 region       location  \\\n",
       "2469  Tangerang Selatan  Ciputat Timur   \n",
       "\n",
       "                                      all_facilities_bs  room_availability_bs  \\\n",
       "2469  4 x 4 meter; Termasuk listrik; Kasur; Meja; Di...                   2.0   \n",
       "\n",
       "         price  rating  rating_count  transaction_count   tipe_kos  room_area  \\\n",
       "2469  12300000     0.0           0.0                0.0  Kos Putri       16.0   \n",
       "\n",
       "      is_discount  \n",
       "2469            0  "
      ]
     },
     "execution_count": 13,
     "metadata": {},
     "output_type": "execute_result"
    }
   ],
   "source": [
    "df[df['price'] == df['price'].max()]"
   ]
  },
  {
   "cell_type": "code",
   "execution_count": 14,
   "metadata": {},
   "outputs": [
    {
     "data": {
      "text/html": [
       "<div>\n",
       "<style scoped>\n",
       "    .dataframe tbody tr th:only-of-type {\n",
       "        vertical-align: middle;\n",
       "    }\n",
       "\n",
       "    .dataframe tbody tr th {\n",
       "        vertical-align: top;\n",
       "    }\n",
       "\n",
       "    .dataframe thead th {\n",
       "        text-align: right;\n",
       "    }\n",
       "</style>\n",
       "<table border=\"1\" class=\"dataframe\">\n",
       "  <thead>\n",
       "    <tr style=\"text-align: right;\">\n",
       "      <th></th>\n",
       "      <th>region</th>\n",
       "      <th>location</th>\n",
       "      <th>all_facilities_bs</th>\n",
       "      <th>room_availability_bs</th>\n",
       "      <th>price</th>\n",
       "      <th>rating</th>\n",
       "      <th>rating_count</th>\n",
       "      <th>transaction_count</th>\n",
       "      <th>tipe_kos</th>\n",
       "      <th>room_area</th>\n",
       "      <th>is_discount</th>\n",
       "    </tr>\n",
       "  </thead>\n",
       "  <tbody>\n",
       "    <tr>\n",
       "      <th>409</th>\n",
       "      <td>Bogor</td>\n",
       "      <td>Sukaraja</td>\n",
       "      <td>40 x 40 meter; Tidak termasuk listrik; Jendela...</td>\n",
       "      <td>0.0</td>\n",
       "      <td>900000</td>\n",
       "      <td>0.0</td>\n",
       "      <td>0.0</td>\n",
       "      <td>0.0</td>\n",
       "      <td>Kos Campur</td>\n",
       "      <td>1600.0</td>\n",
       "      <td>0</td>\n",
       "    </tr>\n",
       "    <tr>\n",
       "      <th>2476</th>\n",
       "      <td>Bekasi</td>\n",
       "      <td>Kecamatan Serang Baru</td>\n",
       "      <td>30 x 60 meter; Tidak termasuk listrik; Ventila...</td>\n",
       "      <td>1.0</td>\n",
       "      <td>1100000</td>\n",
       "      <td>0.0</td>\n",
       "      <td>0.0</td>\n",
       "      <td>0.0</td>\n",
       "      <td>Kos Campur</td>\n",
       "      <td>1800.0</td>\n",
       "      <td>0</td>\n",
       "    </tr>\n",
       "  </tbody>\n",
       "</table>\n",
       "</div>"
      ],
      "text/plain": [
       "      region               location  \\\n",
       "409    Bogor               Sukaraja   \n",
       "2476  Bekasi  Kecamatan Serang Baru   \n",
       "\n",
       "                                      all_facilities_bs  room_availability_bs  \\\n",
       "409   40 x 40 meter; Tidak termasuk listrik; Jendela...                   0.0   \n",
       "2476  30 x 60 meter; Tidak termasuk listrik; Ventila...                   1.0   \n",
       "\n",
       "        price  rating  rating_count  transaction_count    tipe_kos  room_area  \\\n",
       "409    900000     0.0           0.0                0.0  Kos Campur     1600.0   \n",
       "2476  1100000     0.0           0.0                0.0  Kos Campur     1800.0   \n",
       "\n",
       "      is_discount  \n",
       "409             0  \n",
       "2476            0  "
      ]
     },
     "execution_count": 14,
     "metadata": {},
     "output_type": "execute_result"
    }
   ],
   "source": [
    "df[df['room_area'] > 100]"
   ]
  },
  {
   "cell_type": "markdown",
   "metadata": {},
   "source": [
    "untuk data price yang diatas 10 juta, dan room area diatas 100 M, saya memutuskan untuk menghapus datanya, karena saya anggap data itu adalah outlier"
   ]
  },
  {
   "cell_type": "code",
   "execution_count": 15,
   "metadata": {},
   "outputs": [],
   "source": [
    "df = df.drop([2469, 409, 2476])"
   ]
  },
  {
   "cell_type": "markdown",
   "metadata": {},
   "source": [
    "Use Cases:\n",
    "\n",
    "• Price Benchmarking: Compare kos rental prices across Jabodetabek.\n",
    "\n",
    "• Location Trends: Spot which regions/subdistricts have higher kos density or price clusters.\n",
    "\n",
    "• Amenities Analysis: See which facilities (WiFi, AC, furniture) are most common and how they affect price.\n",
    "\n",
    "• Predictive Modeling: Build machine learning models to estimate kos price."
   ]
  },
  {
   "cell_type": "markdown",
   "metadata": {},
   "source": [
    "### Price Benchmarking across JaBoDeTaBek"
   ]
  },
  {
   "cell_type": "code",
   "execution_count": 16,
   "metadata": {},
   "outputs": [],
   "source": [
    "region_map = {\n",
    "    'Jakarta Barat': 'Jakarta',\n",
    "    'Jakarta Utara': 'Jakarta',\n",
    "    'Jakarta Selatan': 'Jakarta',\n",
    "    'Jakarta Timur': 'Jakarta',\n",
    "    'Jakarta Pusat': 'Jakarta',\n",
    "    'Tangerang Selatan': 'Tangerang',\n",
    "    'Tangerang': 'Tangerang',\n",
    "    'Bekasi': 'Bekasi',\n",
    "    'Depok': 'Depok',\n",
    "    'Bogor': 'Bogor'\n",
    "}\n",
    "\n",
    "df['region_group'] = df['region'].map(region_map)"
   ]
  },
  {
   "cell_type": "code",
   "execution_count": 17,
   "metadata": {},
   "outputs": [],
   "source": [
    "jabodetabek = (\n",
    "    df.groupby('region_group', as_index=False)\n",
    "      .agg({\n",
    "          'price': ['median', 'mean']\n",
    "      })\n",
    ")\n",
    "\n",
    "# rapihin nama kolom\n",
    "jabodetabek.columns = ['region_group', 'median_price', 'mean_price']\n",
    "\n",
    "jabodetabek = jabodetabek.sort_values('median_price', ascending=False).reset_index(drop=True)\n"
   ]
  },
  {
   "cell_type": "code",
   "execution_count": 18,
   "metadata": {},
   "outputs": [
    {
     "data": {
      "image/png": "[encoded data removed]",
      "text/plain": [
       "<Figure size 800x600 with 1 Axes>"
      ]
     },
     "metadata": {},
     "output_type": "display_data"
    }
   ],
   "source": [
    "plt.figure(figsize=(8,6))\n",
    "\n",
    "ax = sns.barplot(data = jabodetabek,\n",
    "            x = 'region_group',\n",
    "            y = 'median_price')\n",
    "\n",
    "plt.title('Perbandingan Harga Median di Wilayah Jabodetabek', fontsize = 14)\n",
    "plt.xlabel('Region', fontsize = 12)\n",
    "plt.ylabel('Median Price', fontsize = 12)\n",
    "\n",
    "for container in ax.containers:\n",
    "    ax.bar_label(container, label_type= 'edge', padding= 3)\n",
    "\n",
    "plt.tight_layout()\n",
    "plt.show()"
   ]
  },
  {
   "cell_type": "code",
   "execution_count": 19,
   "metadata": {},
   "outputs": [
    {
     "data": {
      "image/png": "[encoded data removed]",
      "text/plain": [
       "<Figure size 800x600 with 1 Axes>"
      ]
     },
     "metadata": {},
     "output_type": "display_data"
    }
   ],
   "source": [
    "plt.figure(figsize=(8,6))\n",
    "\n",
    "ax = sns.barplot(data = jabodetabek,\n",
    "            x = 'region_group',\n",
    "            y = 'mean_price')\n",
    "\n",
    "plt.title('Perbandingan Harga Rata-Rata di Wilayah Jabodetabek', fontsize = 14)\n",
    "plt.xlabel('Region', fontsize = 12)\n",
    "plt.ylabel('Mean Price', fontsize = 12)\n",
    "\n",
    "for container in ax.containers:\n",
    "    ax.bar_label(container, label_type= 'edge', padding= 3)\n",
    "\n",
    "plt.tight_layout()\n",
    "plt.show()"
   ]
  },
  {
   "cell_type": "markdown",
   "metadata": {},
   "source": [
    "- Jakarta memiliki harga kos paling tinggi baik dari sisi median (Rp1,77 juta) maupun mean (Rp1,91 juta). Ini menunjukkan pasar kos di Jakarta cenderung premium, dengan keberadaan kos eksklusif yang mendorong rata-rata harga lebih tinggi.\n",
    "\n",
    "- Bogor menjadi wilayah dengan harga kos paling rendah, baik median maupun mean (sekitar Rp1 juta–Rp1,17 juta). Hal ini mengindikasikan Bogor lebih cocok sebagai area kos dengan segmen harga terjangkau, kemungkinan besar banyak ditujukan untuk mahasiswa dan pekerja dengan budget terbatas.\n",
    "\n",
    "- Tangerang, Bekasi, dan Depok berada pada level menengah (Rp1,3–1,4 juta). Ketiga wilayah ini relatif stabil dan dapat dikategorikan sebagai pasar kos kelas menengah.\n",
    "\n",
    "- Perbedaan signifikan antara median dan mean di Jakarta menunjukkan adanya keberadaan kos dengan harga sangat tinggi (outlier) yang memengaruhi rata-rata, sehingga Jakarta memiliki pasar kos yang lebih beragam dari sisi segmentasi."
   ]
  },
  {
   "cell_type": "markdown",
   "metadata": {},
   "source": [
    "### region have higher kos density or price clusters."
   ]
  },
  {
   "cell_type": "code",
   "execution_count": 20,
   "metadata": {},
   "outputs": [
    {
     "data": {
      "text/html": [
       "<div>\n",
       "<style scoped>\n",
       "    .dataframe tbody tr th:only-of-type {\n",
       "        vertical-align: middle;\n",
       "    }\n",
       "\n",
       "    .dataframe tbody tr th {\n",
       "        vertical-align: top;\n",
       "    }\n",
       "\n",
       "    .dataframe thead th {\n",
       "        text-align: right;\n",
       "    }\n",
       "</style>\n",
       "<table border=\"1\" class=\"dataframe\">\n",
       "  <thead>\n",
       "    <tr style=\"text-align: right;\">\n",
       "      <th></th>\n",
       "      <th>region</th>\n",
       "      <th>total_kos</th>\n",
       "      <th>median_price</th>\n",
       "    </tr>\n",
       "  </thead>\n",
       "  <tbody>\n",
       "    <tr>\n",
       "      <th>0</th>\n",
       "      <td>Bekasi</td>\n",
       "      <td>314</td>\n",
       "      <td>1325000.0</td>\n",
       "    </tr>\n",
       "    <tr>\n",
       "      <th>1</th>\n",
       "      <td>Bogor</td>\n",
       "      <td>233</td>\n",
       "      <td>1000000.0</td>\n",
       "    </tr>\n",
       "    <tr>\n",
       "      <th>2</th>\n",
       "      <td>Depok</td>\n",
       "      <td>238</td>\n",
       "      <td>1300000.0</td>\n",
       "    </tr>\n",
       "    <tr>\n",
       "      <th>3</th>\n",
       "      <td>Jakarta Barat</td>\n",
       "      <td>231</td>\n",
       "      <td>1957000.0</td>\n",
       "    </tr>\n",
       "    <tr>\n",
       "      <th>4</th>\n",
       "      <td>Jakarta Pusat</td>\n",
       "      <td>229</td>\n",
       "      <td>1850000.0</td>\n",
       "    </tr>\n",
       "    <tr>\n",
       "      <th>5</th>\n",
       "      <td>Jakarta Selatan</td>\n",
       "      <td>241</td>\n",
       "      <td>2210000.0</td>\n",
       "    </tr>\n",
       "    <tr>\n",
       "      <th>6</th>\n",
       "      <td>Jakarta Timur</td>\n",
       "      <td>298</td>\n",
       "      <td>1497250.0</td>\n",
       "    </tr>\n",
       "    <tr>\n",
       "      <th>7</th>\n",
       "      <td>Jakarta Utara</td>\n",
       "      <td>234</td>\n",
       "      <td>1612500.0</td>\n",
       "    </tr>\n",
       "    <tr>\n",
       "      <th>8</th>\n",
       "      <td>Tangerang</td>\n",
       "      <td>234</td>\n",
       "      <td>1400000.0</td>\n",
       "    </tr>\n",
       "    <tr>\n",
       "      <th>9</th>\n",
       "      <td>Tangerang Selatan</td>\n",
       "      <td>230</td>\n",
       "      <td>1365000.0</td>\n",
       "    </tr>\n",
       "  </tbody>\n",
       "</table>\n",
       "</div>"
      ],
      "text/plain": [
       "              region  total_kos  median_price\n",
       "0             Bekasi        314     1325000.0\n",
       "1              Bogor        233     1000000.0\n",
       "2              Depok        238     1300000.0\n",
       "3      Jakarta Barat        231     1957000.0\n",
       "4      Jakarta Pusat        229     1850000.0\n",
       "5    Jakarta Selatan        241     2210000.0\n",
       "6      Jakarta Timur        298     1497250.0\n",
       "7      Jakarta Utara        234     1612500.0\n",
       "8          Tangerang        234     1400000.0\n",
       "9  Tangerang Selatan        230     1365000.0"
      ]
     },
     "execution_count": 20,
     "metadata": {},
     "output_type": "execute_result"
    }
   ],
   "source": [
    "density_df = df.groupby('region').agg(\n",
    "    total_kos=('region', 'size'),\n",
    "    median_price=('price', 'median')\n",
    ").reset_index()\n",
    "\n",
    "density_df"
   ]
  },
  {
   "cell_type": "code",
   "execution_count": 21,
   "metadata": {},
   "outputs": [
    {
     "data": {
      "text/html": [
       "<div>\n",
       "<style scoped>\n",
       "    .dataframe tbody tr th:only-of-type {\n",
       "        vertical-align: middle;\n",
       "    }\n",
       "\n",
       "    .dataframe tbody tr th {\n",
       "        vertical-align: top;\n",
       "    }\n",
       "\n",
       "    .dataframe thead th {\n",
       "        text-align: right;\n",
       "    }\n",
       "</style>\n",
       "<table border=\"1\" class=\"dataframe\">\n",
       "  <thead>\n",
       "    <tr style=\"text-align: right;\">\n",
       "      <th></th>\n",
       "      <th>region</th>\n",
       "      <th>total_kos</th>\n",
       "      <th>median_price</th>\n",
       "      <th>lat</th>\n",
       "      <th>lon</th>\n",
       "    </tr>\n",
       "  </thead>\n",
       "  <tbody>\n",
       "    <tr>\n",
       "      <th>0</th>\n",
       "      <td>Bekasi</td>\n",
       "      <td>314</td>\n",
       "      <td>1325000.0</td>\n",
       "      <td>-6.2383</td>\n",
       "      <td>106.9756</td>\n",
       "    </tr>\n",
       "    <tr>\n",
       "      <th>1</th>\n",
       "      <td>Bogor</td>\n",
       "      <td>233</td>\n",
       "      <td>1000000.0</td>\n",
       "      <td>-6.5971</td>\n",
       "      <td>106.8060</td>\n",
       "    </tr>\n",
       "    <tr>\n",
       "      <th>2</th>\n",
       "      <td>Depok</td>\n",
       "      <td>238</td>\n",
       "      <td>1300000.0</td>\n",
       "      <td>-6.4025</td>\n",
       "      <td>106.7942</td>\n",
       "    </tr>\n",
       "    <tr>\n",
       "      <th>3</th>\n",
       "      <td>Jakarta Barat</td>\n",
       "      <td>231</td>\n",
       "      <td>1957000.0</td>\n",
       "      <td>-6.1683</td>\n",
       "      <td>106.7589</td>\n",
       "    </tr>\n",
       "    <tr>\n",
       "      <th>4</th>\n",
       "      <td>Jakarta Pusat</td>\n",
       "      <td>229</td>\n",
       "      <td>1850000.0</td>\n",
       "      <td>-6.1865</td>\n",
       "      <td>106.8346</td>\n",
       "    </tr>\n",
       "    <tr>\n",
       "      <th>5</th>\n",
       "      <td>Jakarta Selatan</td>\n",
       "      <td>241</td>\n",
       "      <td>2210000.0</td>\n",
       "      <td>-6.2607</td>\n",
       "      <td>106.8106</td>\n",
       "    </tr>\n",
       "    <tr>\n",
       "      <th>6</th>\n",
       "      <td>Jakarta Timur</td>\n",
       "      <td>298</td>\n",
       "      <td>1497250.0</td>\n",
       "      <td>-6.2250</td>\n",
       "      <td>106.9004</td>\n",
       "    </tr>\n",
       "    <tr>\n",
       "      <th>7</th>\n",
       "      <td>Jakarta Utara</td>\n",
       "      <td>234</td>\n",
       "      <td>1612500.0</td>\n",
       "      <td>-6.1228</td>\n",
       "      <td>106.9115</td>\n",
       "    </tr>\n",
       "    <tr>\n",
       "      <th>8</th>\n",
       "      <td>Tangerang</td>\n",
       "      <td>234</td>\n",
       "      <td>1400000.0</td>\n",
       "      <td>-6.1783</td>\n",
       "      <td>106.6319</td>\n",
       "    </tr>\n",
       "    <tr>\n",
       "      <th>9</th>\n",
       "      <td>Tangerang Selatan</td>\n",
       "      <td>230</td>\n",
       "      <td>1365000.0</td>\n",
       "      <td>-6.2886</td>\n",
       "      <td>106.7179</td>\n",
       "    </tr>\n",
       "  </tbody>\n",
       "</table>\n",
       "</div>"
      ],
      "text/plain": [
       "              region  total_kos  median_price     lat       lon\n",
       "0             Bekasi        314     1325000.0 -6.2383  106.9756\n",
       "1              Bogor        233     1000000.0 -6.5971  106.8060\n",
       "2              Depok        238     1300000.0 -6.4025  106.7942\n",
       "3      Jakarta Barat        231     1957000.0 -6.1683  106.7589\n",
       "4      Jakarta Pusat        229     1850000.0 -6.1865  106.8346\n",
       "5    Jakarta Selatan        241     2210000.0 -6.2607  106.8106\n",
       "6      Jakarta Timur        298     1497250.0 -6.2250  106.9004\n",
       "7      Jakarta Utara        234     1612500.0 -6.1228  106.9115\n",
       "8          Tangerang        234     1400000.0 -6.1783  106.6319\n",
       "9  Tangerang Selatan        230     1365000.0 -6.2886  106.7179"
      ]
     },
     "execution_count": 21,
     "metadata": {},
     "output_type": "execute_result"
    }
   ],
   "source": [
    "region_coords = {\n",
    "    \"Jakarta Selatan\": {\"lat\": -6.2607, \"lon\": 106.8106},\n",
    "    \"Jakarta Barat\": {\"lat\": -6.1683, \"lon\": 106.7589},\n",
    "    \"Jakarta Timur\": {\"lat\": -6.2250, \"lon\": 106.9004},\n",
    "    \"Jakarta Utara\": {\"lat\": -6.1228, \"lon\": 106.9115},\n",
    "    \"Jakarta Pusat\": {\"lat\": -6.1865, \"lon\": 106.8346},\n",
    "    \"Bekasi\": {\"lat\": -6.2383, \"lon\": 106.9756},\n",
    "    \"Depok\": {\"lat\": -6.4025, \"lon\": 106.7942},\n",
    "    \"Tangerang\": {\"lat\": -6.1783, \"lon\": 106.6319},\n",
    "    \"Tangerang Selatan\": {\"lat\": -6.2886, \"lon\": 106.7179},\n",
    "    \"Bogor\": {\"lat\": -6.5971, \"lon\": 106.8060},\n",
    "}\n",
    "\n",
    "coords = pd.DataFrame(region_coords)\n",
    "\n",
    "coords = coords.T.reset_index()\n",
    "\n",
    "coords.columns = ['region', 'lat', 'lon']\n",
    "\n",
    "density_df = pd.merge(density_df, coords, on = 'region')\n",
    "\n",
    "density_df"
   ]
  },
  {
   "cell_type": "code",
   "execution_count": 22,
   "metadata": {},
   "outputs": [
    {
     "data": {
      "application/vnd.plotly.v1+json": {
       "config": {
        "plotlyServerURL": "https://plot.ly"
       },
       "data": [
        {
         "hovertemplate": "<b>%{hovertext}</b><br><br>region=Bekasi<br>total_kos=%{text}<br>median_price=%{y}<extra></extra>",
         "hovertext": [
          "Bekasi"
         ],
         "legendgroup": "Bekasi",
         "marker": {
          "color": "#636efa",
          "size": {
           "bdata": "OgE=",
           "dtype": "i2"
          },
          "sizemode": "area",
          "sizeref": 0.1256,
          "symbol": "circle"
         },
         "mode": "markers+text",
         "name": "Bekasi",
         "orientation": "v",
         "showlegend": true,
         "text": {
          "bdata": "AAAAAACgc0A=",
          "dtype": "f8"
         },
         "type": "scatter",
         "x": {
          "bdata": "OgE=",
          "dtype": "i2"
         },
         "xaxis": "x",
         "y": {
          "bdata": "AAAAAMg3NEE=",
          "dtype": "f8"
         },
         "yaxis": "y"
        },
        {
         "hovertemplate": "<b>%{hovertext}</b><br><br>region=Bogor<br>total_kos=%{text}<br>median_price=%{y}<extra></extra>",
         "hovertext": [
          "Bogor"
         ],
         "legendgroup": "Bogor",
         "marker": {
          "color": "#EF553B",
          "size": {
           "bdata": "6QA=",
           "dtype": "i2"
          },
          "sizemode": "area",
          "sizeref": 0.1256,
          "symbol": "circle"
         },
         "mode": "markers+text",
         "name": "Bogor",
         "orientation": "v",
         "showlegend": true,
         "text": {
          "bdata": "AAAAAAAgbUA=",
          "dtype": "f8"
         },
         "type": "scatter",
         "x": {
          "bdata": "6QA=",
          "dtype": "i2"
         },
         "xaxis": "x",
         "y": {
          "bdata": "AAAAAICELkE=",
          "dtype": "f8"
         },
         "yaxis": "y"
        },
        {
         "hovertemplate": "<b>%{hovertext}</b><br><br>region=Depok<br>total_kos=%{text}<br>median_price=%{y}<extra></extra>",
         "hovertext": [
          "Depok"
         ],
         "legendgroup": "Depok",
         "marker": {
          "color": "#00cc96",
          "size": {
           "bdata": "7gA=",
           "dtype": "i2"
          },
          "sizemode": "area",
          "sizeref": 0.1256,
          "symbol": "circle"
         },
         "mode": "markers+text",
         "name": "Depok",
         "orientation": "v",
         "showlegend": true,
         "text": {
          "bdata": "AAAAAADAbUA=",
          "dtype": "f8"
         },
         "type": "scatter",
         "x": {
          "bdata": "7gA=",
          "dtype": "i2"
         },
         "xaxis": "x",
         "y": {
          "bdata": "AAAAACDWM0E=",
          "dtype": "f8"
         },
         "yaxis": "y"
        },
        {
         "hovertemplate": "<b>%{hovertext}</b><br><br>region=Jakarta Barat<br>total_kos=%{text}<br>median_price=%{y}<extra></extra>",
         "hovertext": [
          "Jakarta Barat"
         ],
         "legendgroup": "Jakarta Barat",
         "marker": {
          "color": "#ab63fa",
          "size": {
           "bdata": "5wA=",
           "dtype": "i2"
          },
          "sizemode": "area",
          "sizeref": 0.1256,
          "symbol": "circle"
         },
         "mode": "markers+text",
         "name": "Jakarta Barat",
         "orientation": "v",
         "showlegend": true,
         "text": {
          "bdata": "AAAAAADgbEA=",
          "dtype": "f8"
         },
         "type": "scatter",
         "x": {
          "bdata": "5wA=",
          "dtype": "i2"
         },
         "xaxis": "x",
         "y": {
          "bdata": "AAAAAIjcPUE=",
          "dtype": "f8"
         },
         "yaxis": "y"
        },
        {
         "hovertemplate": "<b>%{hovertext}</b><br><br>region=Jakarta Pusat<br>total_kos=%{text}<br>median_price=%{y}<extra></extra>",
         "hovertext": [
          "Jakarta Pusat"
         ],
         "legendgroup": "Jakarta Pusat",
         "marker": {
          "color": "#FFA15A",
          "size": {
           "bdata": "5QA=",
           "dtype": "i2"
          },
          "sizemode": "area",
          "sizeref": 0.1256,
          "symbol": "circle"
         },
         "mode": "markers+text",
         "name": "Jakarta Pusat",
         "orientation": "v",
         "showlegend": true,
         "text": {
          "bdata": "AAAAAACgbEA=",
          "dtype": "f8"
         },
         "type": "scatter",
         "x": {
          "bdata": "5QA=",
          "dtype": "i2"
         },
         "xaxis": "x",
         "y": {
          "bdata": "AAAAAJA6PEE=",
          "dtype": "f8"
         },
         "yaxis": "y"
        },
        {
         "hovertemplate": "<b>%{hovertext}</b><br><br>region=Jakarta Selatan<br>total_kos=%{text}<br>median_price=%{y}<extra></extra>",
         "hovertext": [
          "Jakarta Selatan"
         ],
         "legendgroup": "Jakarta Selatan",
         "marker": {
          "color": "#19d3f3",
          "size": {
           "bdata": "8QA=",
           "dtype": "i2"
          },
          "sizemode": "area",
          "sizeref": 0.1256,
          "symbol": "circle"
         },
         "mode": "markers+text",
         "name": "Jakarta Selatan",
         "orientation": "v",
         "showlegend": true,
         "text": {
          "bdata": "AAAAAAAgbkA=",
          "dtype": "f8"
         },
         "type": "scatter",
         "x": {
          "bdata": "8QA=",
          "dtype": "i2"
         },
         "xaxis": "x",
         "y": {
          "bdata": "AAAAAGjcQEE=",
          "dtype": "f8"
         },
         "yaxis": "y"
        },
        {
         "hovertemplate": "<b>%{hovertext}</b><br><br>region=Jakarta Timur<br>total_kos=%{text}<br>median_price=%{y}<extra></extra>",
         "hovertext": [
          "Jakarta Timur"
         ],
         "legendgroup": "Jakarta Timur",
         "marker": {
          "color": "#FF6692",
          "size": {
           "bdata": "KgE=",
           "dtype": "i2"
          },
          "sizemode": "area",
          "sizeref": 0.1256,
          "symbol": "circle"
         },
         "mode": "markers+text",
         "name": "Jakarta Timur",
         "orientation": "v",
         "showlegend": true,
         "text": {
          "bdata": "AAAAAACgckA=",
          "dtype": "f8"
         },
         "type": "scatter",
         "x": {
          "bdata": "KgE=",
          "dtype": "i2"
         },
         "xaxis": "x",
         "y": {
          "bdata": "AAAAAKLYNkE=",
          "dtype": "f8"
         },
         "yaxis": "y"
        },
        {
         "hovertemplate": "<b>%{hovertext}</b><br><br>region=Jakarta Utara<br>total_kos=%{text}<br>median_price=%{y}<extra></extra>",
         "hovertext": [
          "Jakarta Utara"
         ],
         "legendgroup": "Jakarta Utara",
         "marker": {
          "color": "#B6E880",
          "size": {
           "bdata": "6gA=",
           "dtype": "i2"
          },
          "sizemode": "area",
          "sizeref": 0.1256,
          "symbol": "circle"
         },
         "mode": "markers+text",
         "name": "Jakarta Utara",
         "orientation": "v",
         "showlegend": true,
         "text": {
          "bdata": "AAAAAABAbUA=",
          "dtype": "f8"
         },
         "type": "scatter",
         "x": {
          "bdata": "6gA=",
          "dtype": "i2"
         },
         "xaxis": "x",
         "y": {
          "bdata": "AAAAANSaOEE=",
          "dtype": "f8"
         },
         "yaxis": "y"
        },
        {
         "hovertemplate": "<b>%{hovertext}</b><br><br>region=Tangerang<br>total_kos=%{text}<br>median_price=%{y}<extra></extra>",
         "hovertext": [
          "Tangerang"
         ],
         "legendgroup": "Tangerang",
         "marker": {
          "color": "#FF97FF",
          "size": {
           "bdata": "6gA=",
           "dtype": "i2"
          },
          "sizemode": "area",
          "sizeref": 0.1256,
          "symbol": "circle"
         },
         "mode": "markers+text",
         "name": "Tangerang",
         "orientation": "v",
         "showlegend": true,
         "text": {
          "bdata": "AAAAAABAbUA=",
          "dtype": "f8"
         },
         "type": "scatter",
         "x": {
          "bdata": "6gA=",
          "dtype": "i2"
         },
         "xaxis": "x",
         "y": {
          "bdata": "AAAAAMBcNUE=",
          "dtype": "f8"
         },
         "yaxis": "y"
        },
        {
         "hovertemplate": "<b>%{hovertext}</b><br><br>region=Tangerang Selatan<br>total_kos=%{text}<br>median_price=%{y}<extra></extra>",
         "hovertext": [
          "Tangerang Selatan"
         ],
         "legendgroup": "Tangerang Selatan",
         "marker": {
          "color": "#FECB52",
          "size": {
           "bdata": "5gA=",
           "dtype": "i2"
          },
          "sizemode": "area",
          "sizeref": 0.1256,
          "symbol": "circle"
         },
         "mode": "markers+text",
         "name": "Tangerang Selatan",
         "orientation": "v",
         "showlegend": true,
         "text": {
          "bdata": "AAAAAADAbEA=",
          "dtype": "f8"
         },
         "type": "scatter",
         "x": {
          "bdata": "5gA=",
          "dtype": "i2"
         },
         "xaxis": "x",
         "y": {
          "bdata": "AAAAAAjUNEE=",
          "dtype": "f8"
         },
         "yaxis": "y"
        }
       ],
       "layout": {
        "legend": {
         "itemsizing": "constant",
         "title": {
          "text": "region"
         },
         "tracegroupgap": 0
        },
        "margin": {
         "t": 60
        },
        "template": {
         "data": {
          "bar": [
           {
            "error_x": {
             "color": "#2a3f5f"
            },
            "error_y": {
             "color": "#2a3f5f"
            },
            "marker": {
             "line": {
              "color": "#E5ECF6",
              "width": 0.5
             },
             "pattern": {
              "fillmode": "overlay",
              "size": 10,
              "solidity": 0.2
             }
            },
            "type": "bar"
           }
          ],
          "barpolar": [
           {
            "marker": {
             "line": {
              "color": "#E5ECF6",
              "width": 0.5
             },
             "pattern": {
              "fillmode": "overlay",
              "size": 10,
              "solidity": 0.2
             }
            },
            "type": "barpolar"
           }
          ],
          "carpet": [
           {
            "aaxis": {
             "endlinecolor": "#2a3f5f",
             "gridcolor": "white",
             "linecolor": "white",
             "minorgridcolor": "white",
             "startlinecolor": "#2a3f5f"
            },
            "baxis": {
             "endlinecolor": "#2a3f5f",
             "gridcolor": "white",
             "linecolor": "white",
             "minorgridcolor": "white",
             "startlinecolor": "#2a3f5f"
            },
            "type": "carpet"
           }
          ],
          "choropleth": [
           {
            "colorbar": {
             "outlinewidth": 0,
             "ticks": ""
            },
            "type": "choropleth"
           }
          ],
          "contour": [
           {
            "colorbar": {
             "outlinewidth": 0,
             "ticks": ""
            },
            "colorscale": [
             [
              0,
              "#0d0887"
             ],
             [
              0.1111111111111111,
              "#46039f"
             ],
             [
              0.2222222222222222,
              "#7201a8"
             ],
             [
              0.3333333333333333,
              "#9c179e"
             ],
             [
              0.4444444444444444,
              "#bd3786"
             ],
             [
              0.5555555555555556,
              "#d8576b"
             ],
             [
              0.6666666666666666,
              "#ed7953"
             ],
             [
              0.7777777777777778,
              "#fb9f3a"
             ],
             [
              0.8888888888888888,
              "#fdca26"
             ],
             [
              1,
              "#f0f921"
             ]
            ],
            "type": "contour"
           }
          ],
          "contourcarpet": [
           {
            "colorbar": {
             "outlinewidth": 0,
             "ticks": ""
            },
            "type": "contourcarpet"
           }
          ],
          "heatmap": [
           {
            "colorbar": {
             "outlinewidth": 0,
             "ticks": ""
            },
            "colorscale": [
             [
              0,
              "#0d0887"
             ],
             [
              0.1111111111111111,
              "#46039f"
             ],
             [
              0.2222222222222222,
              "#7201a8"
             ],
             [
              0.3333333333333333,
              "#9c179e"
             ],
             [
              0.4444444444444444,
              "#bd3786"
             ],
             [
              0.5555555555555556,
              "#d8576b"
             ],
             [
              0.6666666666666666,
              "#ed7953"
             ],
             [
              0.7777777777777778,
              "#fb9f3a"
             ],
             [
              0.8888888888888888,
              "#fdca26"
             ],
             [
              1,
              "#f0f921"
             ]
            ],
            "type": "heatmap"
           }
          ],
          "histogram": [
           {
            "marker": {
             "pattern": {
              "fillmode": "overlay",
              "size": 10,
              "solidity": 0.2
             }
            },
            "type": "histogram"
           }
          ],
          "histogram2d": [
           {
            "colorbar": {
             "outlinewidth": 0,
             "ticks": ""
            },
            "colorscale": [
             [
              0,
              "#0d0887"
             ],
             [
              0.1111111111111111,
              "#46039f"
             ],
             [
              0.2222222222222222,
              "#7201a8"
             ],
             [
              0.3333333333333333,
              "#9c179e"
             ],
             [
              0.4444444444444444,
              "#bd3786"
             ],
             [
              0.5555555555555556,
              "#d8576b"
             ],
             [
              0.6666666666666666,
              "#ed7953"
             ],
             [
              0.7777777777777778,
              "#fb9f3a"
             ],
             [
              0.8888888888888888,
              "#fdca26"
             ],
             [
              1,
              "#f0f921"
             ]
            ],
            "type": "histogram2d"
           }
          ],
          "histogram2dcontour": [
           {
            "colorbar": {
             "outlinewidth": 0,
             "ticks": ""
            },
            "colorscale": [
             [
              0,
              "#0d0887"
             ],
             [
              0.1111111111111111,
              "#46039f"
             ],
             [
              0.2222222222222222,
              "#7201a8"
             ],
             [
              0.3333333333333333,
              "#9c179e"
             ],
             [
              0.4444444444444444,
              "#bd3786"
             ],
             [
              0.5555555555555556,
              "#d8576b"
             ],
             [
              0.6666666666666666,
              "#ed7953"
             ],
             [
              0.7777777777777778,
              "#fb9f3a"
             ],
             [
              0.8888888888888888,
              "#fdca26"
             ],
             [
              1,
              "#f0f921"
             ]
            ],
            "type": "histogram2dcontour"
           }
          ],
          "mesh3d": [
           {
            "colorbar": {
             "outlinewidth": 0,
             "ticks": ""
            },
            "type": "mesh3d"
           }
          ],
          "parcoords": [
           {
            "line": {
             "colorbar": {
              "outlinewidth": 0,
              "ticks": ""
             }
            },
            "type": "parcoords"
           }
          ],
          "pie": [
           {
            "automargin": true,
            "type": "pie"
           }
          ],
          "scatter": [
           {
            "fillpattern": {
             "fillmode": "overlay",
             "size": 10,
             "solidity": 0.2
            },
            "type": "scatter"
           }
          ],
          "scatter3d": [
           {
            "line": {
             "colorbar": {
              "outlinewidth": 0,
              "ticks": ""
             }
            },
            "marker": {
             "colorbar": {
              "outlinewidth": 0,
              "ticks": ""
             }
            },
            "type": "scatter3d"
           }
          ],
          "scattercarpet": [
           {
            "marker": {
             "colorbar": {
              "outlinewidth": 0,
              "ticks": ""
             }
            },
            "type": "scattercarpet"
           }
          ],
          "scattergeo": [
           {
            "marker": {
             "colorbar": {
              "outlinewidth": 0,
              "ticks": ""
             }
            },
            "type": "scattergeo"
           }
          ],
          "scattergl": [
           {
            "marker": {
             "colorbar": {
              "outlinewidth": 0,
              "ticks": ""
             }
            },
            "type": "scattergl"
           }
          ],
          "scattermap": [
           {
            "marker": {
             "colorbar": {
              "outlinewidth": 0,
              "ticks": ""
             }
            },
            "type": "scattermap"
           }
          ],
          "scattermapbox": [
           {
            "marker": {
             "colorbar": {
              "outlinewidth": 0,
              "ticks": ""
             }
            },
            "type": "scattermapbox"
           }
          ],
          "scatterpolar": [
           {
            "marker": {
             "colorbar": {
              "outlinewidth": 0,
              "ticks": ""
             }
            },
            "type": "scatterpolar"
           }
          ],
          "scatterpolargl": [
           {
            "marker": {
             "colorbar": {
              "outlinewidth": 0,
              "ticks": ""
             }
            },
            "type": "scatterpolargl"
           }
          ],
          "scatterternary": [
           {
            "marker": {
             "colorbar": {
              "outlinewidth": 0,
              "ticks": ""
             }
            },
            "type": "scatterternary"
           }
          ],
          "surface": [
           {
            "colorbar": {
             "outlinewidth": 0,
             "ticks": ""
            },
            "colorscale": [
             [
              0,
              "#0d0887"
             ],
             [
              0.1111111111111111,
              "#46039f"
             ],
             [
              0.2222222222222222,
              "#7201a8"
             ],
             [
              0.3333333333333333,
              "#9c179e"
             ],
             [
              0.4444444444444444,
              "#bd3786"
             ],
             [
              0.5555555555555556,
              "#d8576b"
             ],
             [
              0.6666666666666666,
              "#ed7953"
             ],
             [
              0.7777777777777778,
              "#fb9f3a"
             ],
             [
              0.8888888888888888,
              "#fdca26"
             ],
             [
              1,
              "#f0f921"
             ]
            ],
            "type": "surface"
           }
          ],
          "table": [
           {
            "cells": {
             "fill": {
              "color": "#EBF0F8"
             },
             "line": {
              "color": "white"
             }
            },
            "header": {
             "fill": {
              "color": "#C8D4E3"
             },
             "line": {
              "color": "white"
             }
            },
            "type": "table"
           }
          ]
         },
         "layout": {
          "annotationdefaults": {
           "arrowcolor": "#2a3f5f",
           "arrowhead": 0,
           "arrowwidth": 1
          },
          "autotypenumbers": "strict",
          "coloraxis": {
           "colorbar": {
            "outlinewidth": 0,
            "ticks": ""
           }
          },
          "colorscale": {
           "diverging": [
            [
             0,
             "#8e0152"
            ],
            [
             0.1,
             "#c51b7d"
            ],
            [
             0.2,
             "#de77ae"
            ],
            [
             0.3,
             "#f1b6da"
            ],
            [
             0.4,
             "#fde0ef"
            ],
            [
             0.5,
             "#f7f7f7"
            ],
            [
             0.6,
             "#e6f5d0"
            ],
            [
             0.7,
             "#b8e186"
            ],
            [
             0.8,
             "#7fbc41"
            ],
            [
             0.9,
             "#4d9221"
            ],
            [
             1,
             "#276419"
            ]
           ],
           "sequential": [
            [
             0,
             "#0d0887"
            ],
            [
             0.1111111111111111,
             "#46039f"
            ],
            [
             0.2222222222222222,
             "#7201a8"
            ],
            [
             0.3333333333333333,
             "#9c179e"
            ],
            [
             0.4444444444444444,
             "#bd3786"
            ],
            [
             0.5555555555555556,
             "#d8576b"
            ],
            [
             0.6666666666666666,
             "#ed7953"
            ],
            [
             0.7777777777777778,
             "#fb9f3a"
            ],
            [
             0.8888888888888888,
             "#fdca26"
            ],
            [
             1,
             "#f0f921"
            ]
           ],
           "sequentialminus": [
            [
             0,
             "#0d0887"
            ],
            [
             0.1111111111111111,
             "#46039f"
            ],
            [
             0.2222222222222222,
             "#7201a8"
            ],
            [
             0.3333333333333333,
             "#9c179e"
            ],
            [
             0.4444444444444444,
             "#bd3786"
            ],
            [
             0.5555555555555556,
             "#d8576b"
            ],
            [
             0.6666666666666666,
             "#ed7953"
            ],
            [
             0.7777777777777778,
             "#fb9f3a"
            ],
            [
             0.8888888888888888,
             "#fdca26"
            ],
            [
             1,
             "#f0f921"
            ]
           ]
          },
          "colorway": [
           "#636efa",
           "#EF553B",
           "#00cc96",
           "#ab63fa",
           "#FFA15A",
           "#19d3f3",
           "#FF6692",
           "#B6E880",
           "#FF97FF",
           "#FECB52"
          ],
          "font": {
           "color": "#2a3f5f"
          },
          "geo": {
           "bgcolor": "white",
           "lakecolor": "white",
           "landcolor": "#E5ECF6",
           "showlakes": true,
           "showland": true,
           "subunitcolor": "white"
          },
          "hoverlabel": {
           "align": "left"
          },
          "hovermode": "closest",
          "mapbox": {
           "style": "light"
          },
          "paper_bgcolor": "white",
          "plot_bgcolor": "#E5ECF6",
          "polar": {
           "angularaxis": {
            "gridcolor": "white",
            "linecolor": "white",
            "ticks": ""
           },
           "bgcolor": "#E5ECF6",
           "radialaxis": {
            "gridcolor": "white",
            "linecolor": "white",
            "ticks": ""
           }
          },
          "scene": {
           "xaxis": {
            "backgroundcolor": "#E5ECF6",
            "gridcolor": "white",
            "gridwidth": 2,
            "linecolor": "white",
            "showbackground": true,
            "ticks": "",
            "zerolinecolor": "white"
           },
           "yaxis": {
            "backgroundcolor": "#E5ECF6",
            "gridcolor": "white",
            "gridwidth": 2,
            "linecolor": "white",
            "showbackground": true,
            "ticks": "",
            "zerolinecolor": "white"
           },
           "zaxis": {
            "backgroundcolor": "#E5ECF6",
            "gridcolor": "white",
            "gridwidth": 2,
            "linecolor": "white",
            "showbackground": true,
            "ticks": "",
            "zerolinecolor": "white"
           }
          },
          "shapedefaults": {
           "line": {
            "color": "#2a3f5f"
           }
          },
          "ternary": {
           "aaxis": {
            "gridcolor": "white",
            "linecolor": "white",
            "ticks": ""
           },
           "baxis": {
            "gridcolor": "white",
            "linecolor": "white",
            "ticks": ""
           },
           "bgcolor": "#E5ECF6",
           "caxis": {
            "gridcolor": "white",
            "linecolor": "white",
            "ticks": ""
           }
          },
          "title": {
           "x": 0.05
          },
          "xaxis": {
           "automargin": true,
           "gridcolor": "white",
           "linecolor": "white",
           "ticks": "",
           "title": {
            "standoff": 15
           },
           "zerolinecolor": "white",
           "zerolinewidth": 2
          },
          "yaxis": {
           "automargin": true,
           "gridcolor": "white",
           "linecolor": "white",
           "ticks": "",
           "title": {
            "standoff": 15
           },
           "zerolinecolor": "white",
           "zerolinewidth": 2
          }
         }
        },
        "title": {
         "text": "Perbandingan Harga Median dan Jumlah Kos per Wilayah"
        },
        "xaxis": {
         "anchor": "y",
         "domain": [
          0,
          1
         ],
         "title": {
          "text": "Jumlah Kos di Wilayah"
         }
        },
        "yaxis": {
         "anchor": "x",
         "domain": [
          0,
          1
         ],
         "title": {
          "text": "Harga Sewa Median (Rp)"
         }
        }
       }
      }
     },
     "metadata": {},
     "output_type": "display_data"
    }
   ],
   "source": [
    "fig = px.scatter(data_frame= density_df,\n",
    "                 x = 'total_kos',\n",
    "                 y = 'median_price',\n",
    "                 size= 'total_kos',\n",
    "                 size_max= 50,\n",
    "                 hover_name= 'region',\n",
    "                 hover_data={'median_price': True, 'total_kos': True},\n",
    "                 color= 'region',\n",
    "                 text= 'total_kos')\n",
    "\n",
    "fig.update_layout(\n",
    "    title_text='Perbandingan Harga Median dan Jumlah Kos per Wilayah',\n",
    "    xaxis_title='Jumlah Kos di Wilayah',\n",
    "    yaxis_title='Harga Sewa Median (Rp)'\n",
    ")\n",
    "\n",
    "fig.show()"
   ]
  },
  {
   "cell_type": "code",
   "execution_count": 23,
   "metadata": {},
   "outputs": [
    {
     "data": {
      "application/vnd.plotly.v1+json": {
       "config": {
        "plotlyServerURL": "https://plot.ly"
       },
       "data": [
        {
         "coloraxis": "coloraxis",
         "customdata": {
          "bdata": "AAAAAMg3NEEAAAAAgIQuQQAAAAAg1jNBAAAAAIjcPUEAAAAAkDo8QQAAAABo3EBBAAAAAKLYNkEAAAAA1Jo4QQAAAADAXDVBAAAAAAjUNEE=",
          "dtype": "f8",
          "shape": "10, 1"
         },
         "hovertemplate": "<b>%{hovertext}</b><br><br>total_kos=%{z}<br>lat=%{lat}<br>lon=%{lon}<br>median_price=%{customdata[0]}<extra></extra>",
         "hovertext": [
          "Bekasi",
          "Bogor",
          "Depok",
          "Jakarta Barat",
          "Jakarta Pusat",
          "Jakarta Selatan",
          "Jakarta Timur",
          "Jakarta Utara",
          "Tangerang",
          "Tangerang Selatan"
         ],
         "lat": {
          "bdata": "FYxK6gT0GMAzxLEubmMawFyPwvUonBnAzqrP1VasGMDl0CLb+b4YwNBE2PD0ChnAZmZmZmbmGMCSy39Iv30YwNiBc0aUthjAnYAmwoYnGcA=",
          "dtype": "f8"
         },
         "lon": {
          "bdata": "kX77OnC+WkDdJAaBlbNaQO2ePCzUslpAzTtO0ZGwWkB2Tx4WarVaQM6I0t7gs1pAYVRSJ6C5WkB1kxgEVrpaQOqVsgxxqFpAGXPXEvKtWkA=",
          "dtype": "f8"
         },
         "name": "",
         "opacity": 1,
         "radius": 50,
         "subplot": "map",
         "type": "densitymap",
         "z": {
          "bdata": "OgHpAO4A5wDlAPEAKgHqAOoA5gA=",
          "dtype": "i2"
         }
        }
       ],
       "layout": {
        "coloraxis": {
         "colorbar": {
          "title": {
           "text": "total_kos"
          }
         },
         "colorscale": [
          [
           0,
           "#0d0887"
          ],
          [
           0.1111111111111111,
           "#46039f"
          ],
          [
           0.2222222222222222,
           "#7201a8"
          ],
          [
           0.3333333333333333,
           "#9c179e"
          ],
          [
           0.4444444444444444,
           "#bd3786"
          ],
          [
           0.5555555555555556,
           "#d8576b"
          ],
          [
           0.6666666666666666,
           "#ed7953"
          ],
          [
           0.7777777777777778,
           "#fb9f3a"
          ],
          [
           0.8888888888888888,
           "#fdca26"
          ],
          [
           1,
           "#f0f921"
          ]
         ]
        },
        "legend": {
         "tracegroupgap": 0
        },
        "map": {
         "center": {
          "lat": -6.2,
          "lon": 106.8
         },
         "domain": {
          "x": [
           0,
           1
          ],
          "y": [
           0,
           1
          ]
         },
         "zoom": 10
        },
        "mapbox": {
         "center": {
          "lat": -6.2,
          "lon": 106.8
         },
         "zoom": 10
        },
        "margin": {
         "t": 60
        },
        "template": {
         "data": {
          "bar": [
           {
            "error_x": {
             "color": "#2a3f5f"
            },
            "error_y": {
             "color": "#2a3f5f"
            },
            "marker": {
             "line": {
              "color": "#E5ECF6",
              "width": 0.5
             },
             "pattern": {
              "fillmode": "overlay",
              "size": 10,
              "solidity": 0.2
             }
            },
            "type": "bar"
           }
          ],
          "barpolar": [
           {
            "marker": {
             "line": {
              "color": "#E5ECF6",
              "width": 0.5
             },
             "pattern": {
              "fillmode": "overlay",
              "size": 10,
              "solidity": 0.2
             }
            },
            "type": "barpolar"
           }
          ],
          "carpet": [
           {
            "aaxis": {
             "endlinecolor": "#2a3f5f",
             "gridcolor": "white",
             "linecolor": "white",
             "minorgridcolor": "white",
             "startlinecolor": "#2a3f5f"
            },
            "baxis": {
             "endlinecolor": "#2a3f5f",
             "gridcolor": "white",
             "linecolor": "white",
             "minorgridcolor": "white",
             "startlinecolor": "#2a3f5f"
            },
            "type": "carpet"
           }
          ],
          "choropleth": [
           {
            "colorbar": {
             "outlinewidth": 0,
             "ticks": ""
            },
            "type": "choropleth"
           }
          ],
          "contour": [
           {
            "colorbar": {
             "outlinewidth": 0,
             "ticks": ""
            },
            "colorscale": [
             [
              0,
              "#0d0887"
             ],
             [
              0.1111111111111111,
              "#46039f"
             ],
             [
              0.2222222222222222,
              "#7201a8"
             ],
             [
              0.3333333333333333,
              "#9c179e"
             ],
             [
              0.4444444444444444,
              "#bd3786"
             ],
             [
              0.5555555555555556,
              "#d8576b"
             ],
             [
              0.6666666666666666,
              "#ed7953"
             ],
             [
              0.7777777777777778,
              "#fb9f3a"
             ],
             [
              0.8888888888888888,
              "#fdca26"
             ],
             [
              1,
              "#f0f921"
             ]
            ],
            "type": "contour"
           }
          ],
          "contourcarpet": [
           {
            "colorbar": {
             "outlinewidth": 0,
             "ticks": ""
            },
            "type": "contourcarpet"
           }
          ],
          "heatmap": [
           {
            "colorbar": {
             "outlinewidth": 0,
             "ticks": ""
            },
            "colorscale": [
             [
              0,
              "#0d0887"
             ],
             [
              0.1111111111111111,
              "#46039f"
             ],
             [
              0.2222222222222222,
              "#7201a8"
             ],
             [
              0.3333333333333333,
              "#9c179e"
             ],
             [
              0.4444444444444444,
              "#bd3786"
             ],
             [
              0.5555555555555556,
              "#d8576b"
             ],
             [
              0.6666666666666666,
              "#ed7953"
             ],
             [
              0.7777777777777778,
              "#fb9f3a"
             ],
             [
              0.8888888888888888,
              "#fdca26"
             ],
             [
              1,
              "#f0f921"
             ]
            ],
            "type": "heatmap"
           }
          ],
          "histogram": [
           {
            "marker": {
             "pattern": {
              "fillmode": "overlay",
              "size": 10,
              "solidity": 0.2
             }
            },
            "type": "histogram"
           }
          ],
          "histogram2d": [
           {
            "colorbar": {
             "outlinewidth": 0,
             "ticks": ""
            },
            "colorscale": [
             [
              0,
              "#0d0887"
             ],
             [
              0.1111111111111111,
              "#46039f"
             ],
             [
              0.2222222222222222,
              "#7201a8"
             ],
             [
              0.3333333333333333,
              "#9c179e"
             ],
             [
              0.4444444444444444,
              "#bd3786"
             ],
             [
              0.5555555555555556,
              "#d8576b"
             ],
             [
              0.6666666666666666,
              "#ed7953"
             ],
             [
              0.7777777777777778,
              "#fb9f3a"
             ],
             [
              0.8888888888888888,
              "#fdca26"
             ],
             [
              1,
              "#f0f921"
             ]
            ],
            "type": "histogram2d"
           }
          ],
          "histogram2dcontour": [
           {
            "colorbar": {
             "outlinewidth": 0,
             "ticks": ""
            },
            "colorscale": [
             [
              0,
              "#0d0887"
             ],
             [
              0.1111111111111111,
              "#46039f"
             ],
             [
              0.2222222222222222,
              "#7201a8"
             ],
             [
              0.3333333333333333,
              "#9c179e"
             ],
             [
              0.4444444444444444,
              "#bd3786"
             ],
             [
              0.5555555555555556,
              "#d8576b"
             ],
             [
              0.6666666666666666,
              "#ed7953"
             ],
             [
              0.7777777777777778,
              "#fb9f3a"
             ],
             [
              0.8888888888888888,
              "#fdca26"
             ],
             [
              1,
              "#f0f921"
             ]
            ],
            "type": "histogram2dcontour"
           }
          ],
          "mesh3d": [
           {
            "colorbar": {
             "outlinewidth": 0,
             "ticks": ""
            },
            "type": "mesh3d"
           }
          ],
          "parcoords": [
           {
            "line": {
             "colorbar": {
              "outlinewidth": 0,
              "ticks": ""
             }
            },
            "type": "parcoords"
           }
          ],
          "pie": [
           {
            "automargin": true,
            "type": "pie"
           }
          ],
          "scatter": [
           {
            "fillpattern": {
             "fillmode": "overlay",
             "size": 10,
             "solidity": 0.2
            },
            "type": "scatter"
           }
          ],
          "scatter3d": [
           {
            "line": {
             "colorbar": {
              "outlinewidth": 0,
              "ticks": ""
             }
            },
            "marker": {
             "colorbar": {
              "outlinewidth": 0,
              "ticks": ""
             }
            },
            "type": "scatter3d"
           }
          ],
          "scattercarpet": [
           {
            "marker": {
             "colorbar": {
              "outlinewidth": 0,
              "ticks": ""
             }
            },
            "type": "scattercarpet"
           }
          ],
          "scattergeo": [
           {
            "marker": {
             "colorbar": {
              "outlinewidth": 0,
              "ticks": ""
             }
            },
            "type": "scattergeo"
           }
          ],
          "scattergl": [
           {
            "marker": {
             "colorbar": {
              "outlinewidth": 0,
              "ticks": ""
             }
            },
            "type": "scattergl"
           }
          ],
          "scattermap": [
           {
            "marker": {
             "colorbar": {
              "outlinewidth": 0,
              "ticks": ""
             }
            },
            "type": "scattermap"
           }
          ],
          "scattermapbox": [
           {
            "marker": {
             "colorbar": {
              "outlinewidth": 0,
              "ticks": ""
             }
            },
            "type": "scattermapbox"
           }
          ],
          "scatterpolar": [
           {
            "marker": {
             "colorbar": {
              "outlinewidth": 0,
              "ticks": ""
             }
            },
            "type": "scatterpolar"
           }
          ],
          "scatterpolargl": [
           {
            "marker": {
             "colorbar": {
              "outlinewidth": 0,
              "ticks": ""
             }
            },
            "type": "scatterpolargl"
           }
          ],
          "scatterternary": [
           {
            "marker": {
             "colorbar": {
              "outlinewidth": 0,
              "ticks": ""
             }
            },
            "type": "scatterternary"
           }
          ],
          "surface": [
           {
            "colorbar": {
             "outlinewidth": 0,
             "ticks": ""
            },
            "colorscale": [
             [
              0,
              "#0d0887"
             ],
             [
              0.1111111111111111,
              "#46039f"
             ],
             [
              0.2222222222222222,
              "#7201a8"
             ],
             [
              0.3333333333333333,
              "#9c179e"
             ],
             [
              0.4444444444444444,
              "#bd3786"
             ],
             [
              0.5555555555555556,
              "#d8576b"
             ],
             [
              0.6666666666666666,
              "#ed7953"
             ],
             [
              0.7777777777777778,
              "#fb9f3a"
             ],
             [
              0.8888888888888888,
              "#fdca26"
             ],
             [
              1,
              "#f0f921"
             ]
            ],
            "type": "surface"
           }
          ],
          "table": [
           {
            "cells": {
             "fill": {
              "color": "#EBF0F8"
             },
             "line": {
              "color": "white"
             }
            },
            "header": {
             "fill": {
              "color": "#C8D4E3"
             },
             "line": {
              "color": "white"
             }
            },
            "type": "table"
           }
          ]
         },
         "layout": {
          "annotationdefaults": {
           "arrowcolor": "#2a3f5f",
           "arrowhead": 0,
           "arrowwidth": 1
          },
          "autotypenumbers": "strict",
          "coloraxis": {
           "colorbar": {
            "outlinewidth": 0,
            "ticks": ""
           }
          },
          "colorscale": {
           "diverging": [
            [
             0,
             "#8e0152"
            ],
            [
             0.1,
             "#c51b7d"
            ],
            [
             0.2,
             "#de77ae"
            ],
            [
             0.3,
             "#f1b6da"
            ],
            [
             0.4,
             "#fde0ef"
            ],
            [
             0.5,
             "#f7f7f7"
            ],
            [
             0.6,
             "#e6f5d0"
            ],
            [
             0.7,
             "#b8e186"
            ],
            [
             0.8,
             "#7fbc41"
            ],
            [
             0.9,
             "#4d9221"
            ],
            [
             1,
             "#276419"
            ]
           ],
           "sequential": [
            [
             0,
             "#0d0887"
            ],
            [
             0.1111111111111111,
             "#46039f"
            ],
            [
             0.2222222222222222,
             "#7201a8"
            ],
            [
             0.3333333333333333,
             "#9c179e"
            ],
            [
             0.4444444444444444,
             "#bd3786"
            ],
            [
             0.5555555555555556,
             "#d8576b"
            ],
            [
             0.6666666666666666,
             "#ed7953"
            ],
            [
             0.7777777777777778,
             "#fb9f3a"
            ],
            [
             0.8888888888888888,
             "#fdca26"
            ],
            [
             1,
             "#f0f921"
            ]
           ],
           "sequentialminus": [
            [
             0,
             "#0d0887"
            ],
            [
             0.1111111111111111,
             "#46039f"
            ],
            [
             0.2222222222222222,
             "#7201a8"
            ],
            [
             0.3333333333333333,
             "#9c179e"
            ],
            [
             0.4444444444444444,
             "#bd3786"
            ],
            [
             0.5555555555555556,
             "#d8576b"
            ],
            [
             0.6666666666666666,
             "#ed7953"
            ],
            [
             0.7777777777777778,
             "#fb9f3a"
            ],
            [
             0.8888888888888888,
             "#fdca26"
            ],
            [
             1,
             "#f0f921"
            ]
           ]
          },
          "colorway": [
           "#636efa",
           "#EF553B",
           "#00cc96",
           "#ab63fa",
           "#FFA15A",
           "#19d3f3",
           "#FF6692",
           "#B6E880",
           "#FF97FF",
           "#FECB52"
          ],
          "font": {
           "color": "#2a3f5f"
          },
          "geo": {
           "bgcolor": "white",
           "lakecolor": "white",
           "landcolor": "#E5ECF6",
           "showlakes": true,
           "showland": true,
           "subunitcolor": "white"
          },
          "hoverlabel": {
           "align": "left"
          },
          "hovermode": "closest",
          "mapbox": {
           "style": "light"
          },
          "paper_bgcolor": "white",
          "plot_bgcolor": "#E5ECF6",
          "polar": {
           "angularaxis": {
            "gridcolor": "white",
            "linecolor": "white",
            "ticks": ""
           },
           "bgcolor": "#E5ECF6",
           "radialaxis": {
            "gridcolor": "white",
            "linecolor": "white",
            "ticks": ""
           }
          },
          "scene": {
           "xaxis": {
            "backgroundcolor": "#E5ECF6",
            "gridcolor": "white",
            "gridwidth": 2,
            "linecolor": "white",
            "showbackground": true,
            "ticks": "",
            "zerolinecolor": "white"
           },
           "yaxis": {
            "backgroundcolor": "#E5ECF6",
            "gridcolor": "white",
            "gridwidth": 2,
            "linecolor": "white",
            "showbackground": true,
            "ticks": "",
            "zerolinecolor": "white"
           },
           "zaxis": {
            "backgroundcolor": "#E5ECF6",
            "gridcolor": "white",
            "gridwidth": 2,
            "linecolor": "white",
            "showbackground": true,
            "ticks": "",
            "zerolinecolor": "white"
           }
          },
          "shapedefaults": {
           "line": {
            "color": "#2a3f5f"
           }
          },
          "ternary": {
           "aaxis": {
            "gridcolor": "white",
            "linecolor": "white",
            "ticks": ""
           },
           "baxis": {
            "gridcolor": "white",
            "linecolor": "white",
            "ticks": ""
           },
           "bgcolor": "#E5ECF6",
           "caxis": {
            "gridcolor": "white",
            "linecolor": "white",
            "ticks": ""
           }
          },
          "title": {
           "x": 0.05
          },
          "xaxis": {
           "automargin": true,
           "gridcolor": "white",
           "linecolor": "white",
           "ticks": "",
           "title": {
            "standoff": 15
           },
           "zerolinecolor": "white",
           "zerolinewidth": 2
          },
          "yaxis": {
           "automargin": true,
           "gridcolor": "white",
           "linecolor": "white",
           "ticks": "",
           "title": {
            "standoff": 15
           },
           "zerolinecolor": "white",
           "zerolinewidth": 2
          }
         }
        }
       }
      }
     },
     "metadata": {},
     "output_type": "display_data"
    }
   ],
   "source": [
    "fig = px.density_map(\n",
    "    density_df,\n",
    "    lat='lat',\n",
    "    lon='lon',\n",
    "    z='total_kos',\n",
    "    radius=50,\n",
    "    center=dict(lat=-6.2, lon=106.8),\n",
    "    zoom=10,\n",
    "    hover_name='region',\n",
    "    hover_data={'median_price': True,\n",
    "                'total_kos': True}\n",
    ")\n",
    "\n",
    "fig.update_traces(opacity=1)\n",
    "fig.show()\n"
   ]
  },
  {
   "cell_type": "markdown",
   "metadata": {},
   "source": [
    "- Bekasi dan Jakarta Timur memiliki jumlah kos sangat tinggi sehingga densitas kos di wilayah ini paling menonjol\n",
    "\n",
    "- Meskipun density tinggi, harga kos di Bekasi dan Jakarta Timur relatif sedang hingga rendah, menandakan area ini padat namun terjangkau\n",
    "\n",
    "- Jakarta Selatan, Jakarta Barat, dan Jakarta Pusat memiliki harga kos tinggi meskipun jumlah kosnya lebih sedikit, sehingga cluster harga mahal muncul di pusat kota dan area prestisius\n",
    "\n",
    "- Region dengan kos terbanyak tidak selalu mahal dan region mahal tidak selalu memiliki kos banyak, sehingga analisis density dan median price memberikan insight mengenai persebaran kos dan segmentasi harga di Jabodetabek"
   ]
  },
  {
   "cell_type": "markdown",
   "metadata": {},
   "source": [
    "facilities (WiFi, AC, furniture) are most common and how they affect price."
   ]
  },
  {
   "cell_type": "code",
   "execution_count": 24,
   "metadata": {},
   "outputs": [],
   "source": [
    "df['all_facilities_bs'] = df['all_facilities_bs'].str.strip()\n",
    "all_facilities_list = df['all_facilities_bs'].str.split(';').sum()\n",
    "all_facilities_list = [x.strip() for x in all_facilities_list]\n",
    "\n",
    "facilities_count = Counter(all_facilities_list)\n",
    "\n",
    "# ubah ke DF\n",
    "facilities_df = pd.DataFrame(facilities_count.items(), columns=['facility', 'count']).sort_values(by='count', ascending=False)\n",
    "\n",
    "# filter \"meter\"\n",
    "facilities_df = facilities_df[~facilities_df['facility'].str.contains('meter', case=False, na=False)]\n"
   ]
  },
  {
   "cell_type": "code",
   "execution_count": 25,
   "metadata": {},
   "outputs": [
    {
     "data": {
      "text/html": [
       "<div>\n",
       "<style scoped>\n",
       "    .dataframe tbody tr th:only-of-type {\n",
       "        vertical-align: middle;\n",
       "    }\n",
       "\n",
       "    .dataframe tbody tr th {\n",
       "        vertical-align: top;\n",
       "    }\n",
       "\n",
       "    .dataframe thead th {\n",
       "        text-align: right;\n",
       "    }\n",
       "</style>\n",
       "<table border=\"1\" class=\"dataframe\">\n",
       "  <thead>\n",
       "    <tr style=\"text-align: right;\">\n",
       "      <th></th>\n",
       "      <th>facility</th>\n",
       "      <th>median_price</th>\n",
       "      <th>count</th>\n",
       "    </tr>\n",
       "  </thead>\n",
       "  <tbody>\n",
       "    <tr>\n",
       "      <th>0</th>\n",
       "      <td>Kasur</td>\n",
       "      <td>1525000.0</td>\n",
       "      <td>2338</td>\n",
       "    </tr>\n",
       "    <tr>\n",
       "      <th>11</th>\n",
       "      <td>Parkir Motor</td>\n",
       "      <td>1500000.0</td>\n",
       "      <td>2333</td>\n",
       "    </tr>\n",
       "    <tr>\n",
       "      <th>1</th>\n",
       "      <td>Lemari Baju</td>\n",
       "      <td>1545000.0</td>\n",
       "      <td>2251</td>\n",
       "    </tr>\n",
       "    <tr>\n",
       "      <th>2</th>\n",
       "      <td>WiFi</td>\n",
       "      <td>1552500.0</td>\n",
       "      <td>2156</td>\n",
       "    </tr>\n",
       "    <tr>\n",
       "      <th>3</th>\n",
       "      <td>Bantal</td>\n",
       "      <td>1545000.0</td>\n",
       "      <td>1974</td>\n",
       "    </tr>\n",
       "    <tr>\n",
       "      <th>...</th>\n",
       "      <td>...</td>\n",
       "      <td>...</td>\n",
       "      <td>...</td>\n",
       "    </tr>\n",
       "    <tr>\n",
       "      <th>57</th>\n",
       "      <td>unknown</td>\n",
       "      <td>1640000.0</td>\n",
       "      <td>21</td>\n",
       "    </tr>\n",
       "    <tr>\n",
       "      <th>58</th>\n",
       "      <td>Sofa</td>\n",
       "      <td>1400000.0</td>\n",
       "      <td>21</td>\n",
       "    </tr>\n",
       "    <tr>\n",
       "      <th>59</th>\n",
       "      <td>Joglo</td>\n",
       "      <td>750000.0</td>\n",
       "      <td>14</td>\n",
       "    </tr>\n",
       "    <tr>\n",
       "      <th>60</th>\n",
       "      <td>Bathtub</td>\n",
       "      <td>2723750.0</td>\n",
       "      <td>12</td>\n",
       "    </tr>\n",
       "    <tr>\n",
       "      <th>61</th>\n",
       "      <td>microwave</td>\n",
       "      <td>1550000.0</td>\n",
       "      <td>6</td>\n",
       "    </tr>\n",
       "  </tbody>\n",
       "</table>\n",
       "<p>62 rows × 3 columns</p>\n",
       "</div>"
      ],
      "text/plain": [
       "        facility  median_price  count\n",
       "0          Kasur     1525000.0   2338\n",
       "11  Parkir Motor     1500000.0   2333\n",
       "1    Lemari Baju     1545000.0   2251\n",
       "2           WiFi     1552500.0   2156\n",
       "3         Bantal     1545000.0   1974\n",
       "..           ...           ...    ...\n",
       "57       unknown     1640000.0     21\n",
       "58          Sofa     1400000.0     21\n",
       "59         Joglo      750000.0     14\n",
       "60       Bathtub     2723750.0     12\n",
       "61     microwave     1550000.0      6\n",
       "\n",
       "[62 rows x 3 columns]"
      ]
     },
     "execution_count": 25,
     "metadata": {},
     "output_type": "execute_result"
    }
   ],
   "source": [
    "list_fac = facilities_df['facility'].unique().tolist()\n",
    "\n",
    "data = []\n",
    "\n",
    "for fac in list_fac:\n",
    "    median_price = df[df['all_facilities_bs'].str.contains(fac, na=False)]['price'].median()\n",
    "    count = df[df['all_facilities_bs'].str.contains(fac, na=False)]['price'].count()\n",
    "    data.append({'facility': fac, 'median_price': median_price, 'count': count})\n",
    "\n",
    "facilities_df = pd.DataFrame(data).sort_values('count', ascending= False) \n",
    "\n",
    "facilities_df"
   ]
  },
  {
   "cell_type": "code",
   "execution_count": 26,
   "metadata": {},
   "outputs": [
    {
     "data": {
      "application/vnd.plotly.v1+json": {
       "config": {
        "plotlyServerURL": "https://plot.ly"
       },
       "data": [
        {
         "hovertemplate": "<b>%{hovertext}</b><br><br>facility=Kasur<br>count=%{marker.size}<br>median_price=%{y}<extra></extra>",
         "hovertext": [
          "Kasur"
         ],
         "legendgroup": "Kasur",
         "marker": {
          "color": "#636efa",
          "size": {
           "bdata": "Igk=",
           "dtype": "i2"
          },
          "sizemode": "area",
          "sizeref": 1.46125,
          "symbol": "circle"
         },
         "mode": "markers",
         "name": "Kasur",
         "orientation": "v",
         "showlegend": true,
         "type": "scatter",
         "x": {
          "bdata": "Igk=",
          "dtype": "i2"
         },
         "xaxis": "x",
         "y": {
          "bdata": "AAAAAAhFN0E=",
          "dtype": "f8"
         },
         "yaxis": "y"
        },
        {
         "hovertemplate": "<b>%{hovertext}</b><br><br>facility=Parkir Motor<br>count=%{marker.size}<br>median_price=%{y}<extra></extra>",
         "hovertext": [
          "Parkir Motor"
         ],
         "legendgroup": "Parkir Motor",
         "marker": {
          "color": "#EF553B",
          "size": {
           "bdata": "HQk=",
           "dtype": "i2"
          },
          "sizemode": "area",
          "sizeref": 1.46125,
          "symbol": "circle"
         },
         "mode": "markers",
         "name": "Parkir Motor",
         "orientation": "v",
         "showlegend": true,
         "type": "scatter",
         "x": {
          "bdata": "HQk=",
          "dtype": "i2"
         },
         "xaxis": "x",
         "y": {
          "bdata": "AAAAAGDjNkE=",
          "dtype": "f8"
         },
         "yaxis": "y"
        },
        {
         "hovertemplate": "<b>%{hovertext}</b><br><br>facility=Lemari Baju<br>count=%{marker.size}<br>median_price=%{y}<extra></extra>",
         "hovertext": [
          "Lemari Baju"
         ],
         "legendgroup": "Lemari Baju",
         "marker": {
          "color": "#00cc96",
          "size": {
           "bdata": "ywg=",
           "dtype": "i2"
          },
          "sizemode": "area",
          "sizeref": 1.46125,
          "symbol": "circle"
         },
         "mode": "markers",
         "name": "Lemari Baju",
         "orientation": "v",
         "showlegend": true,
         "type": "scatter",
         "x": {
          "bdata": "ywg=",
          "dtype": "i2"
         },
         "xaxis": "x",
         "y": {
          "bdata": "AAAAACiTN0E=",
          "dtype": "f8"
         },
         "yaxis": "y"
        },
        {
         "hovertemplate": "<b>%{hovertext}</b><br><br>facility=WiFi<br>count=%{marker.size}<br>median_price=%{y}<extra></extra>",
         "hovertext": [
          "WiFi"
         ],
         "legendgroup": "WiFi",
         "marker": {
          "color": "#ab63fa",
          "size": {
           "bdata": "bAg=",
           "dtype": "i2"
          },
          "sizemode": "area",
          "sizeref": 1.46125,
          "symbol": "circle"
         },
         "mode": "markers",
         "name": "WiFi",
         "orientation": "v",
         "showlegend": true,
         "type": "scatter",
         "x": {
          "bdata": "bAg=",
          "dtype": "i2"
         },
         "xaxis": "x",
         "y": {
          "bdata": "AAAAAHSwN0E=",
          "dtype": "f8"
         },
         "yaxis": "y"
        },
        {
         "hovertemplate": "<b>%{hovertext}</b><br><br>facility=Bantal<br>count=%{marker.size}<br>median_price=%{y}<extra></extra>",
         "hovertext": [
          "Bantal"
         ],
         "legendgroup": "Bantal",
         "marker": {
          "color": "#FFA15A",
          "size": {
           "bdata": "tgc=",
           "dtype": "i2"
          },
          "sizemode": "area",
          "sizeref": 1.46125,
          "symbol": "circle"
         },
         "mode": "markers",
         "name": "Bantal",
         "orientation": "v",
         "showlegend": true,
         "type": "scatter",
         "x": {
          "bdata": "tgc=",
          "dtype": "i2"
         },
         "xaxis": "x",
         "y": {
          "bdata": "AAAAACiTN0E=",
          "dtype": "f8"
         },
         "yaxis": "y"
        },
        {
         "hovertemplate": "<b>%{hovertext}</b><br><br>facility=Tidak termasuk listrik<br>count=%{marker.size}<br>median_price=%{y}<extra></extra>",
         "hovertext": [
          "Tidak termasuk listrik"
         ],
         "legendgroup": "Tidak termasuk listrik",
         "marker": {
          "color": "#19d3f3",
          "size": {
           "bdata": "hgc=",
           "dtype": "i2"
          },
          "sizemode": "area",
          "sizeref": 1.46125,
          "symbol": "circle"
         },
         "mode": "markers",
         "name": "Tidak termasuk listrik",
         "orientation": "v",
         "showlegend": true,
         "type": "scatter",
         "x": {
          "bdata": "hgc=",
          "dtype": "i2"
         },
         "xaxis": "x",
         "y": {
          "bdata": "AAAAALRMOEE=",
          "dtype": "f8"
         },
         "yaxis": "y"
        },
        {
         "hovertemplate": "<b>%{hovertext}</b><br><br>facility=Dapur<br>count=%{marker.size}<br>median_price=%{y}<extra></extra>",
         "hovertext": [
          "Dapur"
         ],
         "legendgroup": "Dapur",
         "marker": {
          "color": "#FF6692",
          "size": {
           "bdata": "XQc=",
           "dtype": "i2"
          },
          "sizemode": "area",
          "sizeref": 1.46125,
          "symbol": "circle"
         },
         "mode": "markers",
         "name": "Dapur",
         "orientation": "v",
         "showlegend": true,
         "type": "scatter",
         "x": {
          "bdata": "XQc=",
          "dtype": "i2"
         },
         "xaxis": "x",
         "y": {
          "bdata": "AAAAALRMOEE=",
          "dtype": "f8"
         },
         "yaxis": "y"
        },
        {
         "hovertemplate": "<b>%{hovertext}</b><br><br>facility=AC<br>count=%{marker.size}<br>median_price=%{y}<extra></extra>",
         "hovertext": [
          "AC"
         ],
         "legendgroup": "AC",
         "marker": {
          "color": "#B6E880",
          "size": {
           "bdata": "QAc=",
           "dtype": "i2"
          },
          "sizemode": "area",
          "sizeref": 1.46125,
          "symbol": "circle"
         },
         "mode": "markers",
         "name": "AC",
         "orientation": "v",
         "showlegend": true,
         "type": "scatter",
         "x": {
          "bdata": "QAc=",
          "dtype": "i2"
         },
         "xaxis": "x",
         "y": {
          "bdata": "AAAAAKDwOUE=",
          "dtype": "f8"
         },
         "yaxis": "y"
        },
        {
         "hovertemplate": "<b>%{hovertext}</b><br><br>facility=K. Mandi Dalam<br>count=%{marker.size}<br>median_price=%{y}<extra></extra>",
         "hovertext": [
          "K. Mandi Dalam"
         ],
         "legendgroup": "K. Mandi Dalam",
         "marker": {
          "color": "#FF97FF",
          "size": {
           "bdata": "PQc=",
           "dtype": "i2"
          },
          "sizemode": "area",
          "sizeref": 1.46125,
          "symbol": "circle"
         },
         "mode": "markers",
         "name": "K. Mandi Dalam",
         "orientation": "v",
         "showlegend": true,
         "type": "scatter",
         "x": {
          "bdata": "PQc=",
          "dtype": "i2"
         },
         "xaxis": "x",
         "y": {
          "bdata": "AAAAAFAtOUE=",
          "dtype": "f8"
         },
         "yaxis": "y"
        },
        {
         "hovertemplate": "<b>%{hovertext}</b><br><br>facility=Shower<br>count=%{marker.size}<br>median_price=%{y}<extra></extra>",
         "hovertext": [
          "Shower"
         ],
         "legendgroup": "Shower",
         "marker": {
          "color": "#FECB52",
          "size": {
           "bdata": "Mwc=",
           "dtype": "i2"
          },
          "sizemode": "area",
          "sizeref": 1.46125,
          "symbol": "circle"
         },
         "mode": "markers",
         "name": "Shower",
         "orientation": "v",
         "showlegend": true,
         "type": "scatter",
         "x": {
          "bdata": "Mwc=",
          "dtype": "i2"
         },
         "xaxis": "x",
         "y": {
          "bdata": "AAAAAKDwOUE=",
          "dtype": "f8"
         },
         "yaxis": "y"
        },
        {
         "hovertemplate": "<b>%{hovertext}</b><br><br>facility=Kloset Duduk<br>count=%{marker.size}<br>median_price=%{y}<extra></extra>",
         "hovertext": [
          "Kloset Duduk"
         ],
         "legendgroup": "Kloset Duduk",
         "marker": {
          "color": "#636efa",
          "size": {
           "bdata": "Mgc=",
           "dtype": "i2"
          },
          "sizemode": "area",
          "sizeref": 1.46125,
          "symbol": "circle"
         },
         "mode": "markers",
         "name": "Kloset Duduk",
         "orientation": "v",
         "showlegend": true,
         "type": "scatter",
         "x": {
          "bdata": "Mgc=",
          "dtype": "i2"
         },
         "xaxis": "x",
         "y": {
          "bdata": "AAAAAKDwOUE=",
          "dtype": "f8"
         },
         "yaxis": "y"
        },
        {
         "hovertemplate": "<b>%{hovertext}</b><br><br>facility=Meja<br>count=%{marker.size}<br>median_price=%{y}<extra></extra>",
         "hovertext": [
          "Meja"
         ],
         "legendgroup": "Meja",
         "marker": {
          "color": "#EF553B",
          "size": {
           "bdata": "3QY=",
           "dtype": "i2"
          },
          "sizemode": "area",
          "sizeref": 1.46125,
          "symbol": "circle"
         },
         "mode": "markers",
         "name": "Meja",
         "orientation": "v",
         "showlegend": true,
         "type": "scatter",
         "x": {
          "bdata": "3QY=",
          "dtype": "i2"
         },
         "xaxis": "x",
         "y": {
          "bdata": "AAAAAKDwOUE=",
          "dtype": "f8"
         },
         "yaxis": "y"
        },
        {
         "hovertemplate": "<b>%{hovertext}</b><br><br>facility=Jendela<br>count=%{marker.size}<br>median_price=%{y}<extra></extra>",
         "hovertext": [
          "Jendela"
         ],
         "legendgroup": "Jendela",
         "marker": {
          "color": "#00cc96",
          "size": {
           "bdata": "bwY=",
           "dtype": "i2"
          },
          "sizemode": "area",
          "sizeref": 1.46125,
          "symbol": "circle"
         },
         "mode": "markers",
         "name": "Jendela",
         "orientation": "v",
         "showlegend": true,
         "type": "scatter",
         "x": {
          "bdata": "bwY=",
          "dtype": "i2"
         },
         "xaxis": "x",
         "y": {
          "bdata": "AAAAAGDjNkE=",
          "dtype": "f8"
         },
         "yaxis": "y"
        },
        {
         "hovertemplate": "<b>%{hovertext}</b><br><br>facility=R. Jemur<br>count=%{marker.size}<br>median_price=%{y}<extra></extra>",
         "hovertext": [
          "R. Jemur"
         ],
         "legendgroup": "R. Jemur",
         "marker": {
          "color": "#ab63fa",
          "size": {
           "bdata": "UQY=",
           "dtype": "i2"
          },
          "sizemode": "area",
          "sizeref": 1.46125,
          "symbol": "circle"
         },
         "mode": "markers",
         "name": "R. Jemur",
         "orientation": "v",
         "showlegend": true,
         "type": "scatter",
         "x": {
          "bdata": "UQY=",
          "dtype": "i2"
         },
         "xaxis": "x",
         "y": {
          "bdata": "AAAAAGDjNkE=",
          "dtype": "f8"
         },
         "yaxis": "y"
        },
        {
         "hovertemplate": "<b>%{hovertext}</b><br><br>facility=TV<br>count=%{marker.size}<br>median_price=%{y}<extra></extra>",
         "hovertext": [
          "TV"
         ],
         "legendgroup": "TV",
         "marker": {
          "color": "#FFA15A",
          "size": {
           "bdata": "4wU=",
           "dtype": "i2"
          },
          "sizemode": "area",
          "sizeref": 1.46125,
          "symbol": "circle"
         },
         "mode": "markers",
         "name": "TV",
         "orientation": "v",
         "showlegend": true,
         "type": "scatter",
         "x": {
          "bdata": "4wU=",
          "dtype": "i2"
         },
         "xaxis": "x",
         "y": {
          "bdata": "AAAAALCaOUE=",
          "dtype": "f8"
         },
         "yaxis": "y"
        },
        {
         "hovertemplate": "<b>%{hovertext}</b><br><br>facility=Kulkas<br>count=%{marker.size}<br>median_price=%{y}<extra></extra>",
         "hovertext": [
          "Kulkas"
         ],
         "legendgroup": "Kulkas",
         "marker": {
          "color": "#19d3f3",
          "size": {
           "bdata": "qQU=",
           "dtype": "i2"
          },
          "sizemode": "area",
          "sizeref": 1.46125,
          "symbol": "circle"
         },
         "mode": "markers",
         "name": "Kulkas",
         "orientation": "v",
         "showlegend": true,
         "type": "scatter",
         "x": {
          "bdata": "qQU=",
          "dtype": "i2"
         },
         "xaxis": "x",
         "y": {
          "bdata": "AAAAAKDwOUE=",
          "dtype": "f8"
         },
         "yaxis": "y"
        },
        {
         "hovertemplate": "<b>%{hovertext}</b><br><br>facility=Penjaga Kos<br>count=%{marker.size}<br>median_price=%{y}<extra></extra>",
         "hovertext": [
          "Penjaga Kos"
         ],
         "legendgroup": "Penjaga Kos",
         "marker": {
          "color": "#FF6692",
          "size": {
           "bdata": "SwU=",
           "dtype": "i2"
          },
          "sizemode": "area",
          "sizeref": 1.46125,
          "symbol": "circle"
         },
         "mode": "markers",
         "name": "Penjaga Kos",
         "orientation": "v",
         "showlegend": true,
         "type": "scatter",
         "x": {
          "bdata": "SwU=",
          "dtype": "i2"
         },
         "xaxis": "x",
         "y": {
          "bdata": "AAAAAMgZOUE=",
          "dtype": "f8"
         },
         "yaxis": "y"
        },
        {
         "hovertemplate": "<b>%{hovertext}</b><br><br>facility=Kursi<br>count=%{marker.size}<br>median_price=%{y}<extra></extra>",
         "hovertext": [
          "Kursi"
         ],
         "legendgroup": "Kursi",
         "marker": {
          "color": "#B6E880",
          "size": {
           "bdata": "DwU=",
           "dtype": "i2"
          },
          "sizemode": "area",
          "sizeref": 1.46125,
          "symbol": "circle"
         },
         "mode": "markers",
         "name": "Kursi",
         "orientation": "v",
         "showlegend": true,
         "type": "scatter",
         "x": {
          "bdata": "DwU=",
          "dtype": "i2"
         },
         "xaxis": "x",
         "y": {
          "bdata": "AAAAAKDwOUE=",
          "dtype": "f8"
         },
         "yaxis": "y"
        },
        {
         "hovertemplate": "<b>%{hovertext}</b><br><br>facility=R. Tamu<br>count=%{marker.size}<br>median_price=%{y}<extra></extra>",
         "hovertext": [
          "R. Tamu"
         ],
         "legendgroup": "R. Tamu",
         "marker": {
          "color": "#FF97FF",
          "size": {
           "bdata": "7wQ=",
           "dtype": "i2"
          },
          "sizemode": "area",
          "sizeref": 1.46125,
          "symbol": "circle"
         },
         "mode": "markers",
         "name": "R. Tamu",
         "orientation": "v",
         "showlegend": true,
         "type": "scatter",
         "x": {
          "bdata": "7wQ=",
          "dtype": "i2"
         },
         "xaxis": "x",
         "y": {
          "bdata": "AAAAACC4OEE=",
          "dtype": "f8"
         },
         "yaxis": "y"
        },
        {
         "hovertemplate": "<b>%{hovertext}</b><br><br>facility=Parkir Mobil<br>count=%{marker.size}<br>median_price=%{y}<extra></extra>",
         "hovertext": [
          "Parkir Mobil"
         ],
         "legendgroup": "Parkir Mobil",
         "marker": {
          "color": "#FECB52",
          "size": {
           "bdata": "tQQ=",
           "dtype": "i2"
          },
          "sizemode": "area",
          "sizeref": 1.46125,
          "symbol": "circle"
         },
         "mode": "markers",
         "name": "Parkir Mobil",
         "orientation": "v",
         "showlegend": true,
         "type": "scatter",
         "x": {
          "bdata": "tQQ=",
          "dtype": "i2"
         },
         "xaxis": "x",
         "y": {
          "bdata": "AAAAAJgVO0E=",
          "dtype": "f8"
         },
         "yaxis": "y"
        },
        {
         "hovertemplate": "<b>%{hovertext}</b><br><br>facility=Parkir Sepeda<br>count=%{marker.size}<br>median_price=%{y}<extra></extra>",
         "hovertext": [
          "Parkir Sepeda"
         ],
         "legendgroup": "Parkir Sepeda",
         "marker": {
          "color": "#636efa",
          "size": {
           "bdata": "oAQ=",
           "dtype": "i2"
          },
          "sizemode": "area",
          "sizeref": 1.46125,
          "symbol": "circle"
         },
         "mode": "markers",
         "name": "Parkir Sepeda",
         "orientation": "v",
         "showlegend": true,
         "type": "scatter",
         "x": {
          "bdata": "oAQ=",
          "dtype": "i2"
         },
         "xaxis": "x",
         "y": {
          "bdata": "AAAAAGDjNkE=",
          "dtype": "f8"
         },
         "yaxis": "y"
        },
        {
         "hovertemplate": "<b>%{hovertext}</b><br><br>facility=Cermin<br>count=%{marker.size}<br>median_price=%{y}<extra></extra>",
         "hovertext": [
          "Cermin"
         ],
         "legendgroup": "Cermin",
         "marker": {
          "color": "#EF553B",
          "size": {
           "bdata": "cgQ=",
           "dtype": "i2"
          },
          "sizemode": "area",
          "sizeref": 1.46125,
          "symbol": "circle"
         },
         "mode": "markers",
         "name": "Cermin",
         "orientation": "v",
         "showlegend": true,
         "type": "scatter",
         "x": {
          "bdata": "cgQ=",
          "dtype": "i2"
         },
         "xaxis": "x",
         "y": {
          "bdata": "AAAAAKDwOUE=",
          "dtype": "f8"
         },
         "yaxis": "y"
        },
        {
         "hovertemplate": "<b>%{hovertext}</b><br><br>facility=Ventilasi<br>count=%{marker.size}<br>median_price=%{y}<extra></extra>",
         "hovertext": [
          "Ventilasi"
         ],
         "legendgroup": "Ventilasi",
         "marker": {
          "color": "#00cc96",
          "size": {
           "bdata": "MgQ=",
           "dtype": "i2"
          },
          "sizemode": "area",
          "sizeref": 1.46125,
          "symbol": "circle"
         },
         "mode": "markers",
         "name": "Ventilasi",
         "orientation": "v",
         "showlegend": true,
         "type": "scatter",
         "x": {
          "bdata": "MgQ=",
          "dtype": "i2"
         },
         "xaxis": "x",
         "y": {
          "bdata": "AAAAAKhaNkE=",
          "dtype": "f8"
         },
         "yaxis": "y"
        },
        {
         "hovertemplate": "<b>%{hovertext}</b><br><br>facility=CCTV<br>count=%{marker.size}<br>median_price=%{y}<extra></extra>",
         "hovertext": [
          "CCTV"
         ],
         "legendgroup": "CCTV",
         "marker": {
          "color": "#ab63fa",
          "size": {
           "bdata": "EwQ=",
           "dtype": "i2"
          },
          "sizemode": "area",
          "sizeref": 1.46125,
          "symbol": "circle"
         },
         "mode": "markers",
         "name": "CCTV",
         "orientation": "v",
         "showlegend": true,
         "type": "scatter",
         "x": {
          "bdata": "EwQ=",
          "dtype": "i2"
         },
         "xaxis": "x",
         "y": {
          "bdata": "AAAAAABqOEE=",
          "dtype": "f8"
         },
         "yaxis": "y"
        },
        {
         "hovertemplate": "<b>%{hovertext}</b><br><br>facility=Parkir Motor & Sepeda<br>count=%{marker.size}<br>median_price=%{y}<extra></extra>",
         "hovertext": [
          "Parkir Motor & Sepeda"
         ],
         "legendgroup": "Parkir Motor & Sepeda",
         "marker": {
          "color": "#FFA15A",
          "size": {
           "bdata": "DgQ=",
           "dtype": "i2"
          },
          "sizemode": "area",
          "sizeref": 1.46125,
          "symbol": "circle"
         },
         "mode": "markers",
         "name": "Parkir Motor & Sepeda",
         "orientation": "v",
         "showlegend": true,
         "type": "scatter",
         "x": {
          "bdata": "DgQ=",
          "dtype": "i2"
         },
         "xaxis": "x",
         "y": {
          "bdata": "AAAAAAK9OEE=",
          "dtype": "f8"
         },
         "yaxis": "y"
        },
        {
         "hovertemplate": "<b>%{hovertext}</b><br><br>facility=Guling<br>count=%{marker.size}<br>median_price=%{y}<extra></extra>",
         "hovertext": [
          "Guling"
         ],
         "legendgroup": "Guling",
         "marker": {
          "color": "#19d3f3",
          "size": {
           "bdata": "wgM=",
           "dtype": "i2"
          },
          "sizemode": "area",
          "sizeref": 1.46125,
          "symbol": "circle"
         },
         "mode": "markers",
         "name": "Guling",
         "orientation": "v",
         "showlegend": true,
         "type": "scatter",
         "x": {
          "bdata": "wgM=",
          "dtype": "i2"
         },
         "xaxis": "x",
         "y": {
          "bdata": "AAAAAGDjNkE=",
          "dtype": "f8"
         },
         "yaxis": "y"
        },
        {
         "hovertemplate": "<b>%{hovertext}</b><br><br>facility=Ember mandi<br>count=%{marker.size}<br>median_price=%{y}<extra></extra>",
         "hovertext": [
          "Ember mandi"
         ],
         "legendgroup": "Ember mandi",
         "marker": {
          "color": "#FF6692",
          "size": {
           "bdata": "eAM=",
           "dtype": "i2"
          },
          "sizemode": "area",
          "sizeref": 1.46125,
          "symbol": "circle"
         },
         "mode": "markers",
         "name": "Ember mandi",
         "orientation": "v",
         "showlegend": true,
         "type": "scatter",
         "x": {
          "bdata": "eAM=",
          "dtype": "i2"
         },
         "xaxis": "x",
         "y": {
          "bdata": "AAAAAIBPMkE=",
          "dtype": "f8"
         },
         "yaxis": "y"
        },
        {
         "hovertemplate": "<b>%{hovertext}</b><br><br>facility=K. Mandi Luar<br>count=%{marker.size}<br>median_price=%{y}<extra></extra>",
         "hovertext": [
          "K. Mandi Luar"
         ],
         "legendgroup": "K. Mandi Luar",
         "marker": {
          "color": "#B6E880",
          "size": {
           "bdata": "OAM=",
           "dtype": "i2"
          },
          "sizemode": "area",
          "sizeref": 1.46125,
          "symbol": "circle"
         },
         "mode": "markers",
         "name": "K. Mandi Luar",
         "orientation": "v",
         "showlegend": true,
         "type": "scatter",
         "x": {
          "bdata": "OAM=",
          "dtype": "i2"
         },
         "xaxis": "x",
         "y": {
          "bdata": "AAAAACDWM0E=",
          "dtype": "f8"
         },
         "yaxis": "y"
        },
        {
         "hovertemplate": "<b>%{hovertext}</b><br><br>facility=Jemuran<br>count=%{marker.size}<br>median_price=%{y}<extra></extra>",
         "hovertext": [
          "Jemuran"
         ],
         "legendgroup": "Jemuran",
         "marker": {
          "color": "#FF97FF",
          "size": {
           "bdata": "NAM=",
           "dtype": "i2"
          },
          "sizemode": "area",
          "sizeref": 1.46125,
          "symbol": "circle"
         },
         "mode": "markers",
         "name": "Jemuran",
         "orientation": "v",
         "showlegend": true,
         "type": "scatter",
         "x": {
          "bdata": "NAM=",
          "dtype": "i2"
         },
         "xaxis": "x",
         "y": {
          "bdata": "AAAAANASM0E=",
          "dtype": "f8"
         },
         "yaxis": "y"
        },
        {
         "hovertemplate": "<b>%{hovertext}</b><br><br>facility=Dispenser<br>count=%{marker.size}<br>median_price=%{y}<extra></extra>",
         "hovertext": [
          "Dispenser"
         ],
         "legendgroup": "Dispenser",
         "marker": {
          "color": "#FECB52",
          "size": {
           "bdata": "MwM=",
           "dtype": "i2"
          },
          "sizemode": "area",
          "sizeref": 1.46125,
          "symbol": "circle"
         },
         "mode": "markers",
         "name": "Dispenser",
         "orientation": "v",
         "showlegend": true,
         "type": "scatter",
         "x": {
          "bdata": "MwM=",
          "dtype": "i2"
         },
         "xaxis": "x",
         "y": {
          "bdata": "AAAAAEB3O0E=",
          "dtype": "f8"
         },
         "yaxis": "y"
        },
        {
         "hovertemplate": "<b>%{hovertext}</b><br><br>facility=Wastafel<br>count=%{marker.size}<br>median_price=%{y}<extra></extra>",
         "hovertext": [
          "Wastafel"
         ],
         "legendgroup": "Wastafel",
         "marker": {
          "color": "#636efa",
          "size": {
           "bdata": "FQM=",
           "dtype": "i2"
          },
          "sizemode": "area",
          "sizeref": 1.46125,
          "symbol": "circle"
         },
         "mode": "markers",
         "name": "Wastafel",
         "orientation": "v",
         "showlegend": true,
         "type": "scatter",
         "x": {
          "bdata": "FQM=",
          "dtype": "i2"
         },
         "xaxis": "x",
         "y": {
          "bdata": "AAAAAIhfPUE=",
          "dtype": "f8"
         },
         "yaxis": "y"
        },
        {
         "hovertemplate": "<b>%{hovertext}</b><br><br>facility=Air panas<br>count=%{marker.size}<br>median_price=%{y}<extra></extra>",
         "hovertext": [
          "Air panas"
         ],
         "legendgroup": "Air panas",
         "marker": {
          "color": "#EF553B",
          "size": {
           "bdata": "/AI=",
           "dtype": "i2"
          },
          "sizemode": "area",
          "sizeref": 1.46125,
          "symbol": "circle"
         },
         "mode": "markers",
         "name": "Air panas",
         "orientation": "v",
         "showlegend": true,
         "type": "scatter",
         "x": {
          "bdata": "/AI=",
          "dtype": "i2"
         },
         "xaxis": "x",
         "y": {
          "bdata": "AAAAAODIQEE=",
          "dtype": "f8"
         },
         "yaxis": "y"
        },
        {
         "hovertemplate": "<b>%{hovertext}</b><br><br>facility=R. Makan<br>count=%{marker.size}<br>median_price=%{y}<extra></extra>",
         "hovertext": [
          "R. Makan"
         ],
         "legendgroup": "R. Makan",
         "marker": {
          "color": "#00cc96",
          "size": {
           "bdata": "+wI=",
           "dtype": "i2"
          },
          "sizemode": "area",
          "sizeref": 1.46125,
          "symbol": "circle"
         },
         "mode": "markers",
         "name": "R. Makan",
         "orientation": "v",
         "showlegend": true,
         "type": "scatter",
         "x": {
          "bdata": "+wI=",
          "dtype": "i2"
         },
         "xaxis": "x",
         "y": {
          "bdata": "AAAAAFh5OkE=",
          "dtype": "f8"
         },
         "yaxis": "y"
        },
        {
         "hovertemplate": "<b>%{hovertext}</b><br><br>facility=R. Cuci<br>count=%{marker.size}<br>median_price=%{y}<extra></extra>",
         "hovertext": [
          "R. Cuci"
         ],
         "legendgroup": "R. Cuci",
         "marker": {
          "color": "#ab63fa",
          "size": {
           "bdata": "5AI=",
           "dtype": "i2"
          },
          "sizemode": "area",
          "sizeref": 1.46125,
          "symbol": "circle"
         },
         "mode": "markers",
         "name": "R. Cuci",
         "orientation": "v",
         "showlegend": true,
         "type": "scatter",
         "x": {
          "bdata": "5AI=",
          "dtype": "i2"
         },
         "xaxis": "x",
         "y": {
          "bdata": "AAAAACiTN0E=",
          "dtype": "f8"
         },
         "yaxis": "y"
        },
        {
         "hovertemplate": "<b>%{hovertext}</b><br><br>facility=R. Santai<br>count=%{marker.size}<br>median_price=%{y}<extra></extra>",
         "hovertext": [
          "R. Santai"
         ],
         "legendgroup": "R. Santai",
         "marker": {
          "color": "#FFA15A",
          "size": {
           "bdata": "zQI=",
           "dtype": "i2"
          },
          "sizemode": "area",
          "sizeref": 1.46125,
          "symbol": "circle"
         },
         "mode": "markers",
         "name": "R. Santai",
         "orientation": "v",
         "showlegend": true,
         "type": "scatter",
         "x": {
          "bdata": "zQI=",
          "dtype": "i2"
         },
         "xaxis": "x",
         "y": {
          "bdata": "AAAAAABqOEE=",
          "dtype": "f8"
         },
         "yaxis": "y"
        },
        {
         "hovertemplate": "<b>%{hovertext}</b><br><br>facility=Kloset Jongkok<br>count=%{marker.size}<br>median_price=%{y}<extra></extra>",
         "hovertext": [
          "Kloset Jongkok"
         ],
         "legendgroup": "Kloset Jongkok",
         "marker": {
          "color": "#19d3f3",
          "size": {
           "bdata": "qgI=",
           "dtype": "i2"
          },
          "sizemode": "area",
          "sizeref": 1.46125,
          "symbol": "circle"
         },
         "mode": "markers",
         "name": "Kloset Jongkok",
         "orientation": "v",
         "showlegend": true,
         "type": "scatter",
         "x": {
          "bdata": "qgI=",
          "dtype": "i2"
         },
         "xaxis": "x",
         "y": {
          "bdata": "AAAAAICELkE=",
          "dtype": "f8"
         },
         "yaxis": "y"
        },
        {
         "hovertemplate": "<b>%{hovertext}</b><br><br>facility=Termasuk listrik<br>count=%{marker.size}<br>median_price=%{y}<extra></extra>",
         "hovertext": [
          "Termasuk listrik"
         ],
         "legendgroup": "Termasuk listrik",
         "marker": {
          "color": "#FF6692",
          "size": {
           "bdata": "FAI=",
           "dtype": "i2"
          },
          "sizemode": "area",
          "sizeref": 1.46125,
          "symbol": "circle"
         },
         "mode": "markers",
         "name": "Termasuk listrik",
         "orientation": "v",
         "showlegend": true,
         "type": "scatter",
         "x": {
          "bdata": "FAI=",
          "dtype": "i2"
         },
         "xaxis": "x",
         "y": {
          "bdata": "AAAAANASM0E=",
          "dtype": "f8"
         },
         "yaxis": "y"
        },
        {
         "hovertemplate": "<b>%{hovertext}</b><br><br>facility=Balcon<br>count=%{marker.size}<br>median_price=%{y}<extra></extra>",
         "hovertext": [
          "Balcon"
         ],
         "legendgroup": "Balcon",
         "marker": {
          "color": "#B6E880",
          "size": {
           "bdata": "ygE=",
           "dtype": "i2"
          },
          "sizemode": "area",
          "sizeref": 1.46125,
          "symbol": "circle"
         },
         "mode": "markers",
         "name": "Balcon",
         "orientation": "v",
         "showlegend": true,
         "type": "scatter",
         "x": {
          "bdata": "ygE=",
          "dtype": "i2"
         },
         "xaxis": "x",
         "y": {
          "bdata": "AAAAADSjNEE=",
          "dtype": "f8"
         },
         "yaxis": "y"
        },
        {
         "hovertemplate": "<b>%{hovertext}</b><br><br>facility=Laundry<br>count=%{marker.size}<br>median_price=%{y}<extra></extra>",
         "hovertext": [
          "Laundry"
         ],
         "legendgroup": "Laundry",
         "marker": {
          "color": "#FF97FF",
          "size": {
           "bdata": "lAE=",
           "dtype": "i2"
          },
          "sizemode": "area",
          "sizeref": 1.46125,
          "symbol": "circle"
         },
         "mode": "markers",
         "name": "Laundry",
         "orientation": "v",
         "showlegend": true,
         "type": "scatter",
         "x": {
          "bdata": "lAE=",
          "dtype": "i2"
         },
         "xaxis": "x",
         "y": {
          "bdata": "AAAAAIATPEE=",
          "dtype": "f8"
         },
         "yaxis": "y"
        },
        {
         "hovertemplate": "<b>%{hovertext}</b><br><br>facility=Mesin Cuci<br>count=%{marker.size}<br>median_price=%{y}<extra></extra>",
         "hovertext": [
          "Mesin Cuci"
         ],
         "legendgroup": "Mesin Cuci",
         "marker": {
          "color": "#FECB52",
          "size": {
           "bdata": "cwE=",
           "dtype": "i2"
          },
          "sizemode": "area",
          "sizeref": 1.46125,
          "symbol": "circle"
         },
         "mode": "markers",
         "name": "Mesin Cuci",
         "orientation": "v",
         "showlegend": true,
         "type": "scatter",
         "x": {
          "bdata": "cwE=",
          "dtype": "i2"
         },
         "xaxis": "x",
         "y": {
          "bdata": "AAAAAKDwOUE=",
          "dtype": "f8"
         },
         "yaxis": "y"
        },
        {
         "hovertemplate": "<b>%{hovertext}</b><br><br>facility=Pengurus Kos<br>count=%{marker.size}<br>median_price=%{y}<extra></extra>",
         "hovertext": [
          "Pengurus Kos"
         ],
         "legendgroup": "Pengurus Kos",
         "marker": {
          "color": "#636efa",
          "size": {
           "bdata": "WgE=",
           "dtype": "i2"
          },
          "sizemode": "area",
          "sizeref": 1.46125,
          "symbol": "circle"
         },
         "mode": "markers",
         "name": "Pengurus Kos",
         "orientation": "v",
         "showlegend": true,
         "type": "scatter",
         "x": {
          "bdata": "WgE=",
          "dtype": "i2"
         },
         "xaxis": "x",
         "y": {
          "bdata": "AAAAACDWM0E=",
          "dtype": "f8"
         },
         "yaxis": "y"
        },
        {
         "hovertemplate": "<b>%{hovertext}</b><br><br>facility=Kipas Angin<br>count=%{marker.size}<br>median_price=%{y}<extra></extra>",
         "hovertext": [
          "Kipas Angin"
         ],
         "legendgroup": "Kipas Angin",
         "marker": {
          "color": "#EF553B",
          "size": {
           "bdata": "KQE=",
           "dtype": "i2"
          },
          "sizemode": "area",
          "sizeref": 1.46125,
          "symbol": "circle"
         },
         "mode": "markers",
         "name": "Kipas Angin",
         "orientation": "v",
         "showlegend": true,
         "type": "scatter",
         "x": {
          "bdata": "KQE=",
          "dtype": "i2"
         },
         "xaxis": "x",
         "y": {
          "bdata": "AAAAAOD9LEE=",
          "dtype": "f8"
         },
         "yaxis": "y"
        },
        {
         "hovertemplate": "<b>%{hovertext}</b><br><br>facility=Cleaning service<br>count=%{marker.size}<br>median_price=%{y}<extra></extra>",
         "hovertext": [
          "Cleaning service"
         ],
         "legendgroup": "Cleaning service",
         "marker": {
          "color": "#00cc96",
          "size": {
           "bdata": "HQE=",
           "dtype": "i2"
          },
          "sizemode": "area",
          "sizeref": 1.46125,
          "symbol": "circle"
         },
         "mode": "markers",
         "name": "Cleaning service",
         "orientation": "v",
         "showlegend": true,
         "type": "scatter",
         "x": {
          "bdata": "HQE=",
          "dtype": "i2"
         },
         "xaxis": "x",
         "y": {
          "bdata": "AAAAAPj5PEE=",
          "dtype": "f8"
         },
         "yaxis": "y"
        },
        {
         "hovertemplate": "<b>%{hovertext}</b><br><br>facility=Taman<br>count=%{marker.size}<br>median_price=%{y}<extra></extra>",
         "hovertext": [
          "Taman"
         ],
         "legendgroup": "Taman",
         "marker": {
          "color": "#ab63fa",
          "size": {
           "bdata": "qAA=",
           "dtype": "i2"
          },
          "sizemode": "area",
          "sizeref": 1.46125,
          "symbol": "circle"
         },
         "mode": "markers",
         "name": "Taman",
         "orientation": "v",
         "showlegend": true,
         "type": "scatter",
         "x": {
          "bdata": "qAA=",
          "dtype": "i2"
         },
         "xaxis": "x",
         "y": {
          "bdata": "AAAAAHCZNEE=",
          "dtype": "f8"
         },
         "yaxis": "y"
        },
        {
         "hovertemplate": "<b>%{hovertext}</b><br><br>facility=Bak mandi<br>count=%{marker.size}<br>median_price=%{y}<extra></extra>",
         "hovertext": [
          "Bak mandi"
         ],
         "legendgroup": "Bak mandi",
         "marker": {
          "color": "#FFA15A",
          "size": {
           "bdata": "ngA=",
           "dtype": "i2"
          },
          "sizemode": "area",
          "sizeref": 1.46125,
          "symbol": "circle"
         },
         "mode": "markers",
         "name": "Bak mandi",
         "orientation": "v",
         "showlegend": true,
         "type": "scatter",
         "x": {
          "bdata": "ngA=",
          "dtype": "i2"
         },
         "xaxis": "x",
         "y": {
          "bdata": "AAAAAICELkE=",
          "dtype": "f8"
         },
         "yaxis": "y"
        },
        {
         "hovertemplate": "<b>%{hovertext}</b><br><br>facility=Meja Rias<br>count=%{marker.size}<br>median_price=%{y}<extra></extra>",
         "hovertext": [
          "Meja Rias"
         ],
         "legendgroup": "Meja Rias",
         "marker": {
          "color": "#19d3f3",
          "size": {
           "bdata": "lAA=",
           "dtype": "i2"
          },
          "sizemode": "area",
          "sizeref": 1.46125,
          "symbol": "circle"
         },
         "mode": "markers",
         "name": "Meja Rias",
         "orientation": "v",
         "showlegend": true,
         "type": "scatter",
         "x": {
          "bdata": "lAA=",
          "dtype": "i2"
         },
         "xaxis": "x",
         "y": {
          "bdata": "AAAAAICEPkE=",
          "dtype": "f8"
         },
         "yaxis": "y"
        },
        {
         "hovertemplate": "<b>%{hovertext}</b><br><br>facility=Rooftop<br>count=%{marker.size}<br>median_price=%{y}<extra></extra>",
         "hovertext": [
          "Rooftop"
         ],
         "legendgroup": "Rooftop",
         "marker": {
          "color": "#FF6692",
          "size": {
           "bdata": "ggA=",
           "dtype": "i2"
          },
          "sizemode": "area",
          "sizeref": 1.46125,
          "symbol": "circle"
         },
         "mode": "markers",
         "name": "Rooftop",
         "orientation": "v",
         "showlegend": true,
         "type": "scatter",
         "x": {
          "bdata": "ggA=",
          "dtype": "i2"
         },
         "xaxis": "x",
         "y": {
          "bdata": "AAAAAPw0OkE=",
          "dtype": "f8"
         },
         "yaxis": "y"
        },
        {
         "hovertemplate": "<b>%{hovertext}</b><br><br>facility=Mushola<br>count=%{marker.size}<br>median_price=%{y}<extra></extra>",
         "hovertext": [
          "Mushola"
         ],
         "legendgroup": "Mushola",
         "marker": {
          "color": "#B6E880",
          "size": {
           "bdata": "fg==",
           "dtype": "i1"
          },
          "sizemode": "area",
          "sizeref": 1.46125,
          "symbol": "circle"
         },
         "mode": "markers",
         "name": "Mushola",
         "orientation": "v",
         "showlegend": true,
         "type": "scatter",
         "x": {
          "bdata": "fg==",
          "dtype": "i1"
         },
         "xaxis": "x",
         "y": {
          "bdata": "AAAAAGDjNkE=",
          "dtype": "f8"
         },
         "yaxis": "y"
        },
        {
         "hovertemplate": "<b>%{hovertext}</b><br><br>facility=Dapur Pribadi<br>count=%{marker.size}<br>median_price=%{y}<extra></extra>",
         "hovertext": [
          "Dapur Pribadi"
         ],
         "legendgroup": "Dapur Pribadi",
         "marker": {
          "color": "#FF97FF",
          "size": {
           "bdata": "ew==",
           "dtype": "i1"
          },
          "sizemode": "area",
          "sizeref": 1.46125,
          "symbol": "circle"
         },
         "mode": "markers",
         "name": "Dapur Pribadi",
         "orientation": "v",
         "showlegend": true,
         "type": "scatter",
         "x": {
          "bdata": "ew==",
          "dtype": "i1"
         },
         "xaxis": "x",
         "y": {
          "bdata": "AAAAAIBPMkE=",
          "dtype": "f8"
         },
         "yaxis": "y"
        },
        {
         "hovertemplate": "<b>%{hovertext}</b><br><br>facility=Jual Makanan<br>count=%{marker.size}<br>median_price=%{y}<extra></extra>",
         "hovertext": [
          "Jual Makanan"
         ],
         "legendgroup": "Jual Makanan",
         "marker": {
          "color": "#FECB52",
          "size": {
           "bdata": "ew==",
           "dtype": "i1"
          },
          "sizemode": "area",
          "sizeref": 1.46125,
          "symbol": "circle"
         },
         "mode": "markers",
         "name": "Jual Makanan",
         "orientation": "v",
         "showlegend": true,
         "type": "scatter",
         "x": {
          "bdata": "ew==",
          "dtype": "i1"
         },
         "xaxis": "x",
         "y": {
          "bdata": "AAAAACDWM0E=",
          "dtype": "f8"
         },
         "yaxis": "y"
        },
        {
         "hovertemplate": "<b>%{hovertext}</b><br><br>facility=R. Keluarga<br>count=%{marker.size}<br>median_price=%{y}<extra></extra>",
         "hovertext": [
          "R. Keluarga"
         ],
         "legendgroup": "R. Keluarga",
         "marker": {
          "color": "#636efa",
          "size": {
           "bdata": "Xg==",
           "dtype": "i1"
          },
          "sizemode": "area",
          "sizeref": 1.46125,
          "symbol": "circle"
         },
         "mode": "markers",
         "name": "R. Keluarga",
         "orientation": "v",
         "showlegend": true,
         "type": "scatter",
         "x": {
          "bdata": "Xg==",
          "dtype": "i1"
         },
         "xaxis": "x",
         "y": {
          "bdata": "AAAAAMBcNUE=",
          "dtype": "f8"
         },
         "yaxis": "y"
        },
        {
         "hovertemplate": "<b>%{hovertext}</b><br><br>facility=Kartu Akses<br>count=%{marker.size}<br>median_price=%{y}<extra></extra>",
         "hovertext": [
          "Kartu Akses"
         ],
         "legendgroup": "Kartu Akses",
         "marker": {
          "color": "#EF553B",
          "size": {
           "bdata": "Wg==",
           "dtype": "i1"
          },
          "sizemode": "area",
          "sizeref": 1.46125,
          "symbol": "circle"
         },
         "mode": "markers",
         "name": "Kartu Akses",
         "orientation": "v",
         "showlegend": true,
         "type": "scatter",
         "x": {
          "bdata": "Wg==",
          "dtype": "i1"
         },
         "xaxis": "x",
         "y": {
          "bdata": "AAAAAICEPkE=",
          "dtype": "f8"
         },
         "yaxis": "y"
        },
        {
         "hovertemplate": "<b>%{hovertext}</b><br><br>facility=Gazebo<br>count=%{marker.size}<br>median_price=%{y}<extra></extra>",
         "hovertext": [
          "Gazebo"
         ],
         "legendgroup": "Gazebo",
         "marker": {
          "color": "#00cc96",
          "size": {
           "bdata": "WA==",
           "dtype": "i1"
          },
          "sizemode": "area",
          "sizeref": 1.46125,
          "symbol": "circle"
         },
         "mode": "markers",
         "name": "Gazebo",
         "orientation": "v",
         "showlegend": true,
         "type": "scatter",
         "x": {
          "bdata": "WA==",
          "dtype": "i1"
         },
         "xaxis": "x",
         "y": {
          "bdata": "AAAAAGDjNkE=",
          "dtype": "f8"
         },
         "yaxis": "y"
        },
        {
         "hovertemplate": "<b>%{hovertext}</b><br><br>facility=Rice Cooker<br>count=%{marker.size}<br>median_price=%{y}<extra></extra>",
         "hovertext": [
          "Rice Cooker"
         ],
         "legendgroup": "Rice Cooker",
         "marker": {
          "color": "#ab63fa",
          "size": {
           "bdata": "Nw==",
           "dtype": "i1"
          },
          "sizemode": "area",
          "sizeref": 1.46125,
          "symbol": "circle"
         },
         "mode": "markers",
         "name": "Rice Cooker",
         "orientation": "v",
         "showlegend": true,
         "type": "scatter",
         "x": {
          "bdata": "Nw==",
          "dtype": "i1"
         },
         "xaxis": "x",
         "y": {
          "bdata": "AAAAAMgZOUE=",
          "dtype": "f8"
         },
         "yaxis": "y"
        },
        {
         "hovertemplate": "<b>%{hovertext}</b><br><br>facility=TV Kabel<br>count=%{marker.size}<br>median_price=%{y}<extra></extra>",
         "hovertext": [
          "TV Kabel"
         ],
         "legendgroup": "TV Kabel",
         "marker": {
          "color": "#FFA15A",
          "size": {
           "bdata": "NA==",
           "dtype": "i1"
          },
          "sizemode": "area",
          "sizeref": 1.46125,
          "symbol": "circle"
         },
         "mode": "markers",
         "name": "TV Kabel",
         "orientation": "v",
         "showlegend": true,
         "type": "scatter",
         "x": {
          "bdata": "NA==",
          "dtype": "i1"
         },
         "xaxis": "x",
         "y": {
          "bdata": "AAAAAEB3O0E=",
          "dtype": "f8"
         },
         "yaxis": "y"
        },
        {
         "hovertemplate": "<b>%{hovertext}</b><br><br>facility=Locker<br>count=%{marker.size}<br>median_price=%{y}<extra></extra>",
         "hovertext": [
          "Locker"
         ],
         "legendgroup": "Locker",
         "marker": {
          "color": "#19d3f3",
          "size": {
           "bdata": "Ig==",
           "dtype": "i1"
          },
          "sizemode": "area",
          "sizeref": 1.46125,
          "symbol": "circle"
         },
         "mode": "markers",
         "name": "Locker",
         "orientation": "v",
         "showlegend": true,
         "type": "scatter",
         "x": {
          "bdata": "Ig==",
          "dtype": "i1"
         },
         "xaxis": "x",
         "y": {
          "bdata": "AAAAAMj7PUE=",
          "dtype": "f8"
         },
         "yaxis": "y"
        },
        {
         "hovertemplate": "<b>%{hovertext}</b><br><br>facility=Meja makan<br>count=%{marker.size}<br>median_price=%{y}<extra></extra>",
         "hovertext": [
          "Meja makan"
         ],
         "legendgroup": "Meja makan",
         "marker": {
          "color": "#FF6692",
          "size": {
           "bdata": "Fg==",
           "dtype": "i1"
          },
          "sizemode": "area",
          "sizeref": 1.46125,
          "symbol": "circle"
         },
         "mode": "markers",
         "name": "Meja makan",
         "orientation": "v",
         "showlegend": true,
         "type": "scatter",
         "x": {
          "bdata": "Fg==",
          "dtype": "i1"
         },
         "xaxis": "x",
         "y": {
          "bdata": "AAAAAHCZNEE=",
          "dtype": "f8"
         },
         "yaxis": "y"
        },
        {
         "hovertemplate": "<b>%{hovertext}</b><br><br>facility=unknown<br>count=%{marker.size}<br>median_price=%{y}<extra></extra>",
         "hovertext": [
          "unknown"
         ],
         "legendgroup": "unknown",
         "marker": {
          "color": "#B6E880",
          "size": {
           "bdata": "FQ==",
           "dtype": "i1"
          },
          "sizemode": "area",
          "sizeref": 1.46125,
          "symbol": "circle"
         },
         "mode": "markers",
         "name": "unknown",
         "orientation": "v",
         "showlegend": true,
         "type": "scatter",
         "x": {
          "bdata": "FQ==",
          "dtype": "i1"
         },
         "xaxis": "x",
         "y": {
          "bdata": "AAAAAEAGOUE=",
          "dtype": "f8"
         },
         "yaxis": "y"
        },
        {
         "hovertemplate": "<b>%{hovertext}</b><br><br>facility=Sofa<br>count=%{marker.size}<br>median_price=%{y}<extra></extra>",
         "hovertext": [
          "Sofa"
         ],
         "legendgroup": "Sofa",
         "marker": {
          "color": "#FF97FF",
          "size": {
           "bdata": "FQ==",
           "dtype": "i1"
          },
          "sizemode": "area",
          "sizeref": 1.46125,
          "symbol": "circle"
         },
         "mode": "markers",
         "name": "Sofa",
         "orientation": "v",
         "showlegend": true,
         "type": "scatter",
         "x": {
          "bdata": "FQ==",
          "dtype": "i1"
         },
         "xaxis": "x",
         "y": {
          "bdata": "AAAAAMBcNUE=",
          "dtype": "f8"
         },
         "yaxis": "y"
        },
        {
         "hovertemplate": "<b>%{hovertext}</b><br><br>facility=Joglo<br>count=%{marker.size}<br>median_price=%{y}<extra></extra>",
         "hovertext": [
          "Joglo"
         ],
         "legendgroup": "Joglo",
         "marker": {
          "color": "#FECB52",
          "size": {
           "bdata": "Dg==",
           "dtype": "i1"
          },
          "sizemode": "area",
          "sizeref": 1.46125,
          "symbol": "circle"
         },
         "mode": "markers",
         "name": "Joglo",
         "orientation": "v",
         "showlegend": true,
         "type": "scatter",
         "x": {
          "bdata": "Dg==",
          "dtype": "i1"
         },
         "xaxis": "x",
         "y": {
          "bdata": "AAAAAGDjJkE=",
          "dtype": "f8"
         },
         "yaxis": "y"
        },
        {
         "hovertemplate": "<b>%{hovertext}</b><br><br>facility=Bathtub<br>count=%{marker.size}<br>median_price=%{y}<extra></extra>",
         "hovertext": [
          "Bathtub"
         ],
         "legendgroup": "Bathtub",
         "marker": {
          "color": "#636efa",
          "size": {
           "bdata": "DA==",
           "dtype": "i1"
          },
          "sizemode": "area",
          "sizeref": 1.46125,
          "symbol": "circle"
         },
         "mode": "markers",
         "name": "Bathtub",
         "orientation": "v",
         "showlegend": true,
         "type": "scatter",
         "x": {
          "bdata": "DA==",
          "dtype": "i1"
         },
         "xaxis": "x",
         "y": {
          "bdata": "AAAAANPHREE=",
          "dtype": "f8"
         },
         "yaxis": "y"
        },
        {
         "hovertemplate": "<b>%{hovertext}</b><br><br>facility=microwave<br>count=%{marker.size}<br>median_price=%{y}<extra></extra>",
         "hovertext": [
          "microwave"
         ],
         "legendgroup": "microwave",
         "marker": {
          "color": "#EF553B",
          "size": {
           "bdata": "Bg==",
           "dtype": "i1"
          },
          "sizemode": "area",
          "sizeref": 1.46125,
          "symbol": "circle"
         },
         "mode": "markers",
         "name": "microwave",
         "orientation": "v",
         "showlegend": true,
         "type": "scatter",
         "x": {
          "bdata": "Bg==",
          "dtype": "i1"
         },
         "xaxis": "x",
         "y": {
          "bdata": "AAAAALCmN0E=",
          "dtype": "f8"
         },
         "yaxis": "y"
        }
       ],
       "layout": {
        "legend": {
         "itemsizing": "constant",
         "title": {
          "text": "facility"
         },
         "tracegroupgap": 0
        },
        "margin": {
         "t": 60
        },
        "template": {
         "data": {
          "bar": [
           {
            "error_x": {
             "color": "#2a3f5f"
            },
            "error_y": {
             "color": "#2a3f5f"
            },
            "marker": {
             "line": {
              "color": "#E5ECF6",
              "width": 0.5
             },
             "pattern": {
              "fillmode": "overlay",
              "size": 10,
              "solidity": 0.2
             }
            },
            "type": "bar"
           }
          ],
          "barpolar": [
           {
            "marker": {
             "line": {
              "color": "#E5ECF6",
              "width": 0.5
             },
             "pattern": {
              "fillmode": "overlay",
              "size": 10,
              "solidity": 0.2
             }
            },
            "type": "barpolar"
           }
          ],
          "carpet": [
           {
            "aaxis": {
             "endlinecolor": "#2a3f5f",
             "gridcolor": "white",
             "linecolor": "white",
             "minorgridcolor": "white",
             "startlinecolor": "#2a3f5f"
            },
            "baxis": {
             "endlinecolor": "#2a3f5f",
             "gridcolor": "white",
             "linecolor": "white",
             "minorgridcolor": "white",
             "startlinecolor": "#2a3f5f"
            },
            "type": "carpet"
           }
          ],
          "choropleth": [
           {
            "colorbar": {
             "outlinewidth": 0,
             "ticks": ""
            },
            "type": "choropleth"
           }
          ],
          "contour": [
           {
            "colorbar": {
             "outlinewidth": 0,
             "ticks": ""
            },
            "colorscale": [
             [
              0,
              "#0d0887"
             ],
             [
              0.1111111111111111,
              "#46039f"
             ],
             [
              0.2222222222222222,
              "#7201a8"
             ],
             [
              0.3333333333333333,
              "#9c179e"
             ],
             [
              0.4444444444444444,
              "#bd3786"
             ],
             [
              0.5555555555555556,
              "#d8576b"
             ],
             [
              0.6666666666666666,
              "#ed7953"
             ],
             [
              0.7777777777777778,
              "#fb9f3a"
             ],
             [
              0.8888888888888888,
              "#fdca26"
             ],
             [
              1,
              "#f0f921"
             ]
            ],
            "type": "contour"
           }
          ],
          "contourcarpet": [
           {
            "colorbar": {
             "outlinewidth": 0,
             "ticks": ""
            },
            "type": "contourcarpet"
           }
          ],
          "heatmap": [
           {
            "colorbar": {
             "outlinewidth": 0,
             "ticks": ""
            },
            "colorscale": [
             [
              0,
              "#0d0887"
             ],
             [
              0.1111111111111111,
              "#46039f"
             ],
             [
              0.2222222222222222,
              "#7201a8"
             ],
             [
              0.3333333333333333,
              "#9c179e"
             ],
             [
              0.4444444444444444,
              "#bd3786"
             ],
             [
              0.5555555555555556,
              "#d8576b"
             ],
             [
              0.6666666666666666,
              "#ed7953"
             ],
             [
              0.7777777777777778,
              "#fb9f3a"
             ],
             [
              0.8888888888888888,
              "#fdca26"
             ],
             [
              1,
              "#f0f921"
             ]
            ],
            "type": "heatmap"
           }
          ],
          "histogram": [
           {
            "marker": {
             "pattern": {
              "fillmode": "overlay",
              "size": 10,
              "solidity": 0.2
             }
            },
            "type": "histogram"
           }
          ],
          "histogram2d": [
           {
            "colorbar": {
             "outlinewidth": 0,
             "ticks": ""
            },
            "colorscale": [
             [
              0,
              "#0d0887"
             ],
             [
              0.1111111111111111,
              "#46039f"
             ],
             [
              0.2222222222222222,
              "#7201a8"
             ],
             [
              0.3333333333333333,
              "#9c179e"
             ],
             [
              0.4444444444444444,
              "#bd3786"
             ],
             [
              0.5555555555555556,
              "#d8576b"
             ],
             [
              0.6666666666666666,
              "#ed7953"
             ],
             [
              0.7777777777777778,
              "#fb9f3a"
             ],
             [
              0.8888888888888888,
              "#fdca26"
             ],
             [
              1,
              "#f0f921"
             ]
            ],
            "type": "histogram2d"
           }
          ],
          "histogram2dcontour": [
           {
            "colorbar": {
             "outlinewidth": 0,
             "ticks": ""
            },
            "colorscale": [
             [
              0,
              "#0d0887"
             ],
             [
              0.1111111111111111,
              "#46039f"
             ],
             [
              0.2222222222222222,
              "#7201a8"
             ],
             [
              0.3333333333333333,
              "#9c179e"
             ],
             [
              0.4444444444444444,
              "#bd3786"
             ],
             [
              0.5555555555555556,
              "#d8576b"
             ],
             [
              0.6666666666666666,
              "#ed7953"
             ],
             [
              0.7777777777777778,
              "#fb9f3a"
             ],
             [
              0.8888888888888888,
              "#fdca26"
             ],
             [
              1,
              "#f0f921"
             ]
            ],
            "type": "histogram2dcontour"
           }
          ],
          "mesh3d": [
           {
            "colorbar": {
             "outlinewidth": 0,
             "ticks": ""
            },
            "type": "mesh3d"
           }
          ],
          "parcoords": [
           {
            "line": {
             "colorbar": {
              "outlinewidth": 0,
              "ticks": ""
             }
            },
            "type": "parcoords"
           }
          ],
          "pie": [
           {
            "automargin": true,
            "type": "pie"
           }
          ],
          "scatter": [
           {
            "fillpattern": {
             "fillmode": "overlay",
             "size": 10,
             "solidity": 0.2
            },
            "type": "scatter"
           }
          ],
          "scatter3d": [
           {
            "line": {
             "colorbar": {
              "outlinewidth": 0,
              "ticks": ""
             }
            },
            "marker": {
             "colorbar": {
              "outlinewidth": 0,
              "ticks": ""
             }
            },
            "type": "scatter3d"
           }
          ],
          "scattercarpet": [
           {
            "marker": {
             "colorbar": {
              "outlinewidth": 0,
              "ticks": ""
             }
            },
            "type": "scattercarpet"
           }
          ],
          "scattergeo": [
           {
            "marker": {
             "colorbar": {
              "outlinewidth": 0,
              "ticks": ""
             }
            },
            "type": "scattergeo"
           }
          ],
          "scattergl": [
           {
            "marker": {
             "colorbar": {
              "outlinewidth": 0,
              "ticks": ""
             }
            },
            "type": "scattergl"
           }
          ],
          "scattermap": [
           {
            "marker": {
             "colorbar": {
              "outlinewidth": 0,
              "ticks": ""
             }
            },
            "type": "scattermap"
           }
          ],
          "scattermapbox": [
           {
            "marker": {
             "colorbar": {
              "outlinewidth": 0,
              "ticks": ""
             }
            },
            "type": "scattermapbox"
           }
          ],
          "scatterpolar": [
           {
            "marker": {
             "colorbar": {
              "outlinewidth": 0,
              "ticks": ""
             }
            },
            "type": "scatterpolar"
           }
          ],
          "scatterpolargl": [
           {
            "marker": {
             "colorbar": {
              "outlinewidth": 0,
              "ticks": ""
             }
            },
            "type": "scatterpolargl"
           }
          ],
          "scatterternary": [
           {
            "marker": {
             "colorbar": {
              "outlinewidth": 0,
              "ticks": ""
             }
            },
            "type": "scatterternary"
           }
          ],
          "surface": [
           {
            "colorbar": {
             "outlinewidth": 0,
             "ticks": ""
            },
            "colorscale": [
             [
              0,
              "#0d0887"
             ],
             [
              0.1111111111111111,
              "#46039f"
             ],
             [
              0.2222222222222222,
              "#7201a8"
             ],
             [
              0.3333333333333333,
              "#9c179e"
             ],
             [
              0.4444444444444444,
              "#bd3786"
             ],
             [
              0.5555555555555556,
              "#d8576b"
             ],
             [
              0.6666666666666666,
              "#ed7953"
             ],
             [
              0.7777777777777778,
              "#fb9f3a"
             ],
             [
              0.8888888888888888,
              "#fdca26"
             ],
             [
              1,
              "#f0f921"
             ]
            ],
            "type": "surface"
           }
          ],
          "table": [
           {
            "cells": {
             "fill": {
              "color": "#EBF0F8"
             },
             "line": {
              "color": "white"
             }
            },
            "header": {
             "fill": {
              "color": "#C8D4E3"
             },
             "line": {
              "color": "white"
             }
            },
            "type": "table"
           }
          ]
         },
         "layout": {
          "annotationdefaults": {
           "arrowcolor": "#2a3f5f",
           "arrowhead": 0,
           "arrowwidth": 1
          },
          "autotypenumbers": "strict",
          "coloraxis": {
           "colorbar": {
            "outlinewidth": 0,
            "ticks": ""
           }
          },
          "colorscale": {
           "diverging": [
            [
             0,
             "#8e0152"
            ],
            [
             0.1,
             "#c51b7d"
            ],
            [
             0.2,
             "#de77ae"
            ],
            [
             0.3,
             "#f1b6da"
            ],
            [
             0.4,
             "#fde0ef"
            ],
            [
             0.5,
             "#f7f7f7"
            ],
            [
             0.6,
             "#e6f5d0"
            ],
            [
             0.7,
             "#b8e186"
            ],
            [
             0.8,
             "#7fbc41"
            ],
            [
             0.9,
             "#4d9221"
            ],
            [
             1,
             "#276419"
            ]
           ],
           "sequential": [
            [
             0,
             "#0d0887"
            ],
            [
             0.1111111111111111,
             "#46039f"
            ],
            [
             0.2222222222222222,
             "#7201a8"
            ],
            [
             0.3333333333333333,
             "#9c179e"
            ],
            [
             0.4444444444444444,
             "#bd3786"
            ],
            [
             0.5555555555555556,
             "#d8576b"
            ],
            [
             0.6666666666666666,
             "#ed7953"
            ],
            [
             0.7777777777777778,
             "#fb9f3a"
            ],
            [
             0.8888888888888888,
             "#fdca26"
            ],
            [
             1,
             "#f0f921"
            ]
           ],
           "sequentialminus": [
            [
             0,
             "#0d0887"
            ],
            [
             0.1111111111111111,
             "#46039f"
            ],
            [
             0.2222222222222222,
             "#7201a8"
            ],
            [
             0.3333333333333333,
             "#9c179e"
            ],
            [
             0.4444444444444444,
             "#bd3786"
            ],
            [
             0.5555555555555556,
             "#d8576b"
            ],
            [
             0.6666666666666666,
             "#ed7953"
            ],
            [
             0.7777777777777778,
             "#fb9f3a"
            ],
            [
             0.8888888888888888,
             "#fdca26"
            ],
            [
             1,
             "#f0f921"
            ]
           ]
          },
          "colorway": [
           "#636efa",
           "#EF553B",
           "#00cc96",
           "#ab63fa",
           "#FFA15A",
           "#19d3f3",
           "#FF6692",
           "#B6E880",
           "#FF97FF",
           "#FECB52"
          ],
          "font": {
           "color": "#2a3f5f"
          },
          "geo": {
           "bgcolor": "white",
           "lakecolor": "white",
           "landcolor": "#E5ECF6",
           "showlakes": true,
           "showland": true,
           "subunitcolor": "white"
          },
          "hoverlabel": {
           "align": "left"
          },
          "hovermode": "closest",
          "mapbox": {
           "style": "light"
          },
          "paper_bgcolor": "white",
          "plot_bgcolor": "#E5ECF6",
          "polar": {
           "angularaxis": {
            "gridcolor": "white",
            "linecolor": "white",
            "ticks": ""
           },
           "bgcolor": "#E5ECF6",
           "radialaxis": {
            "gridcolor": "white",
            "linecolor": "white",
            "ticks": ""
           }
          },
          "scene": {
           "xaxis": {
            "backgroundcolor": "#E5ECF6",
            "gridcolor": "white",
            "gridwidth": 2,
            "linecolor": "white",
            "showbackground": true,
            "ticks": "",
            "zerolinecolor": "white"
           },
           "yaxis": {
            "backgroundcolor": "#E5ECF6",
            "gridcolor": "white",
            "gridwidth": 2,
            "linecolor": "white",
            "showbackground": true,
            "ticks": "",
            "zerolinecolor": "white"
           },
           "zaxis": {
            "backgroundcolor": "#E5ECF6",
            "gridcolor": "white",
            "gridwidth": 2,
            "linecolor": "white",
            "showbackground": true,
            "ticks": "",
            "zerolinecolor": "white"
           }
          },
          "shapedefaults": {
           "line": {
            "color": "#2a3f5f"
           }
          },
          "ternary": {
           "aaxis": {
            "gridcolor": "white",
            "linecolor": "white",
            "ticks": ""
           },
           "baxis": {
            "gridcolor": "white",
            "linecolor": "white",
            "ticks": ""
           },
           "bgcolor": "#E5ECF6",
           "caxis": {
            "gridcolor": "white",
            "linecolor": "white",
            "ticks": ""
           }
          },
          "title": {
           "x": 0.05
          },
          "xaxis": {
           "automargin": true,
           "gridcolor": "white",
           "linecolor": "white",
           "ticks": "",
           "title": {
            "standoff": 15
           },
           "zerolinecolor": "white",
           "zerolinewidth": 2
          },
          "yaxis": {
           "automargin": true,
           "gridcolor": "white",
           "linecolor": "white",
           "ticks": "",
           "title": {
            "standoff": 15
           },
           "zerolinecolor": "white",
           "zerolinewidth": 2
          }
         }
        },
        "title": {
         "text": "Perbandingan Harga Median dan Jumlah Fasilitas"
        },
        "xaxis": {
         "anchor": "y",
         "domain": [
          0,
          1
         ],
         "title": {
          "text": "Jumlah Fasilitas"
         }
        },
        "yaxis": {
         "anchor": "x",
         "domain": [
          0,
          1
         ],
         "title": {
          "text": "Harga Median"
         }
        }
       }
      }
     },
     "metadata": {},
     "output_type": "display_data"
    }
   ],
   "source": [
    "import plotly.express as px\n",
    "\n",
    "fig = px.scatter(\n",
    "    facilities_df,\n",
    "    x='count',\n",
    "    y='median_price',\n",
    "    size='count',\n",
    "    color='facility',\n",
    "    hover_name='facility',\n",
    "    size_max=40\n",
    ")\n",
    "\n",
    "fig.update_layout(\n",
    "    title_text='Perbandingan Harga Median dan Jumlah Fasilitas',\n",
    "    xaxis_title='Jumlah Fasilitas',\n",
    "    yaxis_title='Harga Median'\n",
    ")\n",
    "\n",
    "fig.show()\n"
   ]
  },
  {
   "cell_type": "markdown",
   "metadata": {},
   "source": [
    "### Predictive Modeling: Build machine learning models to estimate kos price"
   ]
  },
  {
   "cell_type": "code",
   "execution_count": 27,
   "metadata": {},
   "outputs": [
    {
     "data": {
      "text/html": [
       "<div>\n",
       "<style scoped>\n",
       "    .dataframe tbody tr th:only-of-type {\n",
       "        vertical-align: middle;\n",
       "    }\n",
       "\n",
       "    .dataframe tbody tr th {\n",
       "        vertical-align: top;\n",
       "    }\n",
       "\n",
       "    .dataframe thead th {\n",
       "        text-align: right;\n",
       "    }\n",
       "</style>\n",
       "<table border=\"1\" class=\"dataframe\">\n",
       "  <thead>\n",
       "    <tr style=\"text-align: right;\">\n",
       "      <th></th>\n",
       "      <th>region</th>\n",
       "      <th>location</th>\n",
       "      <th>all_facilities_bs</th>\n",
       "      <th>room_availability_bs</th>\n",
       "      <th>price</th>\n",
       "      <th>rating</th>\n",
       "      <th>rating_count</th>\n",
       "      <th>transaction_count</th>\n",
       "      <th>tipe_kos</th>\n",
       "      <th>room_area</th>\n",
       "      <th>...</th>\n",
       "      <th>K. Mandi Luar</th>\n",
       "      <th>Jemuran</th>\n",
       "      <th>Dispenser</th>\n",
       "      <th>Wastafel</th>\n",
       "      <th>Air panas</th>\n",
       "      <th>R. Makan</th>\n",
       "      <th>R. Cuci</th>\n",
       "      <th>R. Santai</th>\n",
       "      <th>Kloset Jongkok</th>\n",
       "      <th>Termasuk listrik</th>\n",
       "    </tr>\n",
       "  </thead>\n",
       "  <tbody>\n",
       "    <tr>\n",
       "      <th>0</th>\n",
       "      <td>Bogor</td>\n",
       "      <td>Babakan Madang</td>\n",
       "      <td>3 x 4 meter; Termasuk listrik; Kasur; Bantal; ...</td>\n",
       "      <td>0.0</td>\n",
       "      <td>950000</td>\n",
       "      <td>0.0</td>\n",
       "      <td>0.0</td>\n",
       "      <td>0.0</td>\n",
       "      <td>Kos Campur</td>\n",
       "      <td>12.0</td>\n",
       "      <td>...</td>\n",
       "      <td>0</td>\n",
       "      <td>0</td>\n",
       "      <td>1</td>\n",
       "      <td>0</td>\n",
       "      <td>0</td>\n",
       "      <td>0</td>\n",
       "      <td>0</td>\n",
       "      <td>0</td>\n",
       "      <td>0</td>\n",
       "      <td>1</td>\n",
       "    </tr>\n",
       "    <tr>\n",
       "      <th>1</th>\n",
       "      <td>Depok</td>\n",
       "      <td>Cinere</td>\n",
       "      <td>4 x 3 meter; Tidak termasuk listrik; AC; Kasur...</td>\n",
       "      <td>0.0</td>\n",
       "      <td>1100000</td>\n",
       "      <td>0.0</td>\n",
       "      <td>0.0</td>\n",
       "      <td>0.0</td>\n",
       "      <td>Kos Putra</td>\n",
       "      <td>12.0</td>\n",
       "      <td>...</td>\n",
       "      <td>0</td>\n",
       "      <td>1</td>\n",
       "      <td>0</td>\n",
       "      <td>0</td>\n",
       "      <td>0</td>\n",
       "      <td>0</td>\n",
       "      <td>0</td>\n",
       "      <td>0</td>\n",
       "      <td>1</td>\n",
       "      <td>1</td>\n",
       "    </tr>\n",
       "    <tr>\n",
       "      <th>2</th>\n",
       "      <td>Tangerang Selatan</td>\n",
       "      <td>Kecamatan Pondok Aren</td>\n",
       "      <td>3 x 3 meter; Tidak termasuk listrik; AC; Kasur...</td>\n",
       "      <td>1.0</td>\n",
       "      <td>1100000</td>\n",
       "      <td>0.0</td>\n",
       "      <td>0.0</td>\n",
       "      <td>0.0</td>\n",
       "      <td>Kos Putra</td>\n",
       "      <td>9.0</td>\n",
       "      <td>...</td>\n",
       "      <td>0</td>\n",
       "      <td>1</td>\n",
       "      <td>1</td>\n",
       "      <td>0</td>\n",
       "      <td>0</td>\n",
       "      <td>0</td>\n",
       "      <td>0</td>\n",
       "      <td>0</td>\n",
       "      <td>1</td>\n",
       "      <td>1</td>\n",
       "    </tr>\n",
       "    <tr>\n",
       "      <th>3</th>\n",
       "      <td>Bogor</td>\n",
       "      <td>Babakan Madang</td>\n",
       "      <td>3 x 4 meter; Termasuk listrik; Kasur; Lemari B...</td>\n",
       "      <td>2.0</td>\n",
       "      <td>700000</td>\n",
       "      <td>0.0</td>\n",
       "      <td>0.0</td>\n",
       "      <td>0.0</td>\n",
       "      <td>Kos Campur</td>\n",
       "      <td>12.0</td>\n",
       "      <td>...</td>\n",
       "      <td>1</td>\n",
       "      <td>1</td>\n",
       "      <td>1</td>\n",
       "      <td>0</td>\n",
       "      <td>0</td>\n",
       "      <td>1</td>\n",
       "      <td>0</td>\n",
       "      <td>1</td>\n",
       "      <td>0</td>\n",
       "      <td>1</td>\n",
       "    </tr>\n",
       "    <tr>\n",
       "      <th>4</th>\n",
       "      <td>Tangerang Selatan</td>\n",
       "      <td>Kecamatan Serpong Utara</td>\n",
       "      <td>2 x 3 meter; Termasuk listrik; AC; Kasur; Lema...</td>\n",
       "      <td>2.0</td>\n",
       "      <td>1500000</td>\n",
       "      <td>0.0</td>\n",
       "      <td>0.0</td>\n",
       "      <td>0.0</td>\n",
       "      <td>Kos Putra</td>\n",
       "      <td>6.0</td>\n",
       "      <td>...</td>\n",
       "      <td>1</td>\n",
       "      <td>0</td>\n",
       "      <td>1</td>\n",
       "      <td>1</td>\n",
       "      <td>0</td>\n",
       "      <td>0</td>\n",
       "      <td>0</td>\n",
       "      <td>0</td>\n",
       "      <td>0</td>\n",
       "      <td>1</td>\n",
       "    </tr>\n",
       "  </tbody>\n",
       "</table>\n",
       "<p>5 rows × 49 columns</p>\n",
       "</div>"
      ],
      "text/plain": [
       "              region                 location  \\\n",
       "0              Bogor           Babakan Madang   \n",
       "1              Depok                   Cinere   \n",
       "2  Tangerang Selatan    Kecamatan Pondok Aren   \n",
       "3              Bogor           Babakan Madang   \n",
       "4  Tangerang Selatan  Kecamatan Serpong Utara   \n",
       "\n",
       "                                   all_facilities_bs  room_availability_bs  \\\n",
       "0  3 x 4 meter; Termasuk listrik; Kasur; Bantal; ...                   0.0   \n",
       "1  4 x 3 meter; Tidak termasuk listrik; AC; Kasur...                   0.0   \n",
       "2  3 x 3 meter; Tidak termasuk listrik; AC; Kasur...                   1.0   \n",
       "3  3 x 4 meter; Termasuk listrik; Kasur; Lemari B...                   2.0   \n",
       "4  2 x 3 meter; Termasuk listrik; AC; Kasur; Lema...                   2.0   \n",
       "\n",
       "     price  rating  rating_count  transaction_count    tipe_kos  room_area  \\\n",
       "0   950000     0.0           0.0                0.0  Kos Campur       12.0   \n",
       "1  1100000     0.0           0.0                0.0   Kos Putra       12.0   \n",
       "2  1100000     0.0           0.0                0.0   Kos Putra        9.0   \n",
       "3   700000     0.0           0.0                0.0  Kos Campur       12.0   \n",
       "4  1500000     0.0           0.0                0.0   Kos Putra        6.0   \n",
       "\n",
       "   ...  K. Mandi Luar Jemuran  Dispenser  Wastafel  Air panas  R. Makan  \\\n",
       "0  ...              0       0          1         0          0         0   \n",
       "1  ...              0       1          0         0          0         0   \n",
       "2  ...              0       1          1         0          0         0   \n",
       "3  ...              1       1          1         0          0         1   \n",
       "4  ...              1       0          1         1          0         0   \n",
       "\n",
       "   R. Cuci  R. Santai  Kloset Jongkok  Termasuk listrik  \n",
       "0        0          0               0                 1  \n",
       "1        0          0               1                 1  \n",
       "2        0          0               1                 1  \n",
       "3        0          1               0                 1  \n",
       "4        0          0               0                 1  \n",
       "\n",
       "[5 rows x 49 columns]"
      ]
     },
     "execution_count": 27,
     "metadata": {},
     "output_type": "execute_result"
    }
   ],
   "source": [
    "selected_facilities = facilities_df.loc[facilities_df['count'] > 500, 'facility'].tolist()\n",
    "\n",
    "# 4. Buat kolom dummy untuk fasilitas terpilih\n",
    "for f in selected_facilities:\n",
    "    df[f] = df['all_facilities_bs'].str.contains(f, case=False, na=False).astype(int)\n",
    "\n",
    "df.head()"
   ]
  },
  {
   "cell_type": "code",
   "execution_count": 28,
   "metadata": {},
   "outputs": [],
   "source": [
    "df.columns = (\n",
    "    df.columns\n",
    "      .str.replace(\" \", \"_\")\n",
    "      .str.replace(\".\", \"\", regex=False)\n",
    ")\n",
    "\n",
    "df.drop(columns=['all_facilities_bs', 'Tidak_termasuk_listrik', 'location', 'Kasur', 'rating_count'], inplace=True)\n",
    "\n",
    "df.to_csv('data_clean.csv')"
   ]
  },
  {
   "cell_type": "code",
   "execution_count": 29,
   "metadata": {},
   "outputs": [
    {
     "data": {
      "text/html": [
       "<div>\n",
       "<style scoped>\n",
       "    .dataframe tbody tr th:only-of-type {\n",
       "        vertical-align: middle;\n",
       "    }\n",
       "\n",
       "    .dataframe tbody tr th {\n",
       "        vertical-align: top;\n",
       "    }\n",
       "\n",
       "    .dataframe thead th {\n",
       "        text-align: right;\n",
       "    }\n",
       "</style>\n",
       "<table border=\"1\" class=\"dataframe\">\n",
       "  <thead>\n",
       "    <tr style=\"text-align: right;\">\n",
       "      <th></th>\n",
       "      <th>region</th>\n",
       "      <th>room_availability_bs</th>\n",
       "      <th>rating</th>\n",
       "      <th>transaction_count</th>\n",
       "      <th>tipe_kos</th>\n",
       "      <th>room_area</th>\n",
       "      <th>is_discount</th>\n",
       "      <th>Parkir_Motor</th>\n",
       "      <th>Lemari_Baju</th>\n",
       "      <th>WiFi</th>\n",
       "      <th>...</th>\n",
       "      <th>K_Mandi_Luar</th>\n",
       "      <th>Jemuran</th>\n",
       "      <th>Dispenser</th>\n",
       "      <th>Wastafel</th>\n",
       "      <th>Air_panas</th>\n",
       "      <th>R_Makan</th>\n",
       "      <th>R_Cuci</th>\n",
       "      <th>R_Santai</th>\n",
       "      <th>Kloset_Jongkok</th>\n",
       "      <th>Termasuk_listrik</th>\n",
       "    </tr>\n",
       "  </thead>\n",
       "  <tbody>\n",
       "    <tr>\n",
       "      <th>927</th>\n",
       "      <td>Bekasi</td>\n",
       "      <td>1.0</td>\n",
       "      <td>0.0</td>\n",
       "      <td>0.0</td>\n",
       "      <td>Kos Campur</td>\n",
       "      <td>9.00</td>\n",
       "      <td>0</td>\n",
       "      <td>0</td>\n",
       "      <td>0</td>\n",
       "      <td>1</td>\n",
       "      <td>...</td>\n",
       "      <td>0</td>\n",
       "      <td>1</td>\n",
       "      <td>0</td>\n",
       "      <td>0</td>\n",
       "      <td>0</td>\n",
       "      <td>0</td>\n",
       "      <td>0</td>\n",
       "      <td>1</td>\n",
       "      <td>1</td>\n",
       "      <td>1</td>\n",
       "    </tr>\n",
       "    <tr>\n",
       "      <th>1986</th>\n",
       "      <td>Depok</td>\n",
       "      <td>0.0</td>\n",
       "      <td>4.9</td>\n",
       "      <td>42.0</td>\n",
       "      <td>Kos Putri</td>\n",
       "      <td>8.75</td>\n",
       "      <td>1</td>\n",
       "      <td>1</td>\n",
       "      <td>1</td>\n",
       "      <td>1</td>\n",
       "      <td>...</td>\n",
       "      <td>0</td>\n",
       "      <td>0</td>\n",
       "      <td>0</td>\n",
       "      <td>0</td>\n",
       "      <td>0</td>\n",
       "      <td>0</td>\n",
       "      <td>1</td>\n",
       "      <td>0</td>\n",
       "      <td>0</td>\n",
       "      <td>1</td>\n",
       "    </tr>\n",
       "    <tr>\n",
       "      <th>1201</th>\n",
       "      <td>Bekasi</td>\n",
       "      <td>0.0</td>\n",
       "      <td>0.0</td>\n",
       "      <td>3.0</td>\n",
       "      <td>Kos Putri</td>\n",
       "      <td>9.00</td>\n",
       "      <td>0</td>\n",
       "      <td>1</td>\n",
       "      <td>1</td>\n",
       "      <td>1</td>\n",
       "      <td>...</td>\n",
       "      <td>0</td>\n",
       "      <td>1</td>\n",
       "      <td>1</td>\n",
       "      <td>0</td>\n",
       "      <td>0</td>\n",
       "      <td>0</td>\n",
       "      <td>1</td>\n",
       "      <td>0</td>\n",
       "      <td>0</td>\n",
       "      <td>1</td>\n",
       "    </tr>\n",
       "    <tr>\n",
       "      <th>1583</th>\n",
       "      <td>Jakarta Barat</td>\n",
       "      <td>2.0</td>\n",
       "      <td>4.9</td>\n",
       "      <td>15.0</td>\n",
       "      <td>Kos Campur</td>\n",
       "      <td>9.00</td>\n",
       "      <td>1</td>\n",
       "      <td>1</td>\n",
       "      <td>1</td>\n",
       "      <td>1</td>\n",
       "      <td>...</td>\n",
       "      <td>0</td>\n",
       "      <td>0</td>\n",
       "      <td>0</td>\n",
       "      <td>0</td>\n",
       "      <td>0</td>\n",
       "      <td>0</td>\n",
       "      <td>0</td>\n",
       "      <td>0</td>\n",
       "      <td>0</td>\n",
       "      <td>1</td>\n",
       "    </tr>\n",
       "    <tr>\n",
       "      <th>553</th>\n",
       "      <td>Jakarta Barat</td>\n",
       "      <td>2.0</td>\n",
       "      <td>0.0</td>\n",
       "      <td>11.0</td>\n",
       "      <td>Kos Putri</td>\n",
       "      <td>12.00</td>\n",
       "      <td>1</td>\n",
       "      <td>1</td>\n",
       "      <td>1</td>\n",
       "      <td>1</td>\n",
       "      <td>...</td>\n",
       "      <td>0</td>\n",
       "      <td>0</td>\n",
       "      <td>0</td>\n",
       "      <td>1</td>\n",
       "      <td>1</td>\n",
       "      <td>1</td>\n",
       "      <td>1</td>\n",
       "      <td>1</td>\n",
       "      <td>0</td>\n",
       "      <td>1</td>\n",
       "    </tr>\n",
       "    <tr>\n",
       "      <th>...</th>\n",
       "      <td>...</td>\n",
       "      <td>...</td>\n",
       "      <td>...</td>\n",
       "      <td>...</td>\n",
       "      <td>...</td>\n",
       "      <td>...</td>\n",
       "      <td>...</td>\n",
       "      <td>...</td>\n",
       "      <td>...</td>\n",
       "      <td>...</td>\n",
       "      <td>...</td>\n",
       "      <td>...</td>\n",
       "      <td>...</td>\n",
       "      <td>...</td>\n",
       "      <td>...</td>\n",
       "      <td>...</td>\n",
       "      <td>...</td>\n",
       "      <td>...</td>\n",
       "      <td>...</td>\n",
       "      <td>...</td>\n",
       "      <td>...</td>\n",
       "    </tr>\n",
       "    <tr>\n",
       "      <th>1639</th>\n",
       "      <td>Jakarta Selatan</td>\n",
       "      <td>1.0</td>\n",
       "      <td>4.8</td>\n",
       "      <td>4.0</td>\n",
       "      <td>Kos Campur</td>\n",
       "      <td>15.00</td>\n",
       "      <td>1</td>\n",
       "      <td>1</td>\n",
       "      <td>1</td>\n",
       "      <td>1</td>\n",
       "      <td>...</td>\n",
       "      <td>1</td>\n",
       "      <td>0</td>\n",
       "      <td>1</td>\n",
       "      <td>0</td>\n",
       "      <td>1</td>\n",
       "      <td>1</td>\n",
       "      <td>0</td>\n",
       "      <td>0</td>\n",
       "      <td>0</td>\n",
       "      <td>1</td>\n",
       "    </tr>\n",
       "    <tr>\n",
       "      <th>1096</th>\n",
       "      <td>Jakarta Utara</td>\n",
       "      <td>0.0</td>\n",
       "      <td>0.0</td>\n",
       "      <td>0.0</td>\n",
       "      <td>Kos Campur</td>\n",
       "      <td>12.00</td>\n",
       "      <td>1</td>\n",
       "      <td>1</td>\n",
       "      <td>1</td>\n",
       "      <td>1</td>\n",
       "      <td>...</td>\n",
       "      <td>0</td>\n",
       "      <td>1</td>\n",
       "      <td>0</td>\n",
       "      <td>0</td>\n",
       "      <td>0</td>\n",
       "      <td>0</td>\n",
       "      <td>0</td>\n",
       "      <td>0</td>\n",
       "      <td>0</td>\n",
       "      <td>1</td>\n",
       "    </tr>\n",
       "    <tr>\n",
       "      <th>1131</th>\n",
       "      <td>Bekasi</td>\n",
       "      <td>1.0</td>\n",
       "      <td>0.0</td>\n",
       "      <td>2.0</td>\n",
       "      <td>Kos Campur</td>\n",
       "      <td>9.00</td>\n",
       "      <td>0</td>\n",
       "      <td>1</td>\n",
       "      <td>1</td>\n",
       "      <td>1</td>\n",
       "      <td>...</td>\n",
       "      <td>0</td>\n",
       "      <td>1</td>\n",
       "      <td>0</td>\n",
       "      <td>1</td>\n",
       "      <td>1</td>\n",
       "      <td>0</td>\n",
       "      <td>1</td>\n",
       "      <td>0</td>\n",
       "      <td>0</td>\n",
       "      <td>1</td>\n",
       "    </tr>\n",
       "    <tr>\n",
       "      <th>1295</th>\n",
       "      <td>Jakarta Pusat</td>\n",
       "      <td>0.0</td>\n",
       "      <td>0.0</td>\n",
       "      <td>0.0</td>\n",
       "      <td>Kos Putri</td>\n",
       "      <td>17.50</td>\n",
       "      <td>0</td>\n",
       "      <td>1</td>\n",
       "      <td>1</td>\n",
       "      <td>1</td>\n",
       "      <td>...</td>\n",
       "      <td>0</td>\n",
       "      <td>1</td>\n",
       "      <td>0</td>\n",
       "      <td>1</td>\n",
       "      <td>1</td>\n",
       "      <td>0</td>\n",
       "      <td>0</td>\n",
       "      <td>0</td>\n",
       "      <td>0</td>\n",
       "      <td>1</td>\n",
       "    </tr>\n",
       "    <tr>\n",
       "      <th>861</th>\n",
       "      <td>Jakarta Selatan</td>\n",
       "      <td>0.0</td>\n",
       "      <td>4.0</td>\n",
       "      <td>13.0</td>\n",
       "      <td>Kos Campur</td>\n",
       "      <td>9.00</td>\n",
       "      <td>0</td>\n",
       "      <td>1</td>\n",
       "      <td>1</td>\n",
       "      <td>1</td>\n",
       "      <td>...</td>\n",
       "      <td>0</td>\n",
       "      <td>0</td>\n",
       "      <td>0</td>\n",
       "      <td>0</td>\n",
       "      <td>0</td>\n",
       "      <td>0</td>\n",
       "      <td>0</td>\n",
       "      <td>0</td>\n",
       "      <td>1</td>\n",
       "      <td>1</td>\n",
       "    </tr>\n",
       "  </tbody>\n",
       "</table>\n",
       "<p>1737 rows × 42 columns</p>\n",
       "</div>"
      ],
      "text/plain": [
       "               region  room_availability_bs  rating  transaction_count  \\\n",
       "927            Bekasi                   1.0     0.0                0.0   \n",
       "1986            Depok                   0.0     4.9               42.0   \n",
       "1201           Bekasi                   0.0     0.0                3.0   \n",
       "1583    Jakarta Barat                   2.0     4.9               15.0   \n",
       "553     Jakarta Barat                   2.0     0.0               11.0   \n",
       "...               ...                   ...     ...                ...   \n",
       "1639  Jakarta Selatan                   1.0     4.8                4.0   \n",
       "1096    Jakarta Utara                   0.0     0.0                0.0   \n",
       "1131           Bekasi                   1.0     0.0                2.0   \n",
       "1295    Jakarta Pusat                   0.0     0.0                0.0   \n",
       "861   Jakarta Selatan                   0.0     4.0               13.0   \n",
       "\n",
       "        tipe_kos  room_area  is_discount  Parkir_Motor  Lemari_Baju  WiFi  \\\n",
       "927   Kos Campur       9.00            0             0            0     1   \n",
       "1986   Kos Putri       8.75            1             1            1     1   \n",
       "1201   Kos Putri       9.00            0             1            1     1   \n",
       "1583  Kos Campur       9.00            1             1            1     1   \n",
       "553    Kos Putri      12.00            1             1            1     1   \n",
       "...          ...        ...          ...           ...          ...   ...   \n",
       "1639  Kos Campur      15.00            1             1            1     1   \n",
       "1096  Kos Campur      12.00            1             1            1     1   \n",
       "1131  Kos Campur       9.00            0             1            1     1   \n",
       "1295   Kos Putri      17.50            0             1            1     1   \n",
       "861   Kos Campur       9.00            0             1            1     1   \n",
       "\n",
       "      ...  K_Mandi_Luar  Jemuran  Dispenser  Wastafel  Air_panas  R_Makan  \\\n",
       "927   ...             0        1          0         0          0        0   \n",
       "1986  ...             0        0          0         0          0        0   \n",
       "1201  ...             0        1          1         0          0        0   \n",
       "1583  ...             0        0          0         0          0        0   \n",
       "553   ...             0        0          0         1          1        1   \n",
       "...   ...           ...      ...        ...       ...        ...      ...   \n",
       "1639  ...             1        0          1         0          1        1   \n",
       "1096  ...             0        1          0         0          0        0   \n",
       "1131  ...             0        1          0         1          1        0   \n",
       "1295  ...             0        1          0         1          1        0   \n",
       "861   ...             0        0          0         0          0        0   \n",
       "\n",
       "      R_Cuci  R_Santai  Kloset_Jongkok  Termasuk_listrik  \n",
       "927        0         1               1                 1  \n",
       "1986       1         0               0                 1  \n",
       "1201       1         0               0                 1  \n",
       "1583       0         0               0                 1  \n",
       "553        1         1               0                 1  \n",
       "...      ...       ...             ...               ...  \n",
       "1639       0         0               0                 1  \n",
       "1096       0         0               0                 1  \n",
       "1131       1         0               0                 1  \n",
       "1295       0         0               0                 1  \n",
       "861        0         0               1                 1  \n",
       "\n",
       "[1737 rows x 42 columns]"
      ]
     },
     "execution_count": 29,
     "metadata": {},
     "output_type": "execute_result"
    }
   ],
   "source": [
    "df_x = df.drop(columns=['price', 'region_group'])\n",
    "df_y = df['price']\n",
    "\n",
    "\n",
    "x_train, x_test, y_train, y_test = train_test_split(df_x, df_y, test_size= 0.30, random_state=42)\n",
    "\n",
    "y_train_log = np.log1p(y_train)\n",
    "\n",
    "x_train"
   ]
  },
  {
   "cell_type": "code",
   "execution_count": 30,
   "metadata": {},
   "outputs": [],
   "source": [
    "# Kolom kategori\n",
    "categorical_features = ['region', 'tipe_kos']\n",
    "\n",
    "# Kolom numerik\n",
    "numerical_features = ['room_area', 'is_discount', 'rating', 'transaction_count', 'room_availability_bs']\n",
    "\n",
    "# Kolom fasilitas (binary 0/1)\n",
    "facility_features = [\n",
    "    'Parkir_Motor', 'Lemari_Baju', 'WiFi', 'Bantal', 'Dapur', 'AC', 'K_Mandi_Dalam',\n",
    "    'Shower', 'Kloset_Duduk', 'Meja', 'Jendela', 'R_Jemur', 'TV', 'Kulkas', 'Penjaga_Kos',\n",
    "    'Kursi', 'R_Tamu', 'Parkir_Mobil', 'Parkir_Sepeda', 'Cermin', 'Ventilasi', 'CCTV',\n",
    "    'Parkir_Motor_&_Sepeda', 'Guling', 'Ember_mandi', 'K_Mandi_Luar', 'Jemuran', 'Dispenser',\n",
    "    'Wastafel', 'Air_panas', 'R_Makan', 'R_Cuci', 'R_Santai', 'Kloset_Jongkok', 'Termasuk_listrik'\n",
    "]\n",
    "\n",
    "# Preprocessor\n",
    "preprocessor = ColumnTransformer(\n",
    "    transformers=[\n",
    "        ('cat', OneHotEncoder(handle_unknown='ignore', drop='first'), categorical_features),\n",
    "        ('num', StandardScaler(), numerical_features),\n",
    "        ('fac', 'passthrough', facility_features)\n",
    "    ]\n",
    ")\n",
    "\n",
    "x_train_processed = preprocessor.fit_transform(x_train)\n",
    "x_test_processed = preprocessor.transform(x_test)"
   ]
  },
  {
   "cell_type": "code",
   "execution_count": 31,
   "metadata": {},
   "outputs": [
    {
     "name": "stdout",
     "output_type": "stream",
     "text": [
      "                          feature        VIF\n",
      "50          fac__Termasuk_listrik  57.829768\n",
      "16              fac__Parkir_Motor  23.201121\n",
      "17               fac__Lemari_Baju  15.812642\n",
      "24              fac__Kloset_Duduk  13.771421\n",
      "18                      fac__WiFi  12.720640\n",
      "19                    fac__Bantal   8.686497\n",
      "22             fac__K_Mandi_Dalam   8.291093\n",
      "21                        fac__AC   7.482781\n",
      "23                    fac__Shower   7.276432\n",
      "25                      fac__Meja   7.238807\n",
      "28                        fac__TV   6.271553\n",
      "20                     fac__Dapur   6.087960\n",
      "29                    fac__Kulkas   4.318940\n",
      "49            fac__Kloset_Jongkok   4.265502\n",
      "27                   fac__R_Jemur   4.194506\n",
      "37                      fac__CCTV   4.156171\n",
      "26                   fac__Jendela   3.890162\n",
      "31                     fac__Kursi   3.752856\n",
      "41              fac__K_Mandi_Luar   3.035180\n",
      "32                    fac__R_Tamu   2.968598\n",
      "30               fac__Penjaga_Kos   2.877791\n",
      "33              fac__Parkir_Mobil   2.737775\n",
      "35                    fac__Cermin   2.604442\n",
      "45                 fac__Air_panas   2.556684\n",
      "34             fac__Parkir_Sepeda   2.463318\n",
      "38     fac__Parkir_Motor_&_Sepeda   2.350888\n",
      "40               fac__Ember_mandi   2.299495\n",
      "4     cat__region_Jakarta Selatan   2.227426\n",
      "42                   fac__Jemuran   2.218606\n",
      "3       cat__region_Jakarta Pusat   2.208851\n",
      "48                  fac__R_Santai   2.200884\n",
      "46                   fac__R_Makan   2.198847\n",
      "2       cat__region_Jakarta Barat   2.162471\n",
      "5       cat__region_Jakarta Timur   2.154999\n",
      "39                    fac__Guling   2.104298\n",
      "1               cat__region_Depok   2.077522\n",
      "36                 fac__Ventilasi   2.065670\n",
      "43                 fac__Dispenser   1.964452\n",
      "44                  fac__Wastafel   1.963787\n",
      "10        cat__tipe_kos_Kos Putri   1.952963\n",
      "6       cat__region_Jakarta Utara   1.933932\n",
      "8   cat__region_Tangerang Selatan   1.924309\n",
      "0               cat__region_Bogor   1.921258\n",
      "47                    fac__R_Cuci   1.912929\n",
      "12               num__is_discount   1.872417\n",
      "7           cat__region_Tangerang   1.820796\n",
      "13                    num__rating   1.790554\n",
      "9         cat__tipe_kos_Kos Putra   1.474730\n",
      "14         num__transaction_count   1.398127\n",
      "11                 num__room_area   1.231706\n",
      "15      num__room_availability_bs   1.093317\n"
     ]
    }
   ],
   "source": [
    "# Ambil nama kolom setelah transformasi\n",
    "feature_names = preprocessor.get_feature_names_out()\n",
    "\n",
    "# Ubah hasil transformasi ke DataFrame\n",
    "X = pd.DataFrame(x_train_processed, columns=feature_names)\n",
    "\n",
    "# Hitung VIF\n",
    "vif_data = pd.DataFrame()\n",
    "vif_data[\"feature\"] = X.columns\n",
    "vif_data[\"VIF\"] = [\n",
    "    variance_inflation_factor(X.values, i)\n",
    "    for i in range(X.shape[1])\n",
    "]\n",
    "\n",
    "print(vif_data.sort_values(\"VIF\", ascending=False))\n"
   ]
  },
  {
   "cell_type": "code",
   "execution_count": null,
   "metadata": {},
   "outputs": [],
   "source": [
    "# Convert ke DataFrame\n",
    "x_train_processed_df = pd.DataFrame(x_train_processed, columns=feature_names)\n",
    "x_test_processed_df = pd.DataFrame(x_test_processed, columns=feature_names)\n",
    "\n",
    "#hapus feature yang memiliki vif tinggi > 10\n",
    "features_to_remove = ['fac__Termasuk_listrik', 'fac__Parkir_Motor', 'fac__Lemari_Baju', 'fac__Kloset_Duduk', 'fac__WiFi']\n",
    "\n",
    "x_train_processed_df.drop(columns=features_to_remove, inplace=True)\n",
    "x_test_processed_df.drop(columns=features_to_remove, inplace=True)"
   ]
  },
  {
   "cell_type": "code",
   "execution_count": 33,
   "metadata": {},
   "outputs": [
    {
     "data": {
      "text/html": [
       "<table class=\"simpletable\">\n",
       "<caption>OLS Regression Results</caption>\n",
       "<tr>\n",
       "  <th>Dep. Variable:</th>          <td>price</td>      <th>  R-squared:         </th> <td>   0.781</td>\n",
       "</tr>\n",
       "<tr>\n",
       "  <th>Model:</th>                   <td>OLS</td>       <th>  Adj. R-squared:    </th> <td>   0.775</td>\n",
       "</tr>\n",
       "<tr>\n",
       "  <th>Method:</th>             <td>Least Squares</td>  <th>  F-statistic:       </th> <td>   131.3</td>\n",
       "</tr>\n",
       "<tr>\n",
       "  <th>Date:</th>             <td>Mon, 22 Sep 2025</td> <th>  Prob (F-statistic):</th>  <td>  0.00</td> \n",
       "</tr>\n",
       "<tr>\n",
       "  <th>Time:</th>                 <td>00:25:13</td>     <th>  Log-Likelihood:    </th> <td>  261.28</td>\n",
       "</tr>\n",
       "<tr>\n",
       "  <th>No. Observations:</th>      <td>  1737</td>      <th>  AIC:               </th> <td>  -428.6</td>\n",
       "</tr>\n",
       "<tr>\n",
       "  <th>Df Residuals:</th>          <td>  1690</td>      <th>  BIC:               </th> <td>  -171.9</td>\n",
       "</tr>\n",
       "<tr>\n",
       "  <th>Df Model:</th>              <td>    46</td>      <th>                     </th>     <td> </td>   \n",
       "</tr>\n",
       "<tr>\n",
       "  <th>Covariance Type:</th>      <td>nonrobust</td>    <th>                     </th>     <td> </td>   \n",
       "</tr>\n",
       "</table>\n",
       "<table class=\"simpletable\">\n",
       "<tr>\n",
       "                   <td></td>                     <th>coef</th>     <th>std err</th>      <th>t</th>      <th>P>|t|</th>  <th>[0.025</th>    <th>0.975]</th>  \n",
       "</tr>\n",
       "<tr>\n",
       "  <th>Intercept</th>                          <td>   13.6644</td> <td>    0.029</td> <td>  470.480</td> <td> 0.000</td> <td>   13.607</td> <td>   13.721</td>\n",
       "</tr>\n",
       "<tr>\n",
       "  <th>Q(\"cat__region_Bogor\")</th>             <td>   -0.0343</td> <td>    0.022</td> <td>   -1.525</td> <td> 0.128</td> <td>   -0.078</td> <td>    0.010</td>\n",
       "</tr>\n",
       "<tr>\n",
       "  <th>Q(\"cat__region_Depok\")</th>             <td>    0.0488</td> <td>    0.024</td> <td>    2.014</td> <td> 0.044</td> <td>    0.001</td> <td>    0.096</td>\n",
       "</tr>\n",
       "<tr>\n",
       "  <th>Q(\"cat__region_Jakarta Barat\")</th>     <td>    0.2946</td> <td>    0.025</td> <td>   11.858</td> <td> 0.000</td> <td>    0.246</td> <td>    0.343</td>\n",
       "</tr>\n",
       "<tr>\n",
       "  <th>Q(\"cat__region_Jakarta Pusat\")</th>     <td>    0.4094</td> <td>    0.025</td> <td>   16.617</td> <td> 0.000</td> <td>    0.361</td> <td>    0.458</td>\n",
       "</tr>\n",
       "<tr>\n",
       "  <th>Q(\"cat__region_Jakarta Selatan\")</th>   <td>    0.4408</td> <td>    0.025</td> <td>   17.467</td> <td> 0.000</td> <td>    0.391</td> <td>    0.490</td>\n",
       "</tr>\n",
       "<tr>\n",
       "  <th>Q(\"cat__region_Jakarta Timur\")</th>     <td>    0.2206</td> <td>    0.023</td> <td>    9.517</td> <td> 0.000</td> <td>    0.175</td> <td>    0.266</td>\n",
       "</tr>\n",
       "<tr>\n",
       "  <th>Q(\"cat__region_Jakarta Utara\")</th>     <td>    0.2025</td> <td>    0.023</td> <td>    8.708</td> <td> 0.000</td> <td>    0.157</td> <td>    0.248</td>\n",
       "</tr>\n",
       "<tr>\n",
       "  <th>Q(\"cat__region_Tangerang\")</th>         <td>    0.0590</td> <td>    0.023</td> <td>    2.554</td> <td> 0.011</td> <td>    0.014</td> <td>    0.104</td>\n",
       "</tr>\n",
       "<tr>\n",
       "  <th>Q(\"cat__region_Tangerang Selatan\")</th> <td>    0.1117</td> <td>    0.023</td> <td>    4.811</td> <td> 0.000</td> <td>    0.066</td> <td>    0.157</td>\n",
       "</tr>\n",
       "<tr>\n",
       "  <th>Q(\"cat__tipe_kos_Kos Putra\")</th>       <td>   -0.0660</td> <td>    0.018</td> <td>   -3.596</td> <td> 0.000</td> <td>   -0.102</td> <td>   -0.030</td>\n",
       "</tr>\n",
       "<tr>\n",
       "  <th>Q(\"cat__tipe_kos_Kos Putri\")</th>       <td>   -0.0471</td> <td>    0.013</td> <td>   -3.723</td> <td> 0.000</td> <td>   -0.072</td> <td>   -0.022</td>\n",
       "</tr>\n",
       "<tr>\n",
       "  <th>Q(\"num__room_area\")</th>                <td>    0.0467</td> <td>    0.006</td> <td>    8.360</td> <td> 0.000</td> <td>    0.036</td> <td>    0.058</td>\n",
       "</tr>\n",
       "<tr>\n",
       "  <th>Q(\"num__is_discount\")</th>              <td>    0.0087</td> <td>    0.007</td> <td>    1.251</td> <td> 0.211</td> <td>   -0.005</td> <td>    0.022</td>\n",
       "</tr>\n",
       "<tr>\n",
       "  <th>Q(\"num__rating\")</th>                   <td>   -0.0208</td> <td>    0.007</td> <td>   -3.092</td> <td> 0.002</td> <td>   -0.034</td> <td>   -0.008</td>\n",
       "</tr>\n",
       "<tr>\n",
       "  <th>Q(\"num__transaction_count\")</th>        <td>   -0.0092</td> <td>    0.006</td> <td>   -1.536</td> <td> 0.125</td> <td>   -0.021</td> <td>    0.003</td>\n",
       "</tr>\n",
       "<tr>\n",
       "  <th>Q(\"num__room_availability_bs\")</th>     <td>   -0.0035</td> <td>    0.005</td> <td>   -0.660</td> <td> 0.509</td> <td>   -0.014</td> <td>    0.007</td>\n",
       "</tr>\n",
       "<tr>\n",
       "  <th>Q(\"fac__Bantal\")</th>                   <td>   -0.0007</td> <td>    0.016</td> <td>   -0.044</td> <td> 0.965</td> <td>   -0.033</td> <td>    0.031</td>\n",
       "</tr>\n",
       "<tr>\n",
       "  <th>Q(\"fac__Dapur\")</th>                    <td>   -0.0116</td> <td>    0.014</td> <td>   -0.825</td> <td> 0.410</td> <td>   -0.039</td> <td>    0.016</td>\n",
       "</tr>\n",
       "<tr>\n",
       "  <th>Q(\"fac__AC\")</th>                       <td>    0.2966</td> <td>    0.016</td> <td>   18.948</td> <td> 0.000</td> <td>    0.266</td> <td>    0.327</td>\n",
       "</tr>\n",
       "<tr>\n",
       "  <th>Q(\"fac__K_Mandi_Dalam\")</th>            <td>    0.0988</td> <td>    0.016</td> <td>    6.028</td> <td> 0.000</td> <td>    0.067</td> <td>    0.131</td>\n",
       "</tr>\n",
       "<tr>\n",
       "  <th>Q(\"fac__Shower\")</th>                   <td>    0.0201</td> <td>    0.015</td> <td>    1.318</td> <td> 0.188</td> <td>   -0.010</td> <td>    0.050</td>\n",
       "</tr>\n",
       "<tr>\n",
       "  <th>Q(\"fac__Meja\")</th>                     <td>    0.0569</td> <td>    0.016</td> <td>    3.586</td> <td> 0.000</td> <td>    0.026</td> <td>    0.088</td>\n",
       "</tr>\n",
       "<tr>\n",
       "  <th>Q(\"fac__Jendela\")</th>                  <td>    0.0072</td> <td>    0.012</td> <td>    0.586</td> <td> 0.558</td> <td>   -0.017</td> <td>    0.031</td>\n",
       "</tr>\n",
       "<tr>\n",
       "  <th>Q(\"fac__R_Jemur\")</th>                  <td>   -0.0375</td> <td>    0.013</td> <td>   -2.965</td> <td> 0.003</td> <td>   -0.062</td> <td>   -0.013</td>\n",
       "</tr>\n",
       "<tr>\n",
       "  <th>Q(\"fac__TV\")</th>                       <td>    0.0528</td> <td>    0.016</td> <td>    3.262</td> <td> 0.001</td> <td>    0.021</td> <td>    0.084</td>\n",
       "</tr>\n",
       "<tr>\n",
       "  <th>Q(\"fac__Kulkas\")</th>                   <td>    0.0613</td> <td>    0.014</td> <td>    4.541</td> <td> 0.000</td> <td>    0.035</td> <td>    0.088</td>\n",
       "</tr>\n",
       "<tr>\n",
       "  <th>Q(\"fac__Penjaga_Kos\")</th>              <td>   -0.0180</td> <td>    0.012</td> <td>   -1.568</td> <td> 0.117</td> <td>   -0.041</td> <td>    0.005</td>\n",
       "</tr>\n",
       "<tr>\n",
       "  <th>Q(\"fac__Kursi\")</th>                    <td>   -0.0069</td> <td>    0.013</td> <td>   -0.509</td> <td> 0.611</td> <td>   -0.033</td> <td>    0.020</td>\n",
       "</tr>\n",
       "<tr>\n",
       "  <th>Q(\"fac__R_Tamu\")</th>                   <td>    0.0173</td> <td>    0.012</td> <td>    1.426</td> <td> 0.154</td> <td>   -0.007</td> <td>    0.041</td>\n",
       "</tr>\n",
       "<tr>\n",
       "  <th>Q(\"fac__Parkir_Mobil\")</th>             <td>    0.0778</td> <td>    0.012</td> <td>    6.530</td> <td> 0.000</td> <td>    0.054</td> <td>    0.101</td>\n",
       "</tr>\n",
       "<tr>\n",
       "  <th>Q(\"fac__Parkir_Sepeda\")</th>            <td>   -0.0273</td> <td>    0.011</td> <td>   -2.427</td> <td> 0.015</td> <td>   -0.049</td> <td>   -0.005</td>\n",
       "</tr>\n",
       "<tr>\n",
       "  <th>Q(\"fac__Cermin\")</th>                   <td>    0.0379</td> <td>    0.012</td> <td>    3.159</td> <td> 0.002</td> <td>    0.014</td> <td>    0.061</td>\n",
       "</tr>\n",
       "<tr>\n",
       "  <th>Q(\"fac__Ventilasi\")</th>                <td>    0.0036</td> <td>    0.011</td> <td>    0.320</td> <td> 0.749</td> <td>   -0.018</td> <td>    0.025</td>\n",
       "</tr>\n",
       "<tr>\n",
       "  <th>Q(\"fac__CCTV\")</th>                     <td>   -0.0371</td> <td>    0.016</td> <td>   -2.338</td> <td> 0.020</td> <td>   -0.068</td> <td>   -0.006</td>\n",
       "</tr>\n",
       "<tr>\n",
       "  <th>Q(\"fac__Parkir_Motor_&_Sepeda\")</th>    <td>   -0.0379</td> <td>    0.012</td> <td>   -3.205</td> <td> 0.001</td> <td>   -0.061</td> <td>   -0.015</td>\n",
       "</tr>\n",
       "<tr>\n",
       "  <th>Q(\"fac__Guling\")</th>                   <td>   -0.0219</td> <td>    0.012</td> <td>   -1.863</td> <td> 0.063</td> <td>   -0.045</td> <td>    0.001</td>\n",
       "</tr>\n",
       "<tr>\n",
       "  <th>Q(\"fac__Ember_mandi\")</th>              <td>   -0.0597</td> <td>    0.013</td> <td>   -4.583</td> <td> 0.000</td> <td>   -0.085</td> <td>   -0.034</td>\n",
       "</tr>\n",
       "<tr>\n",
       "  <th>Q(\"fac__K_Mandi_Luar\")</th>             <td>   -0.0677</td> <td>    0.015</td> <td>   -4.528</td> <td> 0.000</td> <td>   -0.097</td> <td>   -0.038</td>\n",
       "</tr>\n",
       "<tr>\n",
       "  <th>Q(\"fac__Jemuran\")</th>                  <td>   -0.0219</td> <td>    0.013</td> <td>   -1.670</td> <td> 0.095</td> <td>   -0.048</td> <td>    0.004</td>\n",
       "</tr>\n",
       "<tr>\n",
       "  <th>Q(\"fac__Dispenser\")</th>                <td>    0.0436</td> <td>    0.012</td> <td>    3.579</td> <td> 0.000</td> <td>    0.020</td> <td>    0.067</td>\n",
       "</tr>\n",
       "<tr>\n",
       "  <th>Q(\"fac__Wastafel\")</th>                 <td>    0.0667</td> <td>    0.012</td> <td>    5.337</td> <td> 0.000</td> <td>    0.042</td> <td>    0.091</td>\n",
       "</tr>\n",
       "<tr>\n",
       "  <th>Q(\"fac__Air_panas\")</th>                <td>    0.1482</td> <td>    0.014</td> <td>   10.361</td> <td> 0.000</td> <td>    0.120</td> <td>    0.176</td>\n",
       "</tr>\n",
       "<tr>\n",
       "  <th>Q(\"fac__R_Makan\")</th>                  <td>    0.0498</td> <td>    0.013</td> <td>    3.783</td> <td> 0.000</td> <td>    0.024</td> <td>    0.076</td>\n",
       "</tr>\n",
       "<tr>\n",
       "  <th>Q(\"fac__R_Cuci\")</th>                   <td>   -0.0067</td> <td>    0.013</td> <td>   -0.523</td> <td> 0.601</td> <td>   -0.032</td> <td>    0.018</td>\n",
       "</tr>\n",
       "<tr>\n",
       "  <th>Q(\"fac__R_Santai\")</th>                 <td>    0.0115</td> <td>    0.014</td> <td>    0.837</td> <td> 0.403</td> <td>   -0.015</td> <td>    0.038</td>\n",
       "</tr>\n",
       "<tr>\n",
       "  <th>Q(\"fac__Kloset_Jongkok\")</th>           <td>   -0.1249</td> <td>    0.015</td> <td>   -8.136</td> <td> 0.000</td> <td>   -0.155</td> <td>   -0.095</td>\n",
       "</tr>\n",
       "</table>\n",
       "<table class=\"simpletable\">\n",
       "<tr>\n",
       "  <th>Omnibus:</th>       <td>146.538</td> <th>  Durbin-Watson:     </th> <td>   1.995</td> \n",
       "</tr>\n",
       "<tr>\n",
       "  <th>Prob(Omnibus):</th> <td> 0.000</td>  <th>  Jarque-Bera (JB):  </th> <td> 495.871</td> \n",
       "</tr>\n",
       "<tr>\n",
       "  <th>Skew:</th>          <td> 0.383</td>  <th>  Prob(JB):          </th> <td>2.10e-108</td>\n",
       "</tr>\n",
       "<tr>\n",
       "  <th>Kurtosis:</th>      <td> 5.503</td>  <th>  Cond. No.          </th> <td>    34.6</td> \n",
       "</tr>\n",
       "</table><br/><br/>Notes:<br/>[1] Standard Errors assume that the covariance matrix of the errors is correctly specified."
      ],
      "text/latex": [
       "\\begin{center}\n",
       "\\begin{tabular}{lclc}\n",
       "\\toprule\n",
       "\\textbf{Dep. Variable:}                        &      price       & \\textbf{  R-squared:         } &     0.781   \\\\\n",
       "\\textbf{Model:}                                &       OLS        & \\textbf{  Adj. R-squared:    } &     0.775   \\\\\n",
       "\\textbf{Method:}                               &  Least Squares   & \\textbf{  F-statistic:       } &     131.3   \\\\\n",
       "\\textbf{Date:}                                 & Mon, 22 Sep 2025 & \\textbf{  Prob (F-statistic):} &     0.00    \\\\\n",
       "\\textbf{Time:}                                 &     00:25:13     & \\textbf{  Log-Likelihood:    } &    261.28   \\\\\n",
       "\\textbf{No. Observations:}                     &        1737      & \\textbf{  AIC:               } &    -428.6   \\\\\n",
       "\\textbf{Df Residuals:}                         &        1690      & \\textbf{  BIC:               } &    -171.9   \\\\\n",
       "\\textbf{Df Model:}                             &          46      & \\textbf{                     } &             \\\\\n",
       "\\textbf{Covariance Type:}                      &    nonrobust     & \\textbf{                     } &             \\\\\n",
       "\\bottomrule\n",
       "\\end{tabular}\n",
       "\\begin{tabular}{lcccccc}\n",
       "                                               & \\textbf{coef} & \\textbf{std err} & \\textbf{t} & \\textbf{P$> |$t$|$} & \\textbf{[0.025} & \\textbf{0.975]}  \\\\\n",
       "\\midrule\n",
       "\\textbf{Intercept}                             &      13.6644  &        0.029     &   470.480  &         0.000        &       13.607    &       13.721     \\\\\n",
       "\\textbf{Q(\"cat\\_\\_region\\_Bogor\")}             &      -0.0343  &        0.022     &    -1.525  &         0.128        &       -0.078    &        0.010     \\\\\n",
       "\\textbf{Q(\"cat\\_\\_region\\_Depok\")}             &       0.0488  &        0.024     &     2.014  &         0.044        &        0.001    &        0.096     \\\\\n",
       "\\textbf{Q(\"cat\\_\\_region\\_Jakarta Barat\")}     &       0.2946  &        0.025     &    11.858  &         0.000        &        0.246    &        0.343     \\\\\n",
       "\\textbf{Q(\"cat\\_\\_region\\_Jakarta Pusat\")}     &       0.4094  &        0.025     &    16.617  &         0.000        &        0.361    &        0.458     \\\\\n",
       "\\textbf{Q(\"cat\\_\\_region\\_Jakarta Selatan\")}   &       0.4408  &        0.025     &    17.467  &         0.000        &        0.391    &        0.490     \\\\\n",
       "\\textbf{Q(\"cat\\_\\_region\\_Jakarta Timur\")}     &       0.2206  &        0.023     &     9.517  &         0.000        &        0.175    &        0.266     \\\\\n",
       "\\textbf{Q(\"cat\\_\\_region\\_Jakarta Utara\")}     &       0.2025  &        0.023     &     8.708  &         0.000        &        0.157    &        0.248     \\\\\n",
       "\\textbf{Q(\"cat\\_\\_region\\_Tangerang\")}         &       0.0590  &        0.023     &     2.554  &         0.011        &        0.014    &        0.104     \\\\\n",
       "\\textbf{Q(\"cat\\_\\_region\\_Tangerang Selatan\")} &       0.1117  &        0.023     &     4.811  &         0.000        &        0.066    &        0.157     \\\\\n",
       "\\textbf{Q(\"cat\\_\\_tipe\\_kos\\_Kos Putra\")}      &      -0.0660  &        0.018     &    -3.596  &         0.000        &       -0.102    &       -0.030     \\\\\n",
       "\\textbf{Q(\"cat\\_\\_tipe\\_kos\\_Kos Putri\")}      &      -0.0471  &        0.013     &    -3.723  &         0.000        &       -0.072    &       -0.022     \\\\\n",
       "\\textbf{Q(\"num\\_\\_room\\_area\")}                &       0.0467  &        0.006     &     8.360  &         0.000        &        0.036    &        0.058     \\\\\n",
       "\\textbf{Q(\"num\\_\\_is\\_discount\")}              &       0.0087  &        0.007     &     1.251  &         0.211        &       -0.005    &        0.022     \\\\\n",
       "\\textbf{Q(\"num\\_\\_rating\")}                    &      -0.0208  &        0.007     &    -3.092  &         0.002        &       -0.034    &       -0.008     \\\\\n",
       "\\textbf{Q(\"num\\_\\_transaction\\_count\")}        &      -0.0092  &        0.006     &    -1.536  &         0.125        &       -0.021    &        0.003     \\\\\n",
       "\\textbf{Q(\"num\\_\\_room\\_availability\\_bs\")}    &      -0.0035  &        0.005     &    -0.660  &         0.509        &       -0.014    &        0.007     \\\\\n",
       "\\textbf{Q(\"fac\\_\\_Bantal\")}                    &      -0.0007  &        0.016     &    -0.044  &         0.965        &       -0.033    &        0.031     \\\\\n",
       "\\textbf{Q(\"fac\\_\\_Dapur\")}                     &      -0.0116  &        0.014     &    -0.825  &         0.410        &       -0.039    &        0.016     \\\\\n",
       "\\textbf{Q(\"fac\\_\\_AC\")}                        &       0.2966  &        0.016     &    18.948  &         0.000        &        0.266    &        0.327     \\\\\n",
       "\\textbf{Q(\"fac\\_\\_K\\_Mandi\\_Dalam\")}           &       0.0988  &        0.016     &     6.028  &         0.000        &        0.067    &        0.131     \\\\\n",
       "\\textbf{Q(\"fac\\_\\_Shower\")}                    &       0.0201  &        0.015     &     1.318  &         0.188        &       -0.010    &        0.050     \\\\\n",
       "\\textbf{Q(\"fac\\_\\_Meja\")}                      &       0.0569  &        0.016     &     3.586  &         0.000        &        0.026    &        0.088     \\\\\n",
       "\\textbf{Q(\"fac\\_\\_Jendela\")}                   &       0.0072  &        0.012     &     0.586  &         0.558        &       -0.017    &        0.031     \\\\\n",
       "\\textbf{Q(\"fac\\_\\_R\\_Jemur\")}                  &      -0.0375  &        0.013     &    -2.965  &         0.003        &       -0.062    &       -0.013     \\\\\n",
       "\\textbf{Q(\"fac\\_\\_TV\")}                        &       0.0528  &        0.016     &     3.262  &         0.001        &        0.021    &        0.084     \\\\\n",
       "\\textbf{Q(\"fac\\_\\_Kulkas\")}                    &       0.0613  &        0.014     &     4.541  &         0.000        &        0.035    &        0.088     \\\\\n",
       "\\textbf{Q(\"fac\\_\\_Penjaga\\_Kos\")}              &      -0.0180  &        0.012     &    -1.568  &         0.117        &       -0.041    &        0.005     \\\\\n",
       "\\textbf{Q(\"fac\\_\\_Kursi\")}                     &      -0.0069  &        0.013     &    -0.509  &         0.611        &       -0.033    &        0.020     \\\\\n",
       "\\textbf{Q(\"fac\\_\\_R\\_Tamu\")}                   &       0.0173  &        0.012     &     1.426  &         0.154        &       -0.007    &        0.041     \\\\\n",
       "\\textbf{Q(\"fac\\_\\_Parkir\\_Mobil\")}             &       0.0778  &        0.012     &     6.530  &         0.000        &        0.054    &        0.101     \\\\\n",
       "\\textbf{Q(\"fac\\_\\_Parkir\\_Sepeda\")}            &      -0.0273  &        0.011     &    -2.427  &         0.015        &       -0.049    &       -0.005     \\\\\n",
       "\\textbf{Q(\"fac\\_\\_Cermin\")}                    &       0.0379  &        0.012     &     3.159  &         0.002        &        0.014    &        0.061     \\\\\n",
       "\\textbf{Q(\"fac\\_\\_Ventilasi\")}                 &       0.0036  &        0.011     &     0.320  &         0.749        &       -0.018    &        0.025     \\\\\n",
       "\\textbf{Q(\"fac\\_\\_CCTV\")}                      &      -0.0371  &        0.016     &    -2.338  &         0.020        &       -0.068    &       -0.006     \\\\\n",
       "\\textbf{Q(\"fac\\_\\_Parkir\\_Motor\\_\\&\\_Sepeda\")} &      -0.0379  &        0.012     &    -3.205  &         0.001        &       -0.061    &       -0.015     \\\\\n",
       "\\textbf{Q(\"fac\\_\\_Guling\")}                    &      -0.0219  &        0.012     &    -1.863  &         0.063        &       -0.045    &        0.001     \\\\\n",
       "\\textbf{Q(\"fac\\_\\_Ember\\_mandi\")}              &      -0.0597  &        0.013     &    -4.583  &         0.000        &       -0.085    &       -0.034     \\\\\n",
       "\\textbf{Q(\"fac\\_\\_K\\_Mandi\\_Luar\")}            &      -0.0677  &        0.015     &    -4.528  &         0.000        &       -0.097    &       -0.038     \\\\\n",
       "\\textbf{Q(\"fac\\_\\_Jemuran\")}                   &      -0.0219  &        0.013     &    -1.670  &         0.095        &       -0.048    &        0.004     \\\\\n",
       "\\textbf{Q(\"fac\\_\\_Dispenser\")}                 &       0.0436  &        0.012     &     3.579  &         0.000        &        0.020    &        0.067     \\\\\n",
       "\\textbf{Q(\"fac\\_\\_Wastafel\")}                  &       0.0667  &        0.012     &     5.337  &         0.000        &        0.042    &        0.091     \\\\\n",
       "\\textbf{Q(\"fac\\_\\_Air\\_panas\")}                &       0.1482  &        0.014     &    10.361  &         0.000        &        0.120    &        0.176     \\\\\n",
       "\\textbf{Q(\"fac\\_\\_R\\_Makan\")}                  &       0.0498  &        0.013     &     3.783  &         0.000        &        0.024    &        0.076     \\\\\n",
       "\\textbf{Q(\"fac\\_\\_R\\_Cuci\")}                   &      -0.0067  &        0.013     &    -0.523  &         0.601        &       -0.032    &        0.018     \\\\\n",
       "\\textbf{Q(\"fac\\_\\_R\\_Santai\")}                 &       0.0115  &        0.014     &     0.837  &         0.403        &       -0.015    &        0.038     \\\\\n",
       "\\textbf{Q(\"fac\\_\\_Kloset\\_Jongkok\")}           &      -0.1249  &        0.015     &    -8.136  &         0.000        &       -0.155    &       -0.095     \\\\\n",
       "\\bottomrule\n",
       "\\end{tabular}\n",
       "\\begin{tabular}{lclc}\n",
       "\\textbf{Omnibus:}       & 146.538 & \\textbf{  Durbin-Watson:     } &     1.995  \\\\\n",
       "\\textbf{Prob(Omnibus):} &   0.000 & \\textbf{  Jarque-Bera (JB):  } &   495.871  \\\\\n",
       "\\textbf{Skew:}          &   0.383 & \\textbf{  Prob(JB):          } & 2.10e-108  \\\\\n",
       "\\textbf{Kurtosis:}      &   5.503 & \\textbf{  Cond. No.          } &      34.6  \\\\\n",
       "\\bottomrule\n",
       "\\end{tabular}\n",
       "%\\caption{OLS Regression Results}\n",
       "\\end{center}\n",
       "\n",
       "Notes: \\newline\n",
       " [1] Standard Errors assume that the covariance matrix of the errors is correctly specified."
      ],
      "text/plain": [
       "<class 'statsmodels.iolib.summary.Summary'>\n",
       "\"\"\"\n",
       "                            OLS Regression Results                            \n",
       "==============================================================================\n",
       "Dep. Variable:                  price   R-squared:                       0.781\n",
       "Model:                            OLS   Adj. R-squared:                  0.775\n",
       "Method:                 Least Squares   F-statistic:                     131.3\n",
       "Date:                Mon, 22 Sep 2025   Prob (F-statistic):               0.00\n",
       "Time:                        00:25:13   Log-Likelihood:                 261.28\n",
       "No. Observations:                1737   AIC:                            -428.6\n",
       "Df Residuals:                    1690   BIC:                            -171.9\n",
       "Df Model:                          46                                         \n",
       "Covariance Type:            nonrobust                                         \n",
       "======================================================================================================\n",
       "                                         coef    std err          t      P>|t|      [0.025      0.975]\n",
       "------------------------------------------------------------------------------------------------------\n",
       "Intercept                             13.6644      0.029    470.480      0.000      13.607      13.721\n",
       "Q(\"cat__region_Bogor\")                -0.0343      0.022     -1.525      0.128      -0.078       0.010\n",
       "Q(\"cat__region_Depok\")                 0.0488      0.024      2.014      0.044       0.001       0.096\n",
       "Q(\"cat__region_Jakarta Barat\")         0.2946      0.025     11.858      0.000       0.246       0.343\n",
       "Q(\"cat__region_Jakarta Pusat\")         0.4094      0.025     16.617      0.000       0.361       0.458\n",
       "Q(\"cat__region_Jakarta Selatan\")       0.4408      0.025     17.467      0.000       0.391       0.490\n",
       "Q(\"cat__region_Jakarta Timur\")         0.2206      0.023      9.517      0.000       0.175       0.266\n",
       "Q(\"cat__region_Jakarta Utara\")         0.2025      0.023      8.708      0.000       0.157       0.248\n",
       "Q(\"cat__region_Tangerang\")             0.0590      0.023      2.554      0.011       0.014       0.104\n",
       "Q(\"cat__region_Tangerang Selatan\")     0.1117      0.023      4.811      0.000       0.066       0.157\n",
       "Q(\"cat__tipe_kos_Kos Putra\")          -0.0660      0.018     -3.596      0.000      -0.102      -0.030\n",
       "Q(\"cat__tipe_kos_Kos Putri\")          -0.0471      0.013     -3.723      0.000      -0.072      -0.022\n",
       "Q(\"num__room_area\")                    0.0467      0.006      8.360      0.000       0.036       0.058\n",
       "Q(\"num__is_discount\")                  0.0087      0.007      1.251      0.211      -0.005       0.022\n",
       "Q(\"num__rating\")                      -0.0208      0.007     -3.092      0.002      -0.034      -0.008\n",
       "Q(\"num__transaction_count\")           -0.0092      0.006     -1.536      0.125      -0.021       0.003\n",
       "Q(\"num__room_availability_bs\")        -0.0035      0.005     -0.660      0.509      -0.014       0.007\n",
       "Q(\"fac__Bantal\")                      -0.0007      0.016     -0.044      0.965      -0.033       0.031\n",
       "Q(\"fac__Dapur\")                       -0.0116      0.014     -0.825      0.410      -0.039       0.016\n",
       "Q(\"fac__AC\")                           0.2966      0.016     18.948      0.000       0.266       0.327\n",
       "Q(\"fac__K_Mandi_Dalam\")                0.0988      0.016      6.028      0.000       0.067       0.131\n",
       "Q(\"fac__Shower\")                       0.0201      0.015      1.318      0.188      -0.010       0.050\n",
       "Q(\"fac__Meja\")                         0.0569      0.016      3.586      0.000       0.026       0.088\n",
       "Q(\"fac__Jendela\")                      0.0072      0.012      0.586      0.558      -0.017       0.031\n",
       "Q(\"fac__R_Jemur\")                     -0.0375      0.013     -2.965      0.003      -0.062      -0.013\n",
       "Q(\"fac__TV\")                           0.0528      0.016      3.262      0.001       0.021       0.084\n",
       "Q(\"fac__Kulkas\")                       0.0613      0.014      4.541      0.000       0.035       0.088\n",
       "Q(\"fac__Penjaga_Kos\")                 -0.0180      0.012     -1.568      0.117      -0.041       0.005\n",
       "Q(\"fac__Kursi\")                       -0.0069      0.013     -0.509      0.611      -0.033       0.020\n",
       "Q(\"fac__R_Tamu\")                       0.0173      0.012      1.426      0.154      -0.007       0.041\n",
       "Q(\"fac__Parkir_Mobil\")                 0.0778      0.012      6.530      0.000       0.054       0.101\n",
       "Q(\"fac__Parkir_Sepeda\")               -0.0273      0.011     -2.427      0.015      -0.049      -0.005\n",
       "Q(\"fac__Cermin\")                       0.0379      0.012      3.159      0.002       0.014       0.061\n",
       "Q(\"fac__Ventilasi\")                    0.0036      0.011      0.320      0.749      -0.018       0.025\n",
       "Q(\"fac__CCTV\")                        -0.0371      0.016     -2.338      0.020      -0.068      -0.006\n",
       "Q(\"fac__Parkir_Motor_&_Sepeda\")       -0.0379      0.012     -3.205      0.001      -0.061      -0.015\n",
       "Q(\"fac__Guling\")                      -0.0219      0.012     -1.863      0.063      -0.045       0.001\n",
       "Q(\"fac__Ember_mandi\")                 -0.0597      0.013     -4.583      0.000      -0.085      -0.034\n",
       "Q(\"fac__K_Mandi_Luar\")                -0.0677      0.015     -4.528      0.000      -0.097      -0.038\n",
       "Q(\"fac__Jemuran\")                     -0.0219      0.013     -1.670      0.095      -0.048       0.004\n",
       "Q(\"fac__Dispenser\")                    0.0436      0.012      3.579      0.000       0.020       0.067\n",
       "Q(\"fac__Wastafel\")                     0.0667      0.012      5.337      0.000       0.042       0.091\n",
       "Q(\"fac__Air_panas\")                    0.1482      0.014     10.361      0.000       0.120       0.176\n",
       "Q(\"fac__R_Makan\")                      0.0498      0.013      3.783      0.000       0.024       0.076\n",
       "Q(\"fac__R_Cuci\")                      -0.0067      0.013     -0.523      0.601      -0.032       0.018\n",
       "Q(\"fac__R_Santai\")                     0.0115      0.014      0.837      0.403      -0.015       0.038\n",
       "Q(\"fac__Kloset_Jongkok\")              -0.1249      0.015     -8.136      0.000      -0.155      -0.095\n",
       "==============================================================================\n",
       "Omnibus:                      146.538   Durbin-Watson:                   1.995\n",
       "Prob(Omnibus):                  0.000   Jarque-Bera (JB):              495.871\n",
       "Skew:                           0.383   Prob(JB):                    2.10e-108\n",
       "Kurtosis:                       5.503   Cond. No.                         34.6\n",
       "==============================================================================\n",
       "\n",
       "Notes:\n",
       "[1] Standard Errors assume that the covariance matrix of the errors is correctly specified.\n",
       "\"\"\""
      ]
     },
     "execution_count": 33,
     "metadata": {},
     "output_type": "execute_result"
    }
   ],
   "source": [
    "# Concat dengan y_train_log\n",
    "ols_data_train = pd.concat([x_train_processed_df, y_train_log.reset_index(drop=True)], axis=1)\n",
    "\n",
    "# Buat formula\n",
    "all_features = ' + '.join([f'Q(\"{col}\")' for col in x_train_processed_df.columns])\n",
    "ols_formula = f'price ~ {all_features}'\n",
    "\n",
    "# Fit model OLS\n",
    "model_ols = ols(formula=ols_formula, data=ols_data_train).fit()\n",
    "\n",
    "model_ols.summary()"
   ]
  },
  {
   "cell_type": "code",
   "execution_count": 34,
   "metadata": {},
   "outputs": [
    {
     "name": "stdout",
     "output_type": "stream",
     "text": [
      "MAE dari OLS: 251,898.49\n",
      "R-squared dari OLS: 0.75\n"
     ]
    }
   ],
   "source": [
    "y_predict_log = model_ols.predict(x_test_processed_df)\n",
    "\n",
    "# 2. Kembalikan ke skala asli\n",
    "y_predict_actual = np.expm1(y_predict_log)\n",
    "\n",
    "#evaluasi OLS\n",
    "mae = mean_absolute_error(y_test, y_predict_actual)\n",
    "r2 = r2_score(y_test, y_predict_actual)\n",
    "\n",
    "print(f\"MAE dari OLS: {mae:,.2f}\")\n",
    "print(f\"R-squared dari OLS: {r2:.2f}\")"
   ]
  },
  {
   "cell_type": "code",
   "execution_count": 35,
   "metadata": {},
   "outputs": [
    {
     "data": {
      "image/png": "[encoded data removed]",
      "text/plain": [
       "<Figure size 1800x600 with 2 Axes>"
      ]
     },
     "metadata": {},
     "output_type": "display_data"
    }
   ],
   "source": [
    "residual = y_test - y_predict_actual\n",
    "\n",
    "plt.figure(figsize=(18,6))\n",
    "\n",
    "plt.subplot(1,2,1)\n",
    "sns.scatterplot(x = y_predict_actual,\n",
    "                y = residual)\n",
    "plt.axhline(0)\n",
    "plt.title('Fitted Values vs Residual')\n",
    "\n",
    "plt.subplot(1,2,2)\n",
    "sns.histplot(residual)\n",
    "plt.title('Residual Distribution')\n",
    "\n",
    "plt.tight_layout()"
   ]
  },
  {
   "cell_type": "code",
   "execution_count": 36,
   "metadata": {},
   "outputs": [
    {
     "data": {
      "image/png": "[encoded data removed]",
      "text/plain": [
       "<Figure size 800x600 with 1 Axes>"
      ]
     },
     "metadata": {},
     "output_type": "display_data"
    }
   ],
   "source": [
    "# Plot actual vs prediction in models\n",
    "plt.figure(figsize=(8,6))\n",
    "plt.scatter(y_test, y_predict_actual, label=\"Predicted\")\n",
    "\n",
    "# Reference line y = x\n",
    "plt.plot([y_test.min(), y_test.max()], [y_test.min(), y_test.max()], 'r--', label=\"Actual\")\n",
    "\n",
    "\n",
    "plt.xlabel(\"Actual\")\n",
    "plt.ylabel(\"Predicted\")\n",
    "plt.title(\"Actual vs Predicted Rental Price\")\n",
    "plt.legend()\n",
    "plt.grid(linestyle=\"--\", alpha=0.5)\n",
    "plt.show()"
   ]
  },
  {
   "cell_type": "markdown",
   "metadata": {},
   "source": [
    "### Kesimpulan\n",
    "\n",
    "Berdasarkan hasil analisis, model regresi yang dikembangkan mampu menjelaskan 78.1% dari variasi harga sewa kos, yang menunjukkan bahwa fitur-fitur yang digunakan memiliki daya prediksi yang sangat kuat. Faktor lokasi terbukti menjadi pendorong harga yang paling signifikan; sebagai contoh, sebuah kos di Jakarta Selatan cenderung memiliki harga 55% lebih tinggi dibandingkan dengan kos di wilayah referensi (Bekasi). Selain lokasi, fasilitas premium juga memainkan peran kunci, di mana keberadaan air panas dapat menaikkan harga sewa sekitar 16%. Di sisi lain, fitur seperti kloset jongkok secara signifikan menurunkan harga sewa sekitar 11.7%.\n",
    "\n",
    "Secara keseluruhan, model ini mengonfirmasi bahwa harga sewa kos sangat ditentukan oleh kombinasi antara lokasi strategis dan kelengkapan fasilitas modern. Dengan rata-rata kesalahan prediksi (MAE) sekitar Rp 252.000 pada data uji, model ini dapat dianggap sebagai alat yang andal untuk estimasi harga. Keberhasilan ini sangat bergantung pada transformasi logaritma yang telah menstabilkan varians dan memungkinkan interpretasi dampak fitur sebagai perubahan persentase, sehingga memberikan wawasan yang lebih intuitif tentang pendorong utama di pasar sewa kos."
   ]
  }
 ],
 "metadata": {
  "kernelspec": {
   "display_name": "Python 3",
   "language": "python",
   "name": "python3"
  },
  "language_info": {
   "codemirror_mode": {
    "name": "ipython",
    "version": 3
   },
   "file_extension": ".py",
   "mimetype": "text/x-python",
   "name": "python",
   "nbconvert_exporter": "python",
   "pygments_lexer": "ipython3",
   "version": "3.13.7"
  }
 },
 "nbformat": 4,
 "nbformat_minor": 2
}
